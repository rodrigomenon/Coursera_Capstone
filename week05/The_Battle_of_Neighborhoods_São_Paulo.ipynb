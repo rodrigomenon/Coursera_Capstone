{
 "cells": [
  {
   "cell_type": "markdown",
   "metadata": {},
   "source": [
    "# IBM Data Science Capstone - The Battle of Neighborhoods - Week 1"
   ]
  },
  {
   "cell_type": "markdown",
   "metadata": {},
   "source": [
    "**Author: Rodrigo Menon**\n",
    "\n",
    "[Github](https://github.com/rodrigomenon)"
   ]
  },
  {
   "cell_type": "markdown",
   "metadata": {},
   "source": [
    "## Business Problem and Metodology and Audience\n",
    "\n",
    "**Business Problem:** In this project, we will seek to answer the following question: Which neighborhood in the city of São Paulo is the best to establish a pet shop service?\n",
    "\n",
    "**Metodology:** We will use data from geographic coordinates of the city of São Paulo to map its neighborhoods.\n",
    "\n",
    "Next, we will use the Foursquare API to collect neighborhood data and information about venues, such as category and quantities, to help us identify and suggest potential places to start a pet business.\n",
    "\n",
    "**Audience:** This project should be interesting for potential entrepreneurs in the pet shop industry, as well as consumers who want to better understand the market and the availability of this type of service in the city of São Paulo."
   ]
  },
  {
   "cell_type": "markdown",
   "metadata": {},
   "source": [
    "## Importing libraries"
   ]
  },
  {
   "cell_type": "code",
   "execution_count": 1,
   "metadata": {
    "ExecuteTime": {
     "end_time": "2021-04-01T15:17:30.988935Z",
     "start_time": "2021-04-01T15:17:24.840020Z"
    }
   },
   "outputs": [],
   "source": [
    "import pandas as pd\n",
    "import numpy as np\n",
    "import os\n",
    "import matplotlib.pyplot as plt\n",
    "%matplotlib inline\n",
    "import seaborn as sns\n",
    "sns.set_theme(style='darkgrid')\n",
    "\n",
    "import requests                         # library to handle requests\n",
    "from bs4 import BeautifulSoup           # library for pulling data out of HTML and XML files\n",
    "from pandas import json_normalize       # transform json file into a pandas data frame\n",
    "from geopy.geocoders import Nominatim   # convert the address into latitude and longitude values\n",
    "import folium                           # map rendering library\n",
    "import urllib.request\n",
    "from sklearn.cluster import KMeans      # Kmeans\n",
    "from scipy.cluster.hierarchy import dendrogram, linkage\n",
    "\n",
    "# Matplotlib and associated plotting modules\n",
    "import matplotlib.cm as cm\n",
    "import matplotlib.colors as colors\n",
    "\n",
    "pd.set_option('display.max_rows', 200)\n",
    "pd.set_option('display.max_columns', 20)"
   ]
  },
  {
   "cell_type": "markdown",
   "metadata": {},
   "source": [
    "## Session 1- Load and Data Wrangling"
   ]
  },
  {
   "cell_type": "markdown",
   "metadata": {},
   "source": [
    "### Load Data"
   ]
  },
  {
   "cell_type": "markdown",
   "metadata": {},
   "source": [
    "**Distribution of Households, by Income Groups per Capita, by Districts** - [source](http://produtos.seade.gov.br/produtos/msp/index.php?tip=met4&opt=t&subtema=null&tema=ren) \n",
    "\n",
    "Minimum reference salary for the 2000 Census: R$ 151.00.\n"
   ]
  },
  {
   "cell_type": "code",
   "execution_count": 2,
   "metadata": {
    "ExecuteTime": {
     "end_time": "2021-04-01T15:17:31.148870Z",
     "start_time": "2021-04-01T15:17:31.020901Z"
    }
   },
   "outputs": [],
   "source": [
    "df_income = pd.read_excel('data/ren1_001.xls')\n",
    "df_income.dropna(axis=0, inplace=True)\n",
    "df_income.drop(3, inplace=True)\n",
    "df_income.reset_index(drop=True, inplace=True)"
   ]
  },
  {
   "cell_type": "code",
   "execution_count": 3,
   "metadata": {
    "ExecuteTime": {
     "end_time": "2021-04-01T15:17:32.016708Z",
     "start_time": "2021-04-01T15:17:31.968715Z"
    },
    "scrolled": false
   },
   "outputs": [
    {
     "data": {
      "text/html": [
       "<div>\n",
       "<style scoped>\n",
       "    .dataframe tbody tr th:only-of-type {\n",
       "        vertical-align: middle;\n",
       "    }\n",
       "\n",
       "    .dataframe tbody tr th {\n",
       "        vertical-align: top;\n",
       "    }\n",
       "\n",
       "    .dataframe thead th {\n",
       "        text-align: right;\n",
       "    }\n",
       "</style>\n",
       "<table border=\"1\" class=\"dataframe\">\n",
       "  <thead>\n",
       "    <tr style=\"text-align: right;\">\n",
       "      <th></th>\n",
       "      <th>Neighborhood</th>\n",
       "      <th>Less than 2 Minimum Wage</th>\n",
       "      <th>From 2 to Less than 5 Minimum Wage</th>\n",
       "      <th>From 5 to Less than 10 Minimum Wage</th>\n",
       "      <th>From 10 to Less than 15 Minimum Wage</th>\n",
       "      <th>From 15 to Less than 25 Minimum Wage</th>\n",
       "      <th>From 25 Minimum Wage and more</th>\n",
       "    </tr>\n",
       "  </thead>\n",
       "  <tbody>\n",
       "    <tr>\n",
       "      <th>0</th>\n",
       "      <td>Água Rasa</td>\n",
       "      <td>8.33</td>\n",
       "      <td>17.31</td>\n",
       "      <td>26.60</td>\n",
       "      <td>14.01</td>\n",
       "      <td>15.96</td>\n",
       "      <td>17.78</td>\n",
       "    </tr>\n",
       "    <tr>\n",
       "      <th>1</th>\n",
       "      <td>Alto de Pinheiros</td>\n",
       "      <td>3.47</td>\n",
       "      <td>5.44</td>\n",
       "      <td>12.22</td>\n",
       "      <td>9.30</td>\n",
       "      <td>15.85</td>\n",
       "      <td>53.72</td>\n",
       "    </tr>\n",
       "    <tr>\n",
       "      <th>2</th>\n",
       "      <td>Anhanguera</td>\n",
       "      <td>18.29</td>\n",
       "      <td>34.93</td>\n",
       "      <td>31.91</td>\n",
       "      <td>8.90</td>\n",
       "      <td>3.99</td>\n",
       "      <td>1.98</td>\n",
       "    </tr>\n",
       "    <tr>\n",
       "      <th>3</th>\n",
       "      <td>Aricanduva</td>\n",
       "      <td>11.64</td>\n",
       "      <td>24.95</td>\n",
       "      <td>28.47</td>\n",
       "      <td>13.72</td>\n",
       "      <td>13.33</td>\n",
       "      <td>7.88</td>\n",
       "    </tr>\n",
       "    <tr>\n",
       "      <th>4</th>\n",
       "      <td>Artur Alvim</td>\n",
       "      <td>12.03</td>\n",
       "      <td>23.22</td>\n",
       "      <td>31.51</td>\n",
       "      <td>15.87</td>\n",
       "      <td>12.60</td>\n",
       "      <td>4.77</td>\n",
       "    </tr>\n",
       "  </tbody>\n",
       "</table>\n",
       "</div>"
      ],
      "text/plain": [
       "        Neighborhood  Less than 2 Minimum Wage  \\\n",
       "0          Água Rasa                      8.33   \n",
       "1  Alto de Pinheiros                      3.47   \n",
       "2         Anhanguera                     18.29   \n",
       "3         Aricanduva                     11.64   \n",
       "4        Artur Alvim                     12.03   \n",
       "\n",
       "   From 2 to Less than 5 Minimum Wage  From 5 to Less than 10 Minimum Wage  \\\n",
       "0                               17.31                                26.60   \n",
       "1                                5.44                                12.22   \n",
       "2                               34.93                                31.91   \n",
       "3                               24.95                                28.47   \n",
       "4                               23.22                                31.51   \n",
       "\n",
       "   From 10 to Less than 15 Minimum Wage  From 15 to Less than 25 Minimum Wage  \\\n",
       "0                                 14.01                                 15.96   \n",
       "1                                  9.30                                 15.85   \n",
       "2                                  8.90                                  3.99   \n",
       "3                                 13.72                                 13.33   \n",
       "4                                 15.87                                 12.60   \n",
       "\n",
       "   From 25 Minimum Wage and more  \n",
       "0                          17.78  \n",
       "1                          53.72  \n",
       "2                           1.98  \n",
       "3                           7.88  \n",
       "4                           4.77  "
      ]
     },
     "execution_count": 3,
     "metadata": {},
     "output_type": "execute_result"
    }
   ],
   "source": [
    "df_income.rename(columns={'Distritos': 'Neighborhood',\n",
    "                          'Menos de 2 SM': 'Less than 2 Minimum Wage',\n",
    "                          'De 2 a Menos de 5 SM': 'From 2 to Less than 5 Minimum Wage',\n",
    "                          'De 5 a Menos de 10 SM': 'From 5 to Less than 10 Minimum Wage',\n",
    "                          'De 10 a Menos de 15 SM': 'From 10 to Less than 15 Minimum Wage',\n",
    "                          'De 15 a Menos de 25 SM': 'From 15 to Less than 25 Minimum Wage',\n",
    "                          'De 25 SM e Mais ': 'From 25 Minimum Wage and more'}, inplace=True)\n",
    "df_income.head()"
   ]
  },
  {
   "cell_type": "markdown",
   "metadata": {},
   "source": [
    "**fixing the names of the neighborhoods that were misspelled**"
   ]
  },
  {
   "cell_type": "code",
   "execution_count": 4,
   "metadata": {
    "ExecuteTime": {
     "end_time": "2021-04-01T15:17:37.335206Z",
     "start_time": "2021-04-01T15:17:37.311205Z"
    }
   },
   "outputs": [],
   "source": [
    "df_income['Neighborhood'] = df_income['Neighborhood'].replace(['Guaianazes','Moóca', 'Vila Curuça', 'Sao Domingos'], \n",
    "                                                              ['Guaianases', 'Mooca', 'Vila Curuçá', 'São Domingos'])"
   ]
  },
  {
   "cell_type": "markdown",
   "metadata": {},
   "source": [
    "**Loading the Demographic data of the neighborhoods belonging to the Subprefectures**"
   ]
  },
  {
   "cell_type": "code",
   "execution_count": 5,
   "metadata": {
    "ExecuteTime": {
     "end_time": "2021-04-01T15:17:42.506741Z",
     "start_time": "2021-04-01T15:17:39.858682Z"
    },
    "scrolled": true
   },
   "outputs": [
    {
     "data": {
      "text/html": [
       "<div>\n",
       "<style scoped>\n",
       "    .dataframe tbody tr th:only-of-type {\n",
       "        vertical-align: middle;\n",
       "    }\n",
       "\n",
       "    .dataframe tbody tr th {\n",
       "        vertical-align: top;\n",
       "    }\n",
       "\n",
       "    .dataframe thead th {\n",
       "        text-align: right;\n",
       "    }\n",
       "</style>\n",
       "<table border=\"1\" class=\"dataframe\">\n",
       "  <thead>\n",
       "    <tr style=\"text-align: right;\">\n",
       "      <th></th>\n",
       "      <th>Subprefeituras</th>\n",
       "      <th>Distritos</th>\n",
       "      <th>Área (km²)</th>\n",
       "      <th>População (2010)</th>\n",
       "      <th>Densidade Demográfica (Hab/km²)</th>\n",
       "    </tr>\n",
       "  </thead>\n",
       "  <tbody>\n",
       "    <tr>\n",
       "      <th>0</th>\n",
       "      <td>Aricanduva</td>\n",
       "      <td>Aricanduva</td>\n",
       "      <td>660.0</td>\n",
       "      <td>89.622</td>\n",
       "      <td>13.579</td>\n",
       "    </tr>\n",
       "    <tr>\n",
       "      <th>1</th>\n",
       "      <td>Aricanduva</td>\n",
       "      <td>Carrão</td>\n",
       "      <td>750.0</td>\n",
       "      <td>83.281</td>\n",
       "      <td>11.104</td>\n",
       "    </tr>\n",
       "    <tr>\n",
       "      <th>2</th>\n",
       "      <td>Aricanduva</td>\n",
       "      <td>Vila Formosa</td>\n",
       "      <td>740.0</td>\n",
       "      <td>94.799</td>\n",
       "      <td>12.811</td>\n",
       "    </tr>\n",
       "    <tr>\n",
       "      <th>3</th>\n",
       "      <td>Aricanduva</td>\n",
       "      <td>TOTAL</td>\n",
       "      <td>2150.0</td>\n",
       "      <td>267.702</td>\n",
       "      <td>12.451</td>\n",
       "    </tr>\n",
       "    <tr>\n",
       "      <th>4</th>\n",
       "      <td>Butantã</td>\n",
       "      <td>Butantã</td>\n",
       "      <td>1250.0</td>\n",
       "      <td>54.196</td>\n",
       "      <td>4.336</td>\n",
       "    </tr>\n",
       "  </tbody>\n",
       "</table>\n",
       "</div>"
      ],
      "text/plain": [
       "  Subprefeituras     Distritos  Área (km²)  População (2010)  \\\n",
       "0     Aricanduva    Aricanduva       660.0            89.622   \n",
       "1     Aricanduva        Carrão       750.0            83.281   \n",
       "2     Aricanduva  Vila Formosa       740.0            94.799   \n",
       "3     Aricanduva         TOTAL      2150.0           267.702   \n",
       "4        Butantã       Butantã      1250.0            54.196   \n",
       "\n",
       "   Densidade Demográfica (Hab/km²)  \n",
       "0                           13.579  \n",
       "1                           11.104  \n",
       "2                           12.811  \n",
       "3                           12.451  \n",
       "4                            4.336  "
      ]
     },
     "execution_count": 5,
     "metadata": {},
     "output_type": "execute_result"
    }
   ],
   "source": [
    "df_neighborhoods = pd.read_html('https://www.prefeitura.sp.gov.br/cidade/secretarias/subprefeituras/subprefeituras/dados_demograficos/index.php?p=12758')[0]\n",
    "df_neighborhoods.head()"
   ]
  },
  {
   "cell_type": "markdown",
   "metadata": {},
   "source": [
    "### Data Wrangling"
   ]
  },
  {
   "cell_type": "markdown",
   "metadata": {},
   "source": [
    "**Drop columns that will not be use**"
   ]
  },
  {
   "cell_type": "code",
   "execution_count": 6,
   "metadata": {
    "ExecuteTime": {
     "end_time": "2021-04-01T15:17:42.906684Z",
     "start_time": "2021-04-01T15:17:42.882687Z"
    },
    "scrolled": true
   },
   "outputs": [
    {
     "data": {
      "text/html": [
       "<div>\n",
       "<style scoped>\n",
       "    .dataframe tbody tr th:only-of-type {\n",
       "        vertical-align: middle;\n",
       "    }\n",
       "\n",
       "    .dataframe tbody tr th {\n",
       "        vertical-align: top;\n",
       "    }\n",
       "\n",
       "    .dataframe thead th {\n",
       "        text-align: right;\n",
       "    }\n",
       "</style>\n",
       "<table border=\"1\" class=\"dataframe\">\n",
       "  <thead>\n",
       "    <tr style=\"text-align: right;\">\n",
       "      <th></th>\n",
       "      <th>Subprefeituras</th>\n",
       "      <th>Distritos</th>\n",
       "    </tr>\n",
       "  </thead>\n",
       "  <tbody>\n",
       "    <tr>\n",
       "      <th>0</th>\n",
       "      <td>Aricanduva</td>\n",
       "      <td>Aricanduva</td>\n",
       "    </tr>\n",
       "    <tr>\n",
       "      <th>1</th>\n",
       "      <td>Aricanduva</td>\n",
       "      <td>Carrão</td>\n",
       "    </tr>\n",
       "    <tr>\n",
       "      <th>2</th>\n",
       "      <td>Aricanduva</td>\n",
       "      <td>Vila Formosa</td>\n",
       "    </tr>\n",
       "    <tr>\n",
       "      <th>3</th>\n",
       "      <td>Aricanduva</td>\n",
       "      <td>TOTAL</td>\n",
       "    </tr>\n",
       "    <tr>\n",
       "      <th>4</th>\n",
       "      <td>Butantã</td>\n",
       "      <td>Butantã</td>\n",
       "    </tr>\n",
       "  </tbody>\n",
       "</table>\n",
       "</div>"
      ],
      "text/plain": [
       "  Subprefeituras     Distritos\n",
       "0     Aricanduva    Aricanduva\n",
       "1     Aricanduva        Carrão\n",
       "2     Aricanduva  Vila Formosa\n",
       "3     Aricanduva         TOTAL\n",
       "4        Butantã       Butantã"
      ]
     },
     "execution_count": 6,
     "metadata": {},
     "output_type": "execute_result"
    }
   ],
   "source": [
    "df_neighborhoods.drop(df_neighborhoods.columns[[2,3,4]], axis=1, inplace=True)\n",
    "df_neighborhoods.head()"
   ]
  },
  {
   "cell_type": "markdown",
   "metadata": {},
   "source": [
    "**Renaming the columns**"
   ]
  },
  {
   "cell_type": "code",
   "execution_count": 7,
   "metadata": {
    "ExecuteTime": {
     "end_time": "2021-04-01T15:17:51.732949Z",
     "start_time": "2021-04-01T15:17:51.708948Z"
    },
    "scrolled": true
   },
   "outputs": [
    {
     "data": {
      "text/html": [
       "<div>\n",
       "<style scoped>\n",
       "    .dataframe tbody tr th:only-of-type {\n",
       "        vertical-align: middle;\n",
       "    }\n",
       "\n",
       "    .dataframe tbody tr th {\n",
       "        vertical-align: top;\n",
       "    }\n",
       "\n",
       "    .dataframe thead th {\n",
       "        text-align: right;\n",
       "    }\n",
       "</style>\n",
       "<table border=\"1\" class=\"dataframe\">\n",
       "  <thead>\n",
       "    <tr style=\"text-align: right;\">\n",
       "      <th></th>\n",
       "      <th>Subprefecture</th>\n",
       "      <th>Neighborhood</th>\n",
       "    </tr>\n",
       "  </thead>\n",
       "  <tbody>\n",
       "    <tr>\n",
       "      <th>0</th>\n",
       "      <td>Aricanduva</td>\n",
       "      <td>Aricanduva</td>\n",
       "    </tr>\n",
       "    <tr>\n",
       "      <th>1</th>\n",
       "      <td>Aricanduva</td>\n",
       "      <td>Carrão</td>\n",
       "    </tr>\n",
       "    <tr>\n",
       "      <th>2</th>\n",
       "      <td>Aricanduva</td>\n",
       "      <td>Vila Formosa</td>\n",
       "    </tr>\n",
       "    <tr>\n",
       "      <th>3</th>\n",
       "      <td>Aricanduva</td>\n",
       "      <td>TOTAL</td>\n",
       "    </tr>\n",
       "    <tr>\n",
       "      <th>4</th>\n",
       "      <td>Butantã</td>\n",
       "      <td>Butantã</td>\n",
       "    </tr>\n",
       "  </tbody>\n",
       "</table>\n",
       "</div>"
      ],
      "text/plain": [
       "  Subprefecture  Neighborhood\n",
       "0    Aricanduva    Aricanduva\n",
       "1    Aricanduva        Carrão\n",
       "2    Aricanduva  Vila Formosa\n",
       "3    Aricanduva         TOTAL\n",
       "4       Butantã       Butantã"
      ]
     },
     "execution_count": 7,
     "metadata": {},
     "output_type": "execute_result"
    }
   ],
   "source": [
    "df_neighborhoods.rename(columns={'Subprefeituras': 'Subprefecture',\n",
    "                                 'Distritos': 'Neighborhood'}, inplace=True)\n",
    "df_neighborhoods.head()"
   ]
  },
  {
   "cell_type": "markdown",
   "metadata": {},
   "source": [
    "**Drop rows with \"TOTAL\" values**"
   ]
  },
  {
   "cell_type": "code",
   "execution_count": 8,
   "metadata": {
    "ExecuteTime": {
     "end_time": "2021-04-01T15:17:54.415867Z",
     "start_time": "2021-04-01T15:17:54.391865Z"
    }
   },
   "outputs": [],
   "source": [
    "rows_to_exclude = df_neighborhoods[df_neighborhoods['Neighborhood'] == 'TOTAL']\n",
    "df_neighborhoods.drop(rows_to_exclude.index, inplace=True)"
   ]
  },
  {
   "cell_type": "markdown",
   "metadata": {},
   "source": [
    "**Droping missing values**"
   ]
  },
  {
   "cell_type": "code",
   "execution_count": 9,
   "metadata": {
    "ExecuteTime": {
     "end_time": "2021-04-01T15:17:56.901867Z",
     "start_time": "2021-04-01T15:17:56.885872Z"
    },
    "scrolled": true
   },
   "outputs": [
    {
     "data": {
      "text/plain": [
       "Subprefecture    0\n",
       "Neighborhood     1\n",
       "dtype: int64"
      ]
     },
     "execution_count": 9,
     "metadata": {},
     "output_type": "execute_result"
    }
   ],
   "source": [
    "df_neighborhoods.isnull().sum()"
   ]
  },
  {
   "cell_type": "code",
   "execution_count": 11,
   "metadata": {
    "ExecuteTime": {
     "end_time": "2021-04-01T15:18:04.797650Z",
     "start_time": "2021-04-01T15:18:04.750398Z"
    },
    "scrolled": true
   },
   "outputs": [
    {
     "data": {
      "text/html": [
       "<div>\n",
       "<style scoped>\n",
       "    .dataframe tbody tr th:only-of-type {\n",
       "        vertical-align: middle;\n",
       "    }\n",
       "\n",
       "    .dataframe tbody tr th {\n",
       "        vertical-align: top;\n",
       "    }\n",
       "\n",
       "    .dataframe thead th {\n",
       "        text-align: right;\n",
       "    }\n",
       "</style>\n",
       "<table border=\"1\" class=\"dataframe\">\n",
       "  <thead>\n",
       "    <tr style=\"text-align: right;\">\n",
       "      <th></th>\n",
       "      <th>Subprefecture</th>\n",
       "      <th>Neighborhood</th>\n",
       "    </tr>\n",
       "  </thead>\n",
       "  <tbody>\n",
       "    <tr>\n",
       "      <th>0</th>\n",
       "      <td>Aricanduva</td>\n",
       "      <td>Aricanduva</td>\n",
       "    </tr>\n",
       "    <tr>\n",
       "      <th>1</th>\n",
       "      <td>Aricanduva</td>\n",
       "      <td>Carrão</td>\n",
       "    </tr>\n",
       "    <tr>\n",
       "      <th>2</th>\n",
       "      <td>Aricanduva</td>\n",
       "      <td>Vila Formosa</td>\n",
       "    </tr>\n",
       "    <tr>\n",
       "      <th>4</th>\n",
       "      <td>Butantã</td>\n",
       "      <td>Butantã</td>\n",
       "    </tr>\n",
       "    <tr>\n",
       "      <th>5</th>\n",
       "      <td>Butantã</td>\n",
       "      <td>Morumbi</td>\n",
       "    </tr>\n",
       "  </tbody>\n",
       "</table>\n",
       "</div>"
      ],
      "text/plain": [
       "  Subprefecture  Neighborhood\n",
       "0    Aricanduva    Aricanduva\n",
       "1    Aricanduva        Carrão\n",
       "2    Aricanduva  Vila Formosa\n",
       "4       Butantã       Butantã\n",
       "5       Butantã       Morumbi"
      ]
     },
     "execution_count": 11,
     "metadata": {},
     "output_type": "execute_result"
    }
   ],
   "source": [
    "# dropping the missing values\n",
    "df_neighborhoods.dropna(axis=0, inplace=True)\n",
    "df_neighborhoods.head()"
   ]
  },
  {
   "cell_type": "code",
   "execution_count": 12,
   "metadata": {
    "ExecuteTime": {
     "end_time": "2021-04-01T15:18:12.132239Z",
     "start_time": "2021-04-01T15:18:12.124239Z"
    }
   },
   "outputs": [
    {
     "name": "stdout",
     "output_type": "stream",
     "text": [
      "(96, 7)\n",
      "(96, 2)\n"
     ]
    }
   ],
   "source": [
    "print(df_income.shape)\n",
    "print(df_neighborhoods.shape)"
   ]
  },
  {
   "cell_type": "markdown",
   "metadata": {},
   "source": [
    "**Merging the data frames to simplify the analysis**"
   ]
  },
  {
   "cell_type": "code",
   "execution_count": 13,
   "metadata": {
    "ExecuteTime": {
     "end_time": "2021-04-01T15:18:21.454967Z",
     "start_time": "2021-04-01T15:18:21.406971Z"
    },
    "scrolled": true
   },
   "outputs": [
    {
     "data": {
      "text/html": [
       "<div>\n",
       "<style scoped>\n",
       "    .dataframe tbody tr th:only-of-type {\n",
       "        vertical-align: middle;\n",
       "    }\n",
       "\n",
       "    .dataframe tbody tr th {\n",
       "        vertical-align: top;\n",
       "    }\n",
       "\n",
       "    .dataframe thead th {\n",
       "        text-align: right;\n",
       "    }\n",
       "</style>\n",
       "<table border=\"1\" class=\"dataframe\">\n",
       "  <thead>\n",
       "    <tr style=\"text-align: right;\">\n",
       "      <th></th>\n",
       "      <th>Subprefecture</th>\n",
       "      <th>Neighborhood</th>\n",
       "      <th>Less than 2 Minimum Wage</th>\n",
       "      <th>From 2 to Less than 5 Minimum Wage</th>\n",
       "      <th>From 5 to Less than 10 Minimum Wage</th>\n",
       "      <th>From 10 to Less than 15 Minimum Wage</th>\n",
       "      <th>From 15 to Less than 25 Minimum Wage</th>\n",
       "      <th>From 25 Minimum Wage and more</th>\n",
       "    </tr>\n",
       "  </thead>\n",
       "  <tbody>\n",
       "    <tr>\n",
       "      <th>0</th>\n",
       "      <td>Aricanduva</td>\n",
       "      <td>Aricanduva</td>\n",
       "      <td>11.64</td>\n",
       "      <td>24.95</td>\n",
       "      <td>28.47</td>\n",
       "      <td>13.72</td>\n",
       "      <td>13.33</td>\n",
       "      <td>7.88</td>\n",
       "    </tr>\n",
       "    <tr>\n",
       "      <th>1</th>\n",
       "      <td>Aricanduva</td>\n",
       "      <td>Carrão</td>\n",
       "      <td>9.18</td>\n",
       "      <td>18.17</td>\n",
       "      <td>25.82</td>\n",
       "      <td>14.91</td>\n",
       "      <td>16.35</td>\n",
       "      <td>15.58</td>\n",
       "    </tr>\n",
       "    <tr>\n",
       "      <th>2</th>\n",
       "      <td>Aricanduva</td>\n",
       "      <td>Vila Formosa</td>\n",
       "      <td>8.10</td>\n",
       "      <td>20.08</td>\n",
       "      <td>28.69</td>\n",
       "      <td>13.91</td>\n",
       "      <td>13.08</td>\n",
       "      <td>16.14</td>\n",
       "    </tr>\n",
       "    <tr>\n",
       "      <th>3</th>\n",
       "      <td>Butantã</td>\n",
       "      <td>Butantã</td>\n",
       "      <td>4.93</td>\n",
       "      <td>10.60</td>\n",
       "      <td>16.23</td>\n",
       "      <td>12.10</td>\n",
       "      <td>18.25</td>\n",
       "      <td>37.88</td>\n",
       "    </tr>\n",
       "    <tr>\n",
       "      <th>4</th>\n",
       "      <td>Butantã</td>\n",
       "      <td>Morumbi</td>\n",
       "      <td>4.00</td>\n",
       "      <td>9.05</td>\n",
       "      <td>10.76</td>\n",
       "      <td>5.67</td>\n",
       "      <td>9.95</td>\n",
       "      <td>60.58</td>\n",
       "    </tr>\n",
       "  </tbody>\n",
       "</table>\n",
       "</div>"
      ],
      "text/plain": [
       "  Subprefecture  Neighborhood  Less than 2 Minimum Wage  \\\n",
       "0    Aricanduva    Aricanduva                     11.64   \n",
       "1    Aricanduva        Carrão                      9.18   \n",
       "2    Aricanduva  Vila Formosa                      8.10   \n",
       "3       Butantã       Butantã                      4.93   \n",
       "4       Butantã       Morumbi                      4.00   \n",
       "\n",
       "   From 2 to Less than 5 Minimum Wage  From 5 to Less than 10 Minimum Wage  \\\n",
       "0                               24.95                                28.47   \n",
       "1                               18.17                                25.82   \n",
       "2                               20.08                                28.69   \n",
       "3                               10.60                                16.23   \n",
       "4                                9.05                                10.76   \n",
       "\n",
       "   From 10 to Less than 15 Minimum Wage  From 15 to Less than 25 Minimum Wage  \\\n",
       "0                                 13.72                                 13.33   \n",
       "1                                 14.91                                 16.35   \n",
       "2                                 13.91                                 13.08   \n",
       "3                                 12.10                                 18.25   \n",
       "4                                  5.67                                  9.95   \n",
       "\n",
       "   From 25 Minimum Wage and more  \n",
       "0                           7.88  \n",
       "1                          15.58  \n",
       "2                          16.14  \n",
       "3                          37.88  \n",
       "4                          60.58  "
      ]
     },
     "execution_count": 13,
     "metadata": {},
     "output_type": "execute_result"
    }
   ],
   "source": [
    "df_merged = pd.merge(df_neighborhoods, df_income, how='inner', on='Neighborhood')\n",
    "df_merged.head()"
   ]
  },
  {
   "cell_type": "code",
   "execution_count": 14,
   "metadata": {
    "ExecuteTime": {
     "end_time": "2021-04-01T15:18:26.024690Z",
     "start_time": "2021-04-01T15:18:26.000689Z"
    },
    "hide_input": false,
    "scrolled": true
   },
   "outputs": [
    {
     "data": {
      "text/plain": [
       "(96, 8)"
      ]
     },
     "execution_count": 14,
     "metadata": {},
     "output_type": "execute_result"
    }
   ],
   "source": [
    "df_merged.shape"
   ]
  },
  {
   "cell_type": "markdown",
   "metadata": {},
   "source": [
    "**The city of São Paulo is divided in five regions or zones: North, South, East, West, Center. Let's include this zones into our data frame.**"
   ]
  },
  {
   "cell_type": "code",
   "execution_count": 15,
   "metadata": {
    "ExecuteTime": {
     "end_time": "2021-04-01T15:18:37.227329Z",
     "start_time": "2021-04-01T15:18:37.187327Z"
    },
    "scrolled": false
   },
   "outputs": [
    {
     "data": {
      "text/html": [
       "<div>\n",
       "<style scoped>\n",
       "    .dataframe tbody tr th:only-of-type {\n",
       "        vertical-align: middle;\n",
       "    }\n",
       "\n",
       "    .dataframe tbody tr th {\n",
       "        vertical-align: top;\n",
       "    }\n",
       "\n",
       "    .dataframe thead th {\n",
       "        text-align: right;\n",
       "    }\n",
       "</style>\n",
       "<table border=\"1\" class=\"dataframe\">\n",
       "  <thead>\n",
       "    <tr style=\"text-align: right;\">\n",
       "      <th></th>\n",
       "      <th>Bairro</th>\n",
       "      <th>Região</th>\n",
       "    </tr>\n",
       "  </thead>\n",
       "  <tbody>\n",
       "    <tr>\n",
       "      <th>0</th>\n",
       "      <td>Água Rasa</td>\n",
       "      <td>Leste</td>\n",
       "    </tr>\n",
       "    <tr>\n",
       "      <th>1</th>\n",
       "      <td>Alto de Pinheiros</td>\n",
       "      <td>Oeste</td>\n",
       "    </tr>\n",
       "    <tr>\n",
       "      <th>2</th>\n",
       "      <td>Anhanguera</td>\n",
       "      <td>Norte</td>\n",
       "    </tr>\n",
       "    <tr>\n",
       "      <th>3</th>\n",
       "      <td>Aricanduva</td>\n",
       "      <td>Leste</td>\n",
       "    </tr>\n",
       "    <tr>\n",
       "      <th>4</th>\n",
       "      <td>Artur Alvim</td>\n",
       "      <td>Leste</td>\n",
       "    </tr>\n",
       "  </tbody>\n",
       "</table>\n",
       "</div>"
      ],
      "text/plain": [
       "              Bairro Região\n",
       "0          Água Rasa  Leste\n",
       "1  Alto de Pinheiros  Oeste\n",
       "2         Anhanguera  Norte\n",
       "3         Aricanduva  Leste\n",
       "4        Artur Alvim  Leste"
      ]
     },
     "execution_count": 15,
     "metadata": {},
     "output_type": "execute_result"
    }
   ],
   "source": [
    "sp_zones = pd.read_csv('data/sp_regioes.csv', sep=';', encoding='UTF-8')\n",
    "sp_zones.head()"
   ]
  },
  {
   "cell_type": "code",
   "execution_count": 16,
   "metadata": {
    "ExecuteTime": {
     "end_time": "2021-04-01T15:18:40.950327Z",
     "start_time": "2021-04-01T15:18:40.926313Z"
    },
    "scrolled": true
   },
   "outputs": [
    {
     "data": {
      "text/plain": [
       "(96, 2)"
      ]
     },
     "execution_count": 16,
     "metadata": {},
     "output_type": "execute_result"
    }
   ],
   "source": [
    "sp_zones.shape"
   ]
  },
  {
   "cell_type": "markdown",
   "metadata": {},
   "source": [
    "**Rename columns names**"
   ]
  },
  {
   "cell_type": "code",
   "execution_count": 17,
   "metadata": {
    "ExecuteTime": {
     "end_time": "2021-04-01T15:18:44.671742Z",
     "start_time": "2021-04-01T15:18:44.639741Z"
    }
   },
   "outputs": [
    {
     "data": {
      "text/html": [
       "<div>\n",
       "<style scoped>\n",
       "    .dataframe tbody tr th:only-of-type {\n",
       "        vertical-align: middle;\n",
       "    }\n",
       "\n",
       "    .dataframe tbody tr th {\n",
       "        vertical-align: top;\n",
       "    }\n",
       "\n",
       "    .dataframe thead th {\n",
       "        text-align: right;\n",
       "    }\n",
       "</style>\n",
       "<table border=\"1\" class=\"dataframe\">\n",
       "  <thead>\n",
       "    <tr style=\"text-align: right;\">\n",
       "      <th></th>\n",
       "      <th>Neighborhood</th>\n",
       "      <th>Zone</th>\n",
       "    </tr>\n",
       "  </thead>\n",
       "  <tbody>\n",
       "    <tr>\n",
       "      <th>0</th>\n",
       "      <td>Água Rasa</td>\n",
       "      <td>Leste</td>\n",
       "    </tr>\n",
       "    <tr>\n",
       "      <th>1</th>\n",
       "      <td>Alto de Pinheiros</td>\n",
       "      <td>Oeste</td>\n",
       "    </tr>\n",
       "    <tr>\n",
       "      <th>2</th>\n",
       "      <td>Anhanguera</td>\n",
       "      <td>Norte</td>\n",
       "    </tr>\n",
       "    <tr>\n",
       "      <th>3</th>\n",
       "      <td>Aricanduva</td>\n",
       "      <td>Leste</td>\n",
       "    </tr>\n",
       "    <tr>\n",
       "      <th>4</th>\n",
       "      <td>Artur Alvim</td>\n",
       "      <td>Leste</td>\n",
       "    </tr>\n",
       "  </tbody>\n",
       "</table>\n",
       "</div>"
      ],
      "text/plain": [
       "        Neighborhood   Zone\n",
       "0          Água Rasa  Leste\n",
       "1  Alto de Pinheiros  Oeste\n",
       "2         Anhanguera  Norte\n",
       "3         Aricanduva  Leste\n",
       "4        Artur Alvim  Leste"
      ]
     },
     "execution_count": 17,
     "metadata": {},
     "output_type": "execute_result"
    }
   ],
   "source": [
    "sp_zones.rename(columns={'Bairro': 'Neighborhood', 'Região': 'Zone'}, inplace=True)\n",
    "sp_zones.head()"
   ]
  },
  {
   "cell_type": "markdown",
   "metadata": {},
   "source": [
    "**Translate zones names**"
   ]
  },
  {
   "cell_type": "code",
   "execution_count": 18,
   "metadata": {
    "ExecuteTime": {
     "end_time": "2021-04-01T15:18:47.006933Z",
     "start_time": "2021-04-01T15:18:46.982941Z"
    }
   },
   "outputs": [],
   "source": [
    "sp_zones.loc[sp_zones['Zone'] == 'Centro', 'Zone'] = 'Center'\n",
    "sp_zones.loc[sp_zones['Zone'] == 'Leste', 'Zone'] = 'East'\n",
    "sp_zones.loc[sp_zones['Zone'] == 'Norte', 'Zone'] = 'North'\n",
    "sp_zones.loc[sp_zones['Zone'] == 'Oeste', 'Zone'] = 'West'\n",
    "sp_zones.loc[sp_zones['Zone'] == 'Sul', 'Zone'] = 'South'"
   ]
  },
  {
   "cell_type": "markdown",
   "metadata": {},
   "source": [
    "**Merging the new data frame _sp_zones_ with _df_sp_** "
   ]
  },
  {
   "cell_type": "code",
   "execution_count": 20,
   "metadata": {
    "ExecuteTime": {
     "end_time": "2021-04-01T15:18:58.966196Z",
     "start_time": "2021-04-01T15:18:58.926190Z"
    }
   },
   "outputs": [
    {
     "data": {
      "text/html": [
       "<div>\n",
       "<style scoped>\n",
       "    .dataframe tbody tr th:only-of-type {\n",
       "        vertical-align: middle;\n",
       "    }\n",
       "\n",
       "    .dataframe tbody tr th {\n",
       "        vertical-align: top;\n",
       "    }\n",
       "\n",
       "    .dataframe thead th {\n",
       "        text-align: right;\n",
       "    }\n",
       "</style>\n",
       "<table border=\"1\" class=\"dataframe\">\n",
       "  <thead>\n",
       "    <tr style=\"text-align: right;\">\n",
       "      <th></th>\n",
       "      <th>Subprefecture</th>\n",
       "      <th>Neighborhood</th>\n",
       "      <th>Less than 2 Minimum Wage</th>\n",
       "      <th>From 2 to Less than 5 Minimum Wage</th>\n",
       "      <th>From 5 to Less than 10 Minimum Wage</th>\n",
       "      <th>From 10 to Less than 15 Minimum Wage</th>\n",
       "      <th>From 15 to Less than 25 Minimum Wage</th>\n",
       "      <th>From 25 Minimum Wage and more</th>\n",
       "      <th>Zone</th>\n",
       "    </tr>\n",
       "  </thead>\n",
       "  <tbody>\n",
       "    <tr>\n",
       "      <th>0</th>\n",
       "      <td>Aricanduva</td>\n",
       "      <td>Aricanduva</td>\n",
       "      <td>11.64</td>\n",
       "      <td>24.95</td>\n",
       "      <td>28.47</td>\n",
       "      <td>13.72</td>\n",
       "      <td>13.33</td>\n",
       "      <td>7.88</td>\n",
       "      <td>East</td>\n",
       "    </tr>\n",
       "    <tr>\n",
       "      <th>1</th>\n",
       "      <td>Aricanduva</td>\n",
       "      <td>Carrão</td>\n",
       "      <td>9.18</td>\n",
       "      <td>18.17</td>\n",
       "      <td>25.82</td>\n",
       "      <td>14.91</td>\n",
       "      <td>16.35</td>\n",
       "      <td>15.58</td>\n",
       "      <td>East</td>\n",
       "    </tr>\n",
       "    <tr>\n",
       "      <th>2</th>\n",
       "      <td>Aricanduva</td>\n",
       "      <td>Vila Formosa</td>\n",
       "      <td>8.10</td>\n",
       "      <td>20.08</td>\n",
       "      <td>28.69</td>\n",
       "      <td>13.91</td>\n",
       "      <td>13.08</td>\n",
       "      <td>16.14</td>\n",
       "      <td>East</td>\n",
       "    </tr>\n",
       "    <tr>\n",
       "      <th>3</th>\n",
       "      <td>Butantã</td>\n",
       "      <td>Butantã</td>\n",
       "      <td>4.93</td>\n",
       "      <td>10.60</td>\n",
       "      <td>16.23</td>\n",
       "      <td>12.10</td>\n",
       "      <td>18.25</td>\n",
       "      <td>37.88</td>\n",
       "      <td>West</td>\n",
       "    </tr>\n",
       "    <tr>\n",
       "      <th>4</th>\n",
       "      <td>Butantã</td>\n",
       "      <td>Morumbi</td>\n",
       "      <td>4.00</td>\n",
       "      <td>9.05</td>\n",
       "      <td>10.76</td>\n",
       "      <td>5.67</td>\n",
       "      <td>9.95</td>\n",
       "      <td>60.58</td>\n",
       "      <td>West</td>\n",
       "    </tr>\n",
       "    <tr>\n",
       "      <th>5</th>\n",
       "      <td>Butantã</td>\n",
       "      <td>Raposo Tavares</td>\n",
       "      <td>12.73</td>\n",
       "      <td>27.95</td>\n",
       "      <td>29.05</td>\n",
       "      <td>12.50</td>\n",
       "      <td>10.54</td>\n",
       "      <td>7.24</td>\n",
       "      <td>West</td>\n",
       "    </tr>\n",
       "    <tr>\n",
       "      <th>6</th>\n",
       "      <td>Butantã</td>\n",
       "      <td>Rio Pequeno</td>\n",
       "      <td>11.80</td>\n",
       "      <td>22.00</td>\n",
       "      <td>22.77</td>\n",
       "      <td>12.38</td>\n",
       "      <td>13.08</td>\n",
       "      <td>17.96</td>\n",
       "      <td>West</td>\n",
       "    </tr>\n",
       "    <tr>\n",
       "      <th>7</th>\n",
       "      <td>Butantã</td>\n",
       "      <td>Vila Sônia</td>\n",
       "      <td>9.58</td>\n",
       "      <td>16.05</td>\n",
       "      <td>20.05</td>\n",
       "      <td>11.28</td>\n",
       "      <td>13.96</td>\n",
       "      <td>29.07</td>\n",
       "      <td>West</td>\n",
       "    </tr>\n",
       "    <tr>\n",
       "      <th>8</th>\n",
       "      <td>Campo Limpo</td>\n",
       "      <td>Campo Limpo</td>\n",
       "      <td>16.07</td>\n",
       "      <td>28.25</td>\n",
       "      <td>28.71</td>\n",
       "      <td>11.26</td>\n",
       "      <td>9.96</td>\n",
       "      <td>5.76</td>\n",
       "      <td>South</td>\n",
       "    </tr>\n",
       "    <tr>\n",
       "      <th>9</th>\n",
       "      <td>Campo Limpo</td>\n",
       "      <td>Capão Redondo</td>\n",
       "      <td>18.30</td>\n",
       "      <td>32.80</td>\n",
       "      <td>29.82</td>\n",
       "      <td>9.36</td>\n",
       "      <td>6.50</td>\n",
       "      <td>3.22</td>\n",
       "      <td>South</td>\n",
       "    </tr>\n",
       "  </tbody>\n",
       "</table>\n",
       "</div>"
      ],
      "text/plain": [
       "  Subprefecture    Neighborhood  Less than 2 Minimum Wage  \\\n",
       "0    Aricanduva      Aricanduva                     11.64   \n",
       "1    Aricanduva          Carrão                      9.18   \n",
       "2    Aricanduva    Vila Formosa                      8.10   \n",
       "3       Butantã         Butantã                      4.93   \n",
       "4       Butantã         Morumbi                      4.00   \n",
       "5       Butantã  Raposo Tavares                     12.73   \n",
       "6       Butantã     Rio Pequeno                     11.80   \n",
       "7       Butantã      Vila Sônia                      9.58   \n",
       "8   Campo Limpo     Campo Limpo                     16.07   \n",
       "9   Campo Limpo   Capão Redondo                     18.30   \n",
       "\n",
       "   From 2 to Less than 5 Minimum Wage  From 5 to Less than 10 Minimum Wage  \\\n",
       "0                               24.95                                28.47   \n",
       "1                               18.17                                25.82   \n",
       "2                               20.08                                28.69   \n",
       "3                               10.60                                16.23   \n",
       "4                                9.05                                10.76   \n",
       "5                               27.95                                29.05   \n",
       "6                               22.00                                22.77   \n",
       "7                               16.05                                20.05   \n",
       "8                               28.25                                28.71   \n",
       "9                               32.80                                29.82   \n",
       "\n",
       "   From 10 to Less than 15 Minimum Wage  From 15 to Less than 25 Minimum Wage  \\\n",
       "0                                 13.72                                 13.33   \n",
       "1                                 14.91                                 16.35   \n",
       "2                                 13.91                                 13.08   \n",
       "3                                 12.10                                 18.25   \n",
       "4                                  5.67                                  9.95   \n",
       "5                                 12.50                                 10.54   \n",
       "6                                 12.38                                 13.08   \n",
       "7                                 11.28                                 13.96   \n",
       "8                                 11.26                                  9.96   \n",
       "9                                  9.36                                  6.50   \n",
       "\n",
       "   From 25 Minimum Wage and more   Zone  \n",
       "0                           7.88   East  \n",
       "1                          15.58   East  \n",
       "2                          16.14   East  \n",
       "3                          37.88   West  \n",
       "4                          60.58   West  \n",
       "5                           7.24   West  \n",
       "6                          17.96   West  \n",
       "7                          29.07   West  \n",
       "8                           5.76  South  \n",
       "9                           3.22  South  "
      ]
     },
     "execution_count": 20,
     "metadata": {},
     "output_type": "execute_result"
    }
   ],
   "source": [
    "df_sp = pd.merge(df_merged, sp_zones, how='inner', on='Neighborhood')\n",
    "df_sp.head(10)"
   ]
  },
  {
   "cell_type": "code",
   "execution_count": 21,
   "metadata": {
    "ExecuteTime": {
     "end_time": "2021-04-01T15:19:02.767263Z",
     "start_time": "2021-04-01T15:19:02.751264Z"
    }
   },
   "outputs": [
    {
     "data": {
      "text/plain": [
       "(96, 9)"
      ]
     },
     "execution_count": 21,
     "metadata": {},
     "output_type": "execute_result"
    }
   ],
   "source": [
    "df_sp.shape"
   ]
  },
  {
   "cell_type": "markdown",
   "metadata": {},
   "source": [
    "**Saving the data frame into a CSV file**"
   ]
  },
  {
   "cell_type": "code",
   "execution_count": 22,
   "metadata": {
    "ExecuteTime": {
     "end_time": "2021-04-01T15:19:04.875256Z",
     "start_time": "2021-04-01T15:19:04.851264Z"
    }
   },
   "outputs": [],
   "source": [
    "df_sp.to_csv('data/sp_neighborhoods.csv', index=False)"
   ]
  },
  {
   "cell_type": "markdown",
   "metadata": {},
   "source": [
    "## Session 2 - Geocoding"
   ]
  },
  {
   "cell_type": "markdown",
   "metadata": {},
   "source": [
    "**Using geopy to get the latitude and longitude of the neighborhoods**"
   ]
  },
  {
   "cell_type": "code",
   "execution_count": 23,
   "metadata": {
    "ExecuteTime": {
     "end_time": "2021-04-01T15:19:07.843628Z",
     "start_time": "2021-04-01T15:19:07.819627Z"
    }
   },
   "outputs": [],
   "source": [
    "df_sp = pd.read_csv('data/sp_neighborhoods.csv')"
   ]
  },
  {
   "cell_type": "markdown",
   "metadata": {},
   "source": [
    "**Create a function to geocode the neighborhoods in São Paulo city**"
   ]
  },
  {
   "cell_type": "code",
   "execution_count": 24,
   "metadata": {
    "ExecuteTime": {
     "end_time": "2021-04-01T15:19:11.100856Z",
     "start_time": "2021-04-01T15:19:11.092860Z"
    }
   },
   "outputs": [],
   "source": [
    "latitudes = []\n",
    "longitudes = []\n",
    "def geolocation(address):\n",
    "    geolocator = Nominatim(user_agent='sp_explorer')\n",
    "    location = geolocator.geocode(address)\n",
    "    latitude = location.latitude\n",
    "    longitude = location.longitude\n",
    "    latitudes.append(latitude)\n",
    "    longitudes.append(longitude)"
   ]
  },
  {
   "cell_type": "markdown",
   "metadata": {},
   "source": [
    "**Calling the function above for each neighborhood in São Paulo**"
   ]
  },
  {
   "cell_type": "code",
   "execution_count": 25,
   "metadata": {
    "ExecuteTime": {
     "end_time": "2021-04-01T15:20:03.521308Z",
     "start_time": "2021-04-01T15:19:13.807936Z"
    },
    "scrolled": true
   },
   "outputs": [],
   "source": [
    "address = ''\n",
    "teste = []\n",
    "for neighborhood in df_sp['Neighborhood']:\n",
    "    address = f'{neighborhood}, São Paulo, Brazil'\n",
    "    geolocation(address)\n",
    "    "
   ]
  },
  {
   "cell_type": "markdown",
   "metadata": {},
   "source": [
    "**Insert the latitude and longitude columns to the data frame**"
   ]
  },
  {
   "cell_type": "code",
   "execution_count": 26,
   "metadata": {
    "ExecuteTime": {
     "end_time": "2021-04-01T15:20:08.292885Z",
     "start_time": "2021-04-01T15:20:08.276885Z"
    },
    "scrolled": true
   },
   "outputs": [],
   "source": [
    "df_sp.insert(2, 'Latitude', latitudes)\n",
    "df_sp.insert(3, 'Longitude', longitudes)"
   ]
  },
  {
   "cell_type": "code",
   "execution_count": 28,
   "metadata": {
    "ExecuteTime": {
     "end_time": "2021-04-01T15:20:16.538920Z",
     "start_time": "2021-04-01T15:20:16.490924Z"
    },
    "scrolled": true
   },
   "outputs": [
    {
     "data": {
      "text/html": [
       "<div>\n",
       "<style scoped>\n",
       "    .dataframe tbody tr th:only-of-type {\n",
       "        vertical-align: middle;\n",
       "    }\n",
       "\n",
       "    .dataframe tbody tr th {\n",
       "        vertical-align: top;\n",
       "    }\n",
       "\n",
       "    .dataframe thead th {\n",
       "        text-align: right;\n",
       "    }\n",
       "</style>\n",
       "<table border=\"1\" class=\"dataframe\">\n",
       "  <thead>\n",
       "    <tr style=\"text-align: right;\">\n",
       "      <th></th>\n",
       "      <th>Subprefecture</th>\n",
       "      <th>Neighborhood</th>\n",
       "      <th>Latitude</th>\n",
       "      <th>Longitude</th>\n",
       "      <th>Less than 2 Minimum Wage</th>\n",
       "      <th>From 2 to Less than 5 Minimum Wage</th>\n",
       "      <th>From 5 to Less than 10 Minimum Wage</th>\n",
       "      <th>From 10 to Less than 15 Minimum Wage</th>\n",
       "      <th>From 15 to Less than 25 Minimum Wage</th>\n",
       "      <th>From 25 Minimum Wage and more</th>\n",
       "      <th>Zone</th>\n",
       "    </tr>\n",
       "  </thead>\n",
       "  <tbody>\n",
       "    <tr>\n",
       "      <th>0</th>\n",
       "      <td>Aricanduva</td>\n",
       "      <td>Aricanduva</td>\n",
       "      <td>-23.578024</td>\n",
       "      <td>-46.511454</td>\n",
       "      <td>11.64</td>\n",
       "      <td>24.95</td>\n",
       "      <td>28.47</td>\n",
       "      <td>13.72</td>\n",
       "      <td>13.33</td>\n",
       "      <td>7.88</td>\n",
       "      <td>East</td>\n",
       "    </tr>\n",
       "    <tr>\n",
       "      <th>1</th>\n",
       "      <td>Aricanduva</td>\n",
       "      <td>Carrão</td>\n",
       "      <td>-23.551530</td>\n",
       "      <td>-46.537791</td>\n",
       "      <td>9.18</td>\n",
       "      <td>18.17</td>\n",
       "      <td>25.82</td>\n",
       "      <td>14.91</td>\n",
       "      <td>16.35</td>\n",
       "      <td>15.58</td>\n",
       "      <td>East</td>\n",
       "    </tr>\n",
       "    <tr>\n",
       "      <th>2</th>\n",
       "      <td>Aricanduva</td>\n",
       "      <td>Vila Formosa</td>\n",
       "      <td>-23.566876</td>\n",
       "      <td>-46.546323</td>\n",
       "      <td>8.10</td>\n",
       "      <td>20.08</td>\n",
       "      <td>28.69</td>\n",
       "      <td>13.91</td>\n",
       "      <td>13.08</td>\n",
       "      <td>16.14</td>\n",
       "      <td>East</td>\n",
       "    </tr>\n",
       "    <tr>\n",
       "      <th>3</th>\n",
       "      <td>Butantã</td>\n",
       "      <td>Butantã</td>\n",
       "      <td>-23.569056</td>\n",
       "      <td>-46.721883</td>\n",
       "      <td>4.93</td>\n",
       "      <td>10.60</td>\n",
       "      <td>16.23</td>\n",
       "      <td>12.10</td>\n",
       "      <td>18.25</td>\n",
       "      <td>37.88</td>\n",
       "      <td>West</td>\n",
       "    </tr>\n",
       "    <tr>\n",
       "      <th>4</th>\n",
       "      <td>Butantã</td>\n",
       "      <td>Morumbi</td>\n",
       "      <td>-23.596499</td>\n",
       "      <td>-46.717845</td>\n",
       "      <td>4.00</td>\n",
       "      <td>9.05</td>\n",
       "      <td>10.76</td>\n",
       "      <td>5.67</td>\n",
       "      <td>9.95</td>\n",
       "      <td>60.58</td>\n",
       "      <td>West</td>\n",
       "    </tr>\n",
       "    <tr>\n",
       "      <th>5</th>\n",
       "      <td>Butantã</td>\n",
       "      <td>Raposo Tavares</td>\n",
       "      <td>-23.591610</td>\n",
       "      <td>-46.780359</td>\n",
       "      <td>12.73</td>\n",
       "      <td>27.95</td>\n",
       "      <td>29.05</td>\n",
       "      <td>12.50</td>\n",
       "      <td>10.54</td>\n",
       "      <td>7.24</td>\n",
       "      <td>West</td>\n",
       "    </tr>\n",
       "    <tr>\n",
       "      <th>6</th>\n",
       "      <td>Butantã</td>\n",
       "      <td>Rio Pequeno</td>\n",
       "      <td>-23.568505</td>\n",
       "      <td>-46.756857</td>\n",
       "      <td>11.80</td>\n",
       "      <td>22.00</td>\n",
       "      <td>22.77</td>\n",
       "      <td>12.38</td>\n",
       "      <td>13.08</td>\n",
       "      <td>17.96</td>\n",
       "      <td>West</td>\n",
       "    </tr>\n",
       "    <tr>\n",
       "      <th>7</th>\n",
       "      <td>Butantã</td>\n",
       "      <td>Vila Sônia</td>\n",
       "      <td>-23.599771</td>\n",
       "      <td>-46.739201</td>\n",
       "      <td>9.58</td>\n",
       "      <td>16.05</td>\n",
       "      <td>20.05</td>\n",
       "      <td>11.28</td>\n",
       "      <td>13.96</td>\n",
       "      <td>29.07</td>\n",
       "      <td>West</td>\n",
       "    </tr>\n",
       "    <tr>\n",
       "      <th>8</th>\n",
       "      <td>Campo Limpo</td>\n",
       "      <td>Campo Limpo</td>\n",
       "      <td>-23.632558</td>\n",
       "      <td>-46.759666</td>\n",
       "      <td>16.07</td>\n",
       "      <td>28.25</td>\n",
       "      <td>28.71</td>\n",
       "      <td>11.26</td>\n",
       "      <td>9.96</td>\n",
       "      <td>5.76</td>\n",
       "      <td>South</td>\n",
       "    </tr>\n",
       "    <tr>\n",
       "      <th>9</th>\n",
       "      <td>Campo Limpo</td>\n",
       "      <td>Capão Redondo</td>\n",
       "      <td>-23.671903</td>\n",
       "      <td>-46.779435</td>\n",
       "      <td>18.30</td>\n",
       "      <td>32.80</td>\n",
       "      <td>29.82</td>\n",
       "      <td>9.36</td>\n",
       "      <td>6.50</td>\n",
       "      <td>3.22</td>\n",
       "      <td>South</td>\n",
       "    </tr>\n",
       "  </tbody>\n",
       "</table>\n",
       "</div>"
      ],
      "text/plain": [
       "  Subprefecture    Neighborhood   Latitude  Longitude  \\\n",
       "0    Aricanduva      Aricanduva -23.578024 -46.511454   \n",
       "1    Aricanduva          Carrão -23.551530 -46.537791   \n",
       "2    Aricanduva    Vila Formosa -23.566876 -46.546323   \n",
       "3       Butantã         Butantã -23.569056 -46.721883   \n",
       "4       Butantã         Morumbi -23.596499 -46.717845   \n",
       "5       Butantã  Raposo Tavares -23.591610 -46.780359   \n",
       "6       Butantã     Rio Pequeno -23.568505 -46.756857   \n",
       "7       Butantã      Vila Sônia -23.599771 -46.739201   \n",
       "8   Campo Limpo     Campo Limpo -23.632558 -46.759666   \n",
       "9   Campo Limpo   Capão Redondo -23.671903 -46.779435   \n",
       "\n",
       "   Less than 2 Minimum Wage  From 2 to Less than 5 Minimum Wage  \\\n",
       "0                     11.64                               24.95   \n",
       "1                      9.18                               18.17   \n",
       "2                      8.10                               20.08   \n",
       "3                      4.93                               10.60   \n",
       "4                      4.00                                9.05   \n",
       "5                     12.73                               27.95   \n",
       "6                     11.80                               22.00   \n",
       "7                      9.58                               16.05   \n",
       "8                     16.07                               28.25   \n",
       "9                     18.30                               32.80   \n",
       "\n",
       "   From 5 to Less than 10 Minimum Wage  From 10 to Less than 15 Minimum Wage  \\\n",
       "0                                28.47                                 13.72   \n",
       "1                                25.82                                 14.91   \n",
       "2                                28.69                                 13.91   \n",
       "3                                16.23                                 12.10   \n",
       "4                                10.76                                  5.67   \n",
       "5                                29.05                                 12.50   \n",
       "6                                22.77                                 12.38   \n",
       "7                                20.05                                 11.28   \n",
       "8                                28.71                                 11.26   \n",
       "9                                29.82                                  9.36   \n",
       "\n",
       "   From 15 to Less than 25 Minimum Wage  From 25 Minimum Wage and more   Zone  \n",
       "0                                 13.33                           7.88   East  \n",
       "1                                 16.35                          15.58   East  \n",
       "2                                 13.08                          16.14   East  \n",
       "3                                 18.25                          37.88   West  \n",
       "4                                  9.95                          60.58   West  \n",
       "5                                 10.54                           7.24   West  \n",
       "6                                 13.08                          17.96   West  \n",
       "7                                 13.96                          29.07   West  \n",
       "8                                  9.96                           5.76  South  \n",
       "9                                  6.50                           3.22  South  "
      ]
     },
     "execution_count": 28,
     "metadata": {},
     "output_type": "execute_result"
    }
   ],
   "source": [
    "# showing the data frame with latitude and longitude columns\n",
    "df_sp.head(10)"
   ]
  },
  {
   "cell_type": "markdown",
   "metadata": {},
   "source": [
    "**Fixing some neighborhoods that were geocoded incorrectly.**\n",
    "\n",
    "This happens because some cities in the State of São Paulo have the same name as neighborhoods in the city of São Paulo. Example: Socorro, Tremembé and Pedreira."
   ]
  },
  {
   "cell_type": "code",
   "execution_count": 29,
   "metadata": {
    "ExecuteTime": {
     "end_time": "2021-04-01T15:20:22.004489Z",
     "start_time": "2021-04-01T15:20:21.980476Z"
    }
   },
   "outputs": [],
   "source": [
    "# fixing latitude and longitude of \"Socorro\"\n",
    "df_sp.loc[13, 'Latitude'] =  -23.668885\n",
    "df_sp.loc[13, 'Longitude'] =  -46.718615\n",
    "\n",
    "# fixing latitude and longitude of \"Pedreira\"\n",
    "df_sp.loc[18, 'Latitude'] = -23.696144\n",
    "df_sp.loc[18, 'Longitude'] = -46.637628\n",
    "\n",
    "# fixing latitude and longitude of \"Tremembé\"\n",
    "df_sp.loc[37, 'Latitude'] = -23.460388\n",
    "df_sp.loc[37, 'Longitude'] = -46.624512"
   ]
  },
  {
   "cell_type": "markdown",
   "metadata": {},
   "source": [
    "**The dimensions of the data frame**"
   ]
  },
  {
   "cell_type": "code",
   "execution_count": 30,
   "metadata": {
    "ExecuteTime": {
     "end_time": "2021-04-01T15:20:24.843935Z",
     "start_time": "2021-04-01T15:20:24.827938Z"
    }
   },
   "outputs": [
    {
     "data": {
      "text/plain": [
       "(96, 11)"
      ]
     },
     "execution_count": 30,
     "metadata": {},
     "output_type": "execute_result"
    }
   ],
   "source": [
    "df_sp.shape"
   ]
  },
  {
   "cell_type": "markdown",
   "metadata": {},
   "source": [
    "**Save the data frame into a CSV file**"
   ]
  },
  {
   "cell_type": "code",
   "execution_count": 31,
   "metadata": {
    "ExecuteTime": {
     "end_time": "2021-04-01T15:20:27.346324Z",
     "start_time": "2021-04-01T15:20:27.322308Z"
    }
   },
   "outputs": [],
   "source": [
    "df_sp.to_csv('data/sp_neighborhoods_geocoded.csv', index=False, encoding='UTF-8')"
   ]
  },
  {
   "cell_type": "markdown",
   "metadata": {},
   "source": [
    "## Session 3 - Data Exploration and Visualization"
   ]
  },
  {
   "cell_type": "code",
   "execution_count": 32,
   "metadata": {
    "ExecuteTime": {
     "end_time": "2021-04-01T15:20:29.891892Z",
     "start_time": "2021-04-01T15:20:29.844644Z"
    },
    "scrolled": false
   },
   "outputs": [
    {
     "data": {
      "text/html": [
       "<div>\n",
       "<style scoped>\n",
       "    .dataframe tbody tr th:only-of-type {\n",
       "        vertical-align: middle;\n",
       "    }\n",
       "\n",
       "    .dataframe tbody tr th {\n",
       "        vertical-align: top;\n",
       "    }\n",
       "\n",
       "    .dataframe thead th {\n",
       "        text-align: right;\n",
       "    }\n",
       "</style>\n",
       "<table border=\"1\" class=\"dataframe\">\n",
       "  <thead>\n",
       "    <tr style=\"text-align: right;\">\n",
       "      <th></th>\n",
       "      <th>Subprefecture</th>\n",
       "      <th>Neighborhood</th>\n",
       "      <th>Latitude</th>\n",
       "      <th>Longitude</th>\n",
       "      <th>Less than 2 Minimum Wage</th>\n",
       "      <th>From 2 to Less than 5 Minimum Wage</th>\n",
       "      <th>From 5 to Less than 10 Minimum Wage</th>\n",
       "      <th>From 10 to Less than 15 Minimum Wage</th>\n",
       "      <th>From 15 to Less than 25 Minimum Wage</th>\n",
       "      <th>From 25 Minimum Wage and more</th>\n",
       "      <th>Zone</th>\n",
       "    </tr>\n",
       "  </thead>\n",
       "  <tbody>\n",
       "    <tr>\n",
       "      <th>0</th>\n",
       "      <td>Aricanduva</td>\n",
       "      <td>Aricanduva</td>\n",
       "      <td>-23.578024</td>\n",
       "      <td>-46.511454</td>\n",
       "      <td>11.64</td>\n",
       "      <td>24.95</td>\n",
       "      <td>28.47</td>\n",
       "      <td>13.72</td>\n",
       "      <td>13.33</td>\n",
       "      <td>7.88</td>\n",
       "      <td>East</td>\n",
       "    </tr>\n",
       "    <tr>\n",
       "      <th>1</th>\n",
       "      <td>Aricanduva</td>\n",
       "      <td>Carrão</td>\n",
       "      <td>-23.551530</td>\n",
       "      <td>-46.537791</td>\n",
       "      <td>9.18</td>\n",
       "      <td>18.17</td>\n",
       "      <td>25.82</td>\n",
       "      <td>14.91</td>\n",
       "      <td>16.35</td>\n",
       "      <td>15.58</td>\n",
       "      <td>East</td>\n",
       "    </tr>\n",
       "    <tr>\n",
       "      <th>2</th>\n",
       "      <td>Aricanduva</td>\n",
       "      <td>Vila Formosa</td>\n",
       "      <td>-23.566876</td>\n",
       "      <td>-46.546323</td>\n",
       "      <td>8.10</td>\n",
       "      <td>20.08</td>\n",
       "      <td>28.69</td>\n",
       "      <td>13.91</td>\n",
       "      <td>13.08</td>\n",
       "      <td>16.14</td>\n",
       "      <td>East</td>\n",
       "    </tr>\n",
       "    <tr>\n",
       "      <th>3</th>\n",
       "      <td>Butantã</td>\n",
       "      <td>Butantã</td>\n",
       "      <td>-23.569056</td>\n",
       "      <td>-46.721883</td>\n",
       "      <td>4.93</td>\n",
       "      <td>10.60</td>\n",
       "      <td>16.23</td>\n",
       "      <td>12.10</td>\n",
       "      <td>18.25</td>\n",
       "      <td>37.88</td>\n",
       "      <td>West</td>\n",
       "    </tr>\n",
       "    <tr>\n",
       "      <th>4</th>\n",
       "      <td>Butantã</td>\n",
       "      <td>Morumbi</td>\n",
       "      <td>-23.596499</td>\n",
       "      <td>-46.717845</td>\n",
       "      <td>4.00</td>\n",
       "      <td>9.05</td>\n",
       "      <td>10.76</td>\n",
       "      <td>5.67</td>\n",
       "      <td>9.95</td>\n",
       "      <td>60.58</td>\n",
       "      <td>West</td>\n",
       "    </tr>\n",
       "  </tbody>\n",
       "</table>\n",
       "</div>"
      ],
      "text/plain": [
       "  Subprefecture  Neighborhood   Latitude  Longitude  Less than 2 Minimum Wage  \\\n",
       "0    Aricanduva    Aricanduva -23.578024 -46.511454                     11.64   \n",
       "1    Aricanduva        Carrão -23.551530 -46.537791                      9.18   \n",
       "2    Aricanduva  Vila Formosa -23.566876 -46.546323                      8.10   \n",
       "3       Butantã       Butantã -23.569056 -46.721883                      4.93   \n",
       "4       Butantã       Morumbi -23.596499 -46.717845                      4.00   \n",
       "\n",
       "   From 2 to Less than 5 Minimum Wage  From 5 to Less than 10 Minimum Wage  \\\n",
       "0                               24.95                                28.47   \n",
       "1                               18.17                                25.82   \n",
       "2                               20.08                                28.69   \n",
       "3                               10.60                                16.23   \n",
       "4                                9.05                                10.76   \n",
       "\n",
       "   From 10 to Less than 15 Minimum Wage  From 15 to Less than 25 Minimum Wage  \\\n",
       "0                                 13.72                                 13.33   \n",
       "1                                 14.91                                 16.35   \n",
       "2                                 13.91                                 13.08   \n",
       "3                                 12.10                                 18.25   \n",
       "4                                  5.67                                  9.95   \n",
       "\n",
       "   From 25 Minimum Wage and more  Zone  \n",
       "0                           7.88  East  \n",
       "1                          15.58  East  \n",
       "2                          16.14  East  \n",
       "3                          37.88  West  \n",
       "4                          60.58  West  "
      ]
     },
     "execution_count": 32,
     "metadata": {},
     "output_type": "execute_result"
    }
   ],
   "source": [
    "df_sp_geocoded = pd.read_csv('data/sp_neighborhoods_geocoded.csv', encoding='UTF-8')\n",
    "df_sp_geocoded.head()"
   ]
  },
  {
   "cell_type": "markdown",
   "metadata": {},
   "source": [
    "**Geolocate the city of São Paulo**"
   ]
  },
  {
   "cell_type": "code",
   "execution_count": 33,
   "metadata": {
    "ExecuteTime": {
     "end_time": "2021-04-01T15:20:32.410605Z",
     "start_time": "2021-04-01T15:20:32.234621Z"
    }
   },
   "outputs": [
    {
     "name": "stdout",
     "output_type": "stream",
     "text": [
      "The latitude and longitude of São Paulo, SP, Brazil are: -23.5506507, -46.6333824\n"
     ]
    }
   ],
   "source": [
    "address = 'São Paulo, SP, Brazil'\n",
    "geolocator = Nominatim(user_agent='sp_explorer')\n",
    "location = geolocator.geocode(address)\n",
    "latitude = location.latitude\n",
    "longitude = location.longitude\n",
    "print(f'The latitude and longitude of {address} are: {latitude}, {longitude}')"
   ]
  },
  {
   "cell_type": "markdown",
   "metadata": {},
   "source": [
    "**Creating a map of the city of São Paulo with neighborhoods superimposed on top**"
   ]
  },
  {
   "cell_type": "code",
   "execution_count": 36,
   "metadata": {
    "ExecuteTime": {
     "end_time": "2021-04-01T15:20:52.811951Z",
     "start_time": "2021-04-01T15:20:50.534146Z"
    }
   },
   "outputs": [
    {
     "data": {
      "text/html": [
       "<div style=\"width:100%;\"><div style=\"position:relative;width:100%;height:0;padding-bottom:60%;\"><span style=\"color:#565656\">Make this Notebook Trusted to load map: File -> Trust Notebook</span><iframe src=\"about:blank\" style=\"position:absolute;width:100%;height:100%;left:0;top:0;border:none !important;\" data-html=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 onload=\"this.contentDocument.open();this.contentDocument.write(atob(this.getAttribute('data-html')));this.contentDocument.close();\" allowfullscreen webkitallowfullscreen mozallowfullscreen></iframe></div></div>"
      ],
      "text/plain": [
       "<folium.folium.Map at 0x268b77cf4c0>"
      ]
     },
     "execution_count": 36,
     "metadata": {},
     "output_type": "execute_result"
    }
   ],
   "source": [
    "sp_map = folium.Map(location=[latitude, longitude], zoom_start=10)\n",
    "\n",
    "# adding GeoJson to the map\n",
    "overlay = os.path.join('data', 'sp.json')\n",
    "folium.GeoJson(overlay, name='sp',).add_to(sp_map)\n",
    "\n",
    "# adding marks to the map\n",
    "for lat, lng, subprefecture, neighborhood in zip(df_sp_geocoded['Latitude'], df_sp_geocoded['Longitude'],\n",
    "                                       df_sp_geocoded['Subprefecture'], df_sp_geocoded['Neighborhood']):\n",
    "    label = '{}, {}'.format(neighborhood, subprefecture)\n",
    "    label = folium.Popup(label, parse_html=True)\n",
    "    folium.CircleMarker(\n",
    "        [lat, lng],\n",
    "        radius=5,\n",
    "        popup=label,\n",
    "        color='blue',\n",
    "        fill=True,\n",
    "        fill_color='#3186cc',\n",
    "        fill_opacity=0.7,\n",
    "        parse_html=False).add_to(sp_map)\n",
    "    \n",
    "    # add GeoJson\n",
    "    \n",
    "\n",
    "# display the map\n",
    "sp_map"
   ]
  },
  {
   "cell_type": "markdown",
   "metadata": {},
   "source": [
    "**Let's create a data frame sorted by the households who earn 25 minimum wage or more**"
   ]
  },
  {
   "cell_type": "code",
   "execution_count": 35,
   "metadata": {
    "ExecuteTime": {
     "end_time": "2021-04-01T15:20:44.318326Z",
     "start_time": "2021-04-01T15:20:44.278329Z"
    },
    "scrolled": true
   },
   "outputs": [
    {
     "data": {
      "text/html": [
       "<div>\n",
       "<style scoped>\n",
       "    .dataframe tbody tr th:only-of-type {\n",
       "        vertical-align: middle;\n",
       "    }\n",
       "\n",
       "    .dataframe tbody tr th {\n",
       "        vertical-align: top;\n",
       "    }\n",
       "\n",
       "    .dataframe thead th {\n",
       "        text-align: right;\n",
       "    }\n",
       "</style>\n",
       "<table border=\"1\" class=\"dataframe\">\n",
       "  <thead>\n",
       "    <tr style=\"text-align: right;\">\n",
       "      <th></th>\n",
       "      <th>Subprefecture</th>\n",
       "      <th>Neighborhood</th>\n",
       "      <th>Latitude</th>\n",
       "      <th>Longitude</th>\n",
       "      <th>From 25 Minimum Wage and more</th>\n",
       "      <th>Zone</th>\n",
       "    </tr>\n",
       "  </thead>\n",
       "  <tbody>\n",
       "    <tr>\n",
       "      <th>0</th>\n",
       "      <td>Vila Mariana</td>\n",
       "      <td>Moema</td>\n",
       "      <td>-23.597085</td>\n",
       "      <td>-46.662888</td>\n",
       "      <td>61.38</td>\n",
       "      <td>South</td>\n",
       "    </tr>\n",
       "    <tr>\n",
       "      <th>1</th>\n",
       "      <td>Butantã</td>\n",
       "      <td>Morumbi</td>\n",
       "      <td>-23.596499</td>\n",
       "      <td>-46.717845</td>\n",
       "      <td>60.58</td>\n",
       "      <td>West</td>\n",
       "    </tr>\n",
       "    <tr>\n",
       "      <th>2</th>\n",
       "      <td>Pinheiros</td>\n",
       "      <td>Jardim Paulista</td>\n",
       "      <td>-23.567436</td>\n",
       "      <td>-46.663692</td>\n",
       "      <td>55.78</td>\n",
       "      <td>West</td>\n",
       "    </tr>\n",
       "    <tr>\n",
       "      <th>3</th>\n",
       "      <td>Pinheiros</td>\n",
       "      <td>Alto de Pinheiros</td>\n",
       "      <td>-23.549461</td>\n",
       "      <td>-46.712293</td>\n",
       "      <td>53.72</td>\n",
       "      <td>West</td>\n",
       "    </tr>\n",
       "    <tr>\n",
       "      <th>4</th>\n",
       "      <td>Pinheiros</td>\n",
       "      <td>Itaim Bibi</td>\n",
       "      <td>-23.584381</td>\n",
       "      <td>-46.678444</td>\n",
       "      <td>52.92</td>\n",
       "      <td>West</td>\n",
       "    </tr>\n",
       "    <tr>\n",
       "      <th>5</th>\n",
       "      <td>Lapa</td>\n",
       "      <td>Perdizes</td>\n",
       "      <td>-23.537930</td>\n",
       "      <td>-46.680671</td>\n",
       "      <td>50.83</td>\n",
       "      <td>West</td>\n",
       "    </tr>\n",
       "    <tr>\n",
       "      <th>6</th>\n",
       "      <td>Pinheiros</td>\n",
       "      <td>Pinheiros</td>\n",
       "      <td>-23.566426</td>\n",
       "      <td>-46.703055</td>\n",
       "      <td>49.79</td>\n",
       "      <td>West</td>\n",
       "    </tr>\n",
       "    <tr>\n",
       "      <th>7</th>\n",
       "      <td>Vila Mariana</td>\n",
       "      <td>Vila Mariana</td>\n",
       "      <td>-23.583700</td>\n",
       "      <td>-46.632741</td>\n",
       "      <td>49.05</td>\n",
       "      <td>South</td>\n",
       "    </tr>\n",
       "    <tr>\n",
       "      <th>8</th>\n",
       "      <td>Santo Amaro</td>\n",
       "      <td>Campo Belo</td>\n",
       "      <td>-23.626731</td>\n",
       "      <td>-46.669429</td>\n",
       "      <td>48.44</td>\n",
       "      <td>South</td>\n",
       "    </tr>\n",
       "    <tr>\n",
       "      <th>9</th>\n",
       "      <td>Sé</td>\n",
       "      <td>Consolação</td>\n",
       "      <td>-23.557818</td>\n",
       "      <td>-46.660537</td>\n",
       "      <td>44.47</td>\n",
       "      <td>Center</td>\n",
       "    </tr>\n",
       "  </tbody>\n",
       "</table>\n",
       "</div>"
      ],
      "text/plain": [
       "  Subprefecture       Neighborhood   Latitude  Longitude  \\\n",
       "0  Vila Mariana              Moema -23.597085 -46.662888   \n",
       "1       Butantã            Morumbi -23.596499 -46.717845   \n",
       "2     Pinheiros    Jardim Paulista -23.567436 -46.663692   \n",
       "3     Pinheiros  Alto de Pinheiros -23.549461 -46.712293   \n",
       "4     Pinheiros         Itaim Bibi -23.584381 -46.678444   \n",
       "5          Lapa           Perdizes -23.537930 -46.680671   \n",
       "6     Pinheiros          Pinheiros -23.566426 -46.703055   \n",
       "7  Vila Mariana       Vila Mariana -23.583700 -46.632741   \n",
       "8   Santo Amaro         Campo Belo -23.626731 -46.669429   \n",
       "9            Sé         Consolação -23.557818 -46.660537   \n",
       "\n",
       "   From 25 Minimum Wage and more    Zone  \n",
       "0                          61.38   South  \n",
       "1                          60.58    West  \n",
       "2                          55.78    West  \n",
       "3                          53.72    West  \n",
       "4                          52.92    West  \n",
       "5                          50.83    West  \n",
       "6                          49.79    West  \n",
       "7                          49.05   South  \n",
       "8                          48.44   South  \n",
       "9                          44.47  Center  "
      ]
     },
     "execution_count": 35,
     "metadata": {},
     "output_type": "execute_result"
    }
   ],
   "source": [
    "df_sp_geocoded_top_wage = df_sp_geocoded[['Subprefecture', 'Neighborhood', 'Latitude', 'Longitude', 'From 25 Minimum Wage and more', 'Zone']].sort_values(['From 25 Minimum Wage and more'], ascending=False).reset_index(drop=True)[:10]\n",
    "df_sp_geocoded_top_wage"
   ]
  },
  {
   "cell_type": "markdown",
   "metadata": {},
   "source": [
    "**Let's visualize the Top 10 neighborhoods earning 25 minimum wage or more**"
   ]
  },
  {
   "cell_type": "code",
   "execution_count": 37,
   "metadata": {
    "ExecuteTime": {
     "end_time": "2021-04-01T15:21:02.542991Z",
     "start_time": "2021-04-01T15:21:01.780415Z"
    },
    "scrolled": false
   },
   "outputs": [
    {
     "data": {
      "text/plain": [
       "Text(0.5, 1.0, 'Top 10 Neighborhoods earning 25 Minimum Wage or more')"
      ]
     },
     "execution_count": 37,
     "metadata": {},
     "output_type": "execute_result"
    },
    {
     "data": {
      "image/png": "[encoded data removed]",
      "text/plain": [
       "<Figure size 864x576 with 1 Axes>"
      ]
     },
     "metadata": {},
     "output_type": "display_data"
    }
   ],
   "source": [
    "plt.figure(figsize=(12,8))\n",
    "ax = sns.barplot(data=df_sp_geocoded_top_wage,\n",
    "           y='Neighborhood',\n",
    "           x='From 25 Minimum Wage and more', color='#809fff')\n",
    "ax.set_title('Top 10 Neighborhoods earning 25 Minimum Wage or more', fontsize=14)"
   ]
  },
  {
   "cell_type": "markdown",
   "metadata": {},
   "source": [
    "From the graph above, we can see that the top 10 neighborhoods with the majority of people earning 25 minimum wages or more are prevalent in two zones: South and West. The neighborhood with the highest percentage of people earning more than 25 minimum wages is \"Moema\", on the west side of the city"
   ]
  },
  {
   "cell_type": "markdown",
   "metadata": {},
   "source": [
    "**Lets create a map of the neighborhoods of São Paulo that has the higher percentage of households who earn 25 or more minimum wage**"
   ]
  },
  {
   "cell_type": "code",
   "execution_count": 38,
   "metadata": {
    "ExecuteTime": {
     "end_time": "2021-04-01T15:21:07.260465Z",
     "start_time": "2021-04-01T15:21:06.812505Z"
    },
    "scrolled": false
   },
   "outputs": [
    {
     "data": {
      "text/html": [
       "<div style=\"width:100%;\"><div style=\"position:relative;width:100%;height:0;padding-bottom:60%;\"><span style=\"color:#565656\">Make this Notebook Trusted to load map: File -> Trust Notebook</span><iframe src=\"about:blank\" style=\"position:absolute;width:100%;height:100%;left:0;top:0;border:none !important;\" data-html=PCFET0NUWVBFIGh0bWw+CjxoZWFkPiAgICAKICAgIDxtZXRhIGh0dHAtZXF1aXY9ImNvbnRlbnQtdHlwZSIgY29udGVudD0idGV4dC9odG1sOyBjaGFyc2V0PVVURi04IiAvPgogICAgPHNjcmlwdD5MX1BSRUZFUl9DQU5WQVMgPSBmYWxzZTsgTF9OT19UT1VDSCA9IGZhbHNlOyBMX0RJU0FCTEVfM0QgPSBmYWxzZTs8L3NjcmlwdD4KICAgIDxzY3JpcHQgc3JjPSJodHRwczovL2Nkbi5qc2RlbGl2ci5uZXQvbnBtL2xlYWZsZXRAMS4yLjAvZGlzdC9sZWFmbGV0LmpzIj48L3NjcmlwdD4KICAgIDxzY3JpcHQgc3JjPSJodHRwczovL2FqYXguZ29vZ2xlYXBpcy5jb20vYWpheC9saWJzL2pxdWVyeS8xLjExLjEvanF1ZXJ5Lm1pbi5qcyI+PC9zY3JpcHQ+CiAgICA8c2NyaXB0IHNyYz0iaHR0cHM6Ly9tYXhjZG4uYm9vdHN0cmFwY2RuLmNvbS9ib290c3RyYXAvMy4yLjAvanMvYm9vdHN0cmFwLm1pbi5qcyI+PC9zY3JpcHQ+CiAgICA8c2NyaXB0IHNyYz0iaHR0cHM6Ly9jZG5qcy5jbG91ZGZsYXJlLmNvbS9hamF4L2xpYnMvTGVhZmxldC5hd2Vzb21lLW1hcmtlcnMvMi4wLjIvbGVhZmxldC5hd2Vzb21lLW1hcmtlcnMuanMiPjwvc2NyaXB0PgogICAgPGxpbmsgcmVsPSJzdHlsZXNoZWV0IiBocmVmPSJodHRwczovL2Nkbi5qc2RlbGl2ci5uZXQvbnBtL2xlYWZsZXRAMS4yLjAvZGlzdC9sZWFmbGV0LmNzcyIvPgogICAgPGxpbmsgcmVsPSJzdHlsZXNoZWV0IiBocmVmPSJodHRwczovL21heGNkbi5ib290c3RyYXBjZG4uY29tL2Jvb3RzdHJhcC8zLjIuMC9jc3MvYm9vdHN0cmFwLm1pbi5jc3MiLz4KICAgIDxsaW5rIHJlbD0ic3R5bGVzaGVldCIgaHJlZj0iaHR0cHM6Ly9tYXhjZG4uYm9vdHN0cmFwY2RuLmNvbS9ib290c3RyYXAvMy4yLjAvY3NzL2Jvb3RzdHJhcC10aGVtZS5taW4uY3NzIi8+CiAgICA8bGluayByZWw9InN0eWxlc2hlZXQiIGhyZWY9Imh0dHBzOi8vbWF4Y2RuLmJvb3RzdHJhcGNkbi5jb20vZm9udC1hd2Vzb21lLzQuNi4zL2Nzcy9mb250LWF3ZXNvbWUubWluLmNzcyIvPgogICAgPGxpbmsgcmVsPSJzdHlsZXNoZWV0IiBocmVmPSJodHRwczovL2NkbmpzLmNsb3VkZmxhcmUuY29tL2FqYXgvbGlicy9MZWFmbGV0LmF3ZXNvbWUtbWFya2Vycy8yLjAuMi9sZWFmbGV0LmF3ZXNvbWUtbWFya2Vycy5jc3MiLz4KICAgIDxsaW5rIHJlbD0ic3R5bGVzaGVldCIgaHJlZj0iaHR0cHM6Ly9yYXdnaXQuY29tL3B5dGhvbi12aXN1YWxpemF0aW9uL2ZvbGl1bS9tYXN0ZXIvZm9saXVtL3RlbXBsYXRlcy9sZWFmbGV0LmF3ZXNvbWUucm90YXRlLmNzcyIvPgogICAgPHN0eWxlPmh0bWwsIGJvZHkge3dpZHRoOiAxMDAlO2hlaWdodDogMTAwJTttYXJnaW46IDA7cGFkZGluZzogMDt9PC9zdHlsZT4KICAgIDxzdHlsZT4jbWFwIHtwb3NpdGlvbjphYnNvbHV0ZTt0b3A6MDtib3R0b206MDtyaWdodDowO2xlZnQ6MDt9PC9zdHlsZT4KICAgIAogICAgICAgICAgICA8c3R5bGU+ICNtYXBfNDZhOGUzYmMxZmFmNDZjYTg0ZDI1OGNlMTg1ZmQ1NWIgewogICAgICAgICAgICAgICAgcG9zaXRpb24gOiByZWxhdGl2ZTsKICAgICAgICAgICAgICAgIHdpZHRoIDogMTAwLjAlOwogICAgICAgICAgICAgICAgaGVpZ2h0OiAxMDAuMCU7CiAgICAgICAgICAgICAgICBsZWZ0OiAwLjAlOwogICAgICAgICAgICAgICAgdG9wOiAwLjAlOwogICAgICAgICAgICAgICAgfQogICAgICAgICAgICA8L3N0eWxlPgogICAgICAgIAo8L2hlYWQ+Cjxib2R5PiAgICAKICAgIAogICAgICAgICAgICA8ZGl2IGNsYXNzPSJmb2xpdW0tbWFwIiBpZD0ibWFwXzQ2YThlM2JjMWZhZjQ2Y2E4NGQyNThjZTE4NWZkNTViIiA+PC9kaXY+CiAgICAgICAgCjwvYm9keT4KPHNjcmlwdD4gICAgCiAgICAKCiAgICAgICAgICAgIAogICAgICAgICAgICAgICAgdmFyIGJvdW5kcyA9IG51bGw7CiAgICAgICAgICAgIAoKICAgICAgICAgICAgdmFyIG1hcF80NmE4ZTNiYzFmYWY0NmNhODRkMjU4Y2UxODVmZDU1YiA9IEwubWFwKAogICAgICAgICAgICAgICAgICAgICAgICAgICAgICAgICAgJ21hcF80NmE4ZTNiYzFmYWY0NmNhODRkMjU4Y2UxODVmZDU1YicsCiAgICAgICAgICAgICAgICAgICAgICAgICAgICAgICAgICB7Y2VudGVyOiBbLTIzLjU1MDY1MDcsLTQ2LjYzMzM4MjRdLAogICAgICAgICAgICAgICAgICAgICAgICAgICAgICAgICAgem9vbTogMTAsCiAgICAgICAgICAgICAgICAgICAgICAgICAgICAgICAgICBtYXhCb3VuZHM6IGJvdW5kcywKICAgICAgICAgICAgICAgICAgICAgICAgICAgICAgICAgIGxheWVyczogW10sCiAgICAgICAgICAgICAgICAgICAgICAgICAgICAgICAgICB3b3JsZENvcHlKdW1wOiBmYWxzZSwKICAgICAgICAgICAgICAgICAgICAgICAgICAgICAgICAgIGNyczogTC5DUlMuRVBTRzM4NTcKICAgICAgICAgICAgICAgICAgICAgICAgICAgICAgICAgfSk7CiAgICAgICAgICAgIAogICAgICAgIAogICAgCiAgICAgICAgICAgIHZhciB0aWxlX2xheWVyXzdlMTVlNGRlY2FlYjRhZGRiZjBjYTU0ZDQwYmU1OGY0ID0gTC50aWxlTGF5ZXIoCiAgICAgICAgICAgICAgICAnaHR0cHM6Ly97c30udGlsZS5vcGVuc3RyZWV0bWFwLm9yZy97en0ve3h9L3t5fS5wbmcnLAogICAgICAgICAgICAgICAgewogICJhdHRyaWJ1dGlvbiI6IG51bGwsCiAgImRldGVjdFJldGluYSI6IGZhbHNlLAogICJtYXhab29tIjogMTgsCiAgIm1pblpvb20iOiAxLAogICJub1dyYXAiOiBmYWxzZSwKICAic3ViZG9tYWlucyI6ICJhYmMiCn0KICAgICAgICAgICAgICAgICkuYWRkVG8obWFwXzQ2YThlM2JjMWZhZjQ2Y2E4NGQyNThjZTE4NWZkNTViKTsKICAgICAgICAKICAgIAoKICAgICAgICAgICAgCgogICAgICAgICAgICAgICAgdmFyIGdlb19qc29uXzIyNDFhYTMzMGEzMTQ5NDc5Yjc5M2U0ZjI1YWJlNjQzID0gTC5nZW9Kc29uKAogICAgICAgICAgICAgICAgICAgIHsiZmVhdHVyZXMiOiBbeyJnZW9tZXRyeSI6IHsiY29vcmRpbmF0ZXMiOiBbW1stNDYuNTM3MjI4NzAxNywgLTIzLjM2OTE4MTgzMTNdLCBbLTQ2LjU0NDk4NzczMjUsIC0yMy4zNzYxMjQxMzk5XSwgWy00Ni41NDY1MTY2NzgxLCAtMjMuMzg3MDI0NjEwNV0sIFstNDYuNTU3MTUwODc0MSwgLTIzLjM5ODI3MzYzMjZdLCBbLTQ2LjU1OTQwMTYxNTksIC0yMy40MDAxODAwNDVdLCBbLTQ2LjU1NjI4MDU0ODUsIC0yMy40MDUxMTE2NDcyXSwgWy00Ni41NTYyOTI0NDczLCAtMjMuNDA5Mzk0MzE4NF0sIFstNDYuNTYxOTE3Mzc0MSwgLTIzLjQxMTg1ODEzNF0sIFstNDYuNTY2Njk2MDAzMywgLTIzLjQxNjMyNzcwOTldLCBbLTQ2LjU2NjIxNTg1OTUsIC0yMy40MjA4NDQ4MzIyXSwgWy00Ni41NjY4MjA4Mjc4LCAtMjMuNDI5NTE3NzEwNF0sIFstNDYuNTY2Njg4ODQyMSwgLTIzLjQzMDI2MTk3MTRdLCBbLTQ2LjU2NjI4ODMyNTUsIC0yMy40MzI1MjMyNjM3XSwgWy00Ni41NjUxNDMxMjQsIC0yMy40Mzg5ODIxMTU2XSwgWy00Ni41NjUxMTU2MTkyLCAtMjMuNDM5MDM1NTc1NF0sIFstNDYuNTY4ODI1ODMyMiwgLTIzLjQ1MDI0OTcxMTldLCBbLTQ2LjU3MDI2NTU0ODIsIC0yMy40NTg3MzA1NTc4XSwgWy00Ni41NjAzMDk0Njc0LCAtMjMuNDc1MTc2NzAyMl0sIFstNDYuNTYwODc1NDM0NywgLTIzLjQ4Njk1MjExMjldLCBbLTQ2LjU2MTk3NjA2OCwgLTIzLjQ5OTU2ODA2MTZdLCBbLTQ2LjU1NTM5NTU5MzYsIC0yMy41MDk3MDcwMTE4XSwgWy00Ni41NTA5ODg2MDQyLCAtMjMuNTA2OTg0OTAzMl0sIFstNDYuNTQ1NDQwODkxMiwgLTIzLjUwNTQxODU3NjhdLCBbLTQ2LjUyMTY5MTMzNDEsIC0yMy40ODM4Mjg0Mzc4XSwgWy00Ni40OTg4ODUyMjEzLCAtMjMuNDc1OTk5MTc5OV0sIFstNDYuNDgzNzcxMjI0OSwgLTIzLjQ3NzEwNzA5NTZdLCBbLTQ2LjQ2OTE4MDExOTIsIC0yMy40ODEwMTY2NzUyXSwgWy00Ni40NTYzMjg3OTQ5LCAtMjMuNDgyMTcxMTMyNV0sIFstNDYuNDM5NDQxNzQxNSwgLTIzLjQ3OTUyNDU2NjldLCBbLTQ2LjQzNDgwNzIzOTYsIC0yMy40Nzc5NTEyNzE3XSwgWy00Ni40MzU4Njc4NDgyLCAtMjMuNDc1NTU4MzYzMl0sIFstNDYuNDMwNjIzMjgxNywgLTIzLjQ3NzcwMTAzNzFdLCBbLTQ2LjQyNjc4ODAwMDksIC0yMy40NzE4OTAyMDYxXSwgWy00Ni40MTQ1ODg0NSwgLTIzLjQ3NDE1OTcwMzZdLCBbLTQ2LjQxMDIxOTE2OTcsIC0yMy40NzAzMDA5NTk0XSwgWy00Ni40MDc0NDM1Mjg1LCAtMjMuNDcyNTExMDI2N10sIFstNDYuNDA5ODYxNDY4OCwgLTIzLjQ3NDc5NzI3MjNdLCBbLTQ2LjQwNDIzMTEwNjMsIC0yMy40Nzc5ODAyODE0XSwgWy00Ni40MDYxMTIwODU2LCAtMjMuNDg1NDM3MTk1M10sIFstNDYuNDAwODcxMDkwMiwgLTIzLjQ4NjgzNzUyOTVdLCBbLTQ2LjM5OTcwMzM3MzksIC0yMy40ODMxNTA1NjMzXSwgWy00Ni4zODczMzE3Mzg5LCAtMjMuNDgxNjEzODMxXSwgWy00Ni4zODYzMDA3NjczLCAtMjMuNDc0NDI3MDIyXSwgWy00Ni4zODE4MjE2NDc5LCAtMjMuNDcyNDgzODI3OV0sIFstNDYuMzc4MjIzMDAzMSwgLTIzLjQ4MTMyNjAyNDNdLCBbLTQ2LjM2NTI2ODc2OTEsIC0yMy41MDI4MzIwMDYzXSwgWy00Ni4zNjU3MzAzMDI4LCAtMjMuNTExNTYzMzk2Nl0sIFstNDYuMzY1NzU3MTQxNSwgLTIzLjUxMTgyNzY1ODVdLCBbLTQ2LjM3MzIyODY0NDQsIC0yMy41MTEyMDA1MzY0XSwgWy00Ni4zNzc2MjYzMDQsIC0yMy41MTU5MjMzMzc1XSwgWy00Ni4zODU3NzI4NTQ4LCAtMjMuNTIxMzA4NDMxXSwgWy00Ni4zODY1Mjk0NDMxLCAtMjMuNTI1OTkzMjc5MV0sIFstNDYuMzk1MzA0OTM1LCAtMjMuNTMwNjc0NDk3N10sIFstNDYuMzg5MzE4Mzc3MiwgLTIzLjU0MjI2MTE5OThdLCBbLTQ2LjM4Nzc3MjQzMjcsIC0yMy41NDY3MjEwODQzXSwgWy00Ni4zOTUxOTQ5MzI0LCAtMjMuNTQ4ODM4MTc1XSwgWy00Ni4zOTQ2NjUxMDg3LCAtMjMuNTUxMTI5Nzg4MV0sIFstNDYuMzkyOTg3OTExLCAtMjMuNTUyMzMzNTIxMl0sIFstNDYuMzkyNjgwMzUxNiwgLTIzLjU1MzY2NDgyNDVdLCBbLTQ2LjM4OTMyMjI5MDIsIC0yMy41NjAyNDcxNzA0XSwgWy00Ni4zNzkyMzMyMzI3LCAtMjMuNTYxODg1MDcyNl0sIFstNDYuMzgzNDMxMjY0NiwgLTIzLjU2OTkwMzg1NDNdLCBbLTQ2LjM3ODA2MjcxMDYsIC0yMy41NzQ1NjUxMDE1XSwgWy00Ni4zODI0NTY4MDg3LCAtMjMuNTc3MzY1NjgyN10sIFstNDYuMzc5ODE4MDA1OCwgLTIzLjU4MzQxMjczODVdLCBbLTQ2LjM3Njg5MTM3NjYsIC0yMy41OTAxMTg3ODExXSwgWy00Ni4zODE3Mzg1MTc3LCAtMjMuNTkwNTE0NzczNl0sIFstNDYuMzgzMDM5ODAwNCwgLTIzLjU5OTQ2MTUxNjhdLCBbLTQ2LjM5MDU3MzMwNDQsIC0yMy42MDI1NTIzNTMyXSwgWy00Ni4zOTY4MTQ5MzMsIC0yMy42MDQxMTk4MDY2XSwgWy00Ni4zOTk1MjM5NjQ3LCAtMjMuNjA2MDgzNDAwOF0sIFstNDYuMzk0NjMwOTI0MSwgLTIzLjYxMjM2OTMyNjZdLCBbLTQ2LjM5NTgwMTYxNjIsIC0yMy42MTQ1MTU3MDcyXSwgWy00Ni4zOTc3NTczNTk3LCAtMjMuNjE4MDk5NTEzM10sIFstNDYuNDA2NjI0MzY1MywgLTIzLjYyMzU0OTc0MjJdLCBbLTQ2LjQwNzExOTEwMzIsIC0yMy42MzI0MTUzMjE2XSwgWy00Ni40MjExNjExMDc5LCAtMjMuNjQyMzI3OTE5OF0sIFstNDYuNDIzMjAxMDU2NCwgLTIzLjY0NDk0NzI3NzZdLCBbLTQ2LjQyOTczOTU2MzcsIC0yMy42MzYxOTU2MzQ2XSwgWy00Ni40MzE5MzE4NjM1LCAtMjMuNjM4NTQxMzQ0XSwgWy00Ni40MzE3MzM5Nzc2LCAtMjMuNjQxMDYzNzcwOV0sIFstNDYuNDM2NDI2NzM1MiwgLTIzLjY0MTM5NjI1NDNdLCBbLTQ2LjQ0ODM1NjMyMjQsIC0yMy42NDMyNjczMDldLCBbLTQ2LjQ1MzkzMzIwNjcsIC0yMy42NDA5NjYzNDQzXSwgWy00Ni40NTY2NzY3MDM2LCAtMjMuNjQxMjQ5NzU0N10sIFstNDYuNDYzNDgxNjM1MSwgLTIzLjYzODc1MTkyNjVdLCBbLTQ2LjQ3MjE3NDUzMDYsIC0yMy42Mzg3Mjc5ODA2XSwgWy00Ni40NzY4MjA1MTc4LCAtMjMuNjI2MDczNzY2NV0sIFstNDYuNDgxMjk2MzgxLCAtMjMuNjI0MDIxOTMwOF0sIFstNDYuNDgzNjk0Mzg4OSwgLTIzLjYyMzg1NjQxXSwgWy00Ni40ODUwOTc0MzY0LCAtMjMuNjIyODg1MzcxXSwgWy00Ni41MDQxMzAxODQzLCAtMjMuNjI1NDY2MTcyXSwgWy00Ni41MjI0NzQ1MDY2LCAtMjMuNjEzNzYyODYxNV0sIFstNDYuNTM0MzY2MzcxMSwgLTIzLjYxNDQ0MzAwMzVdLCBbLTQ2LjU0NzgxNTM0MywgLTIzLjYwNjA5OTk2MjJdLCBbLTQ2LjU1MTA4ODE5NTEsIC0yMy42MDY1ODgxOTY3XSwgWy00Ni41NTcyNDMzMTkyLCAtMjMuNjExOTU2NDMzN10sIFstNDYuNTc5NDY3MzI2NywgLTIzLjU5OTEyNjMwMjRdLCBbLTQ2LjU3OTg3OTg5OTUsIC0yMy42MDM0MTc0NTY2XSwgWy00Ni41ODA0MzU3NTA1LCAtMjMuNjExNDg2OTM1NV0sIFstNDYuNTgzMzk1MzA1NiwgLTIzLjY0MDczNTkyMDVdLCBbLTQ2LjU4NDgyNDY5OTgsIC0yMy42NDUyNDg3MjkzXSwgWy00Ni41OTY1NDk1NDQ4LCAtMjMuNjUyNTM5ODQ3M10sIFstNDYuNjE0MDY2NDEyMSwgLTIzLjY2MDA5NDkwMjRdLCBbLTQ2LjYxNjE4NjQ5MTksIC0yMy42NTc5MDQ5NjQ1XSwgWy00Ni42MTY1MTE0Njc2LCAtMjMuNjU3NzEyMDU2M10sIFstNDYuNjI2MzM1NTY2OSwgLTIzLjY2MTIyNjc5MzddLCBbLTQ2LjYzMDUwNzM2MjcsIC0yMy42NzIxNTg1Njc4XSwgWy00Ni42MzA5MTgzMTk4LCAtMjMuNjcyOTEzMzI2N10sIFstNDYuNjI4MDA5NzA1MiwgLTIzLjY3NjQ0NzA0NjhdLCBbLTQ2LjYzMjU5ODU0ODgsIC0yMy42ODAxNzk5Nzg3XSwgWy00Ni42MzUzNDI2NzMyLCAtMjMuNjkwOTUyNzYwNF0sIFstNDYuNjMzMTk4OTQzOCwgLTIzLjY5NzA4NzgzMDRdLCBbLTQ2LjYyNzcxNjM1MDEsIC0yMy42OTczNjg5MjIyXSwgWy00Ni42MjMyMzc2NTg0LCAtMjMuNzA3NDkwOTEyNF0sIFstNDYuNjE3NTQzODYyNiwgLTIzLjcxMTI1MzE4ODNdLCBbLTQ2LjYzNzI1NDc5MjIsIC0yMy43MjU4NDkyMzldLCBbLTQ2LjY0OTc4ODQ5MDksIC0yMy43MzAwMDk5MTZdLCBbLTQ2LjY1MTYyNzkwMzgsIC0yMy43MzA5MzI3MjIyXSwgWy00Ni42NDI1NzkzOTk1LCAtMjMuNzYwNDcyMTAwN10sIFstNDYuNjM0ODk0NzExLCAtMjMuNzY5MDUwNzc0Ml0sIFstNDYuNjI1MTYzNzUxNywgLTIzLjc3OTc4ODkxOTNdLCBbLTQ2LjYyMjQ2NTg2LCAtMjMuNzg5NTU1ODc0NV0sIFstNDYuNjIyODkxNDE3OSwgLTIzLjgwMTMwNTQ0NzRdLCBbLTQ2LjYyMjkzNjcxNjMsIC0yMy44MDIzNDE5MTAyXSwgWy00Ni42MjMwNTIxNDQ1LCAtMjMuODExMDM1Nzg1Ml0sIFstNDYuNjI4NzAzNDA3OSwgLTIzLjgyMzIwNDM5MDRdLCBbLTQ2LjYzMzk0NzU5OTcsIC0yMy44MzAxNDQzMTRdLCBbLTQ2LjYzMzMxODAzNTYsIC0yMy44NDEyODEwMzgxXSwgWy00Ni42MzE2NjIyNzA2LCAtMjMuODUyNjg2ODA0Ml0sIFstNDYuNjE1NjQzNzY0MiwgLTIzLjg2MjM1NTQ0NV0sIFstNDYuNjE2NzIwMDg3NiwgLTIzLjg4MTk3Nzc1ODFdLCBbLTQ2LjYxNjkyOTE0NDIsIC0yMy44ODMxMjE2OTQxXSwgWy00Ni42MTQ4MTAxMDYxLCAtMjMuODk5NTIxMDM3NV0sIFstNDYuNjA4Nzk2MjA0NiwgLTIzLjkwNDEyNTI5MDldLCBbLTQ2LjYwOTIwMTU1NTMsIC0yMy45MDQ5MTMxOTM1XSwgWy00Ni42MTExNzUzMTE4LCAtMjMuOTEyMDE2ODI0MV0sIFstNDYuNjA4Njk3MjAxLCAtMjMuOTIxOTE1NTA4Ml0sIFstNDYuNjEyMjc1OTQwNywgLTIzLjkyOTU3MjY0OTRdLCBbLTQ2LjYxNjI2MjY0NTMsIC0yMy45MzAzNjAxNjFdLCBbLTQ2LjYxNDk3MzkzNjMsIC0yMy45MzYzMzAyODI2XSwgWy00Ni42MDY2MjgzMDc2LCAtMjMuOTM4MzYzNTUwN10sIFstNDYuNjA3MzE2NjA1MywgLTIzLjk0Nzk2NjQyMzVdLCBbLTQ2LjYxMDc4NTk4NzksIC0yMy45NTAzNzUxNTldLCBbLTQ2LjYwNjA3NTU4MTgsIC0yMy45NTY0NTM0NjE2XSwgWy00Ni42MTE0OTEyNzYsIC0yMy45NjcyNzExMjhdLCBbLTQ2LjYxMjQyNTc4OTEsIC0yMy45Njk1MDU2NjIxXSwgWy00Ni42MTc1Mjc1NjcsIC0yMy45NjcyODUwODIxXSwgWy00Ni42MzE3OTkyNDk5LCAtMjMuOTc1NDMyNDU4M10sIFstNDYuNjMyMjYyODgxMSwgLTIzLjk3NTU4Mzg3ODNdLCBbLTQ2LjYzNTYzNDQ2MTcsIC0yMy45NzcyNzc0MTRdLCBbLTQ2LjYzMDE1NDUwNjEsIC0yMy45ODk3ODUyODczXSwgWy00Ni42MzU2OTMxNDY5LCAtMjMuOTk0NDU3MzYxNF0sIFstNDYuNjQ5NzM0MzEzMywgLTI0LjAwMTA1MjExODhdLCBbLTQ2LjY2MTQ4NjEwNTMsIC0yMy45ODc5OTQ5NDA4XSwgWy00Ni42ODQyOTk4MjY5LCAtMjMuOTg3NDUzODc0M10sIFstNDYuNjg1MTc2MDg1NSwgLTIzLjk4NTczMDA3MjJdLCBbLTQ2LjY5MjkzNjE2NDUsIC0yMy45ODM1Mzk0NzIxXSwgWy00Ni42OTYwOTI2OTg1LCAtMjMuOTg5MDIzNjI1MV0sIFstNDYuNzA2NDg4ODM0NiwgLTIzLjk4OTg1NzUyNTldLCBbLTQ2LjcxMDc1NTk4MSwgLTIzLjk5NTI1NTc0MDJdLCBbLTQ2LjcxNzc0MzA1NzIsIC0yMy45OTU3MzgzOTU4XSwgWy00Ni43MjE1MTY5NTMyLCAtMjMuOTkyMzc4NDQ2XSwgWy00Ni43MzIxNTE1Mzk2LCAtMjMuOTk1NzU3OTAzN10sIFstNDYuNzQyNTkzMDM0OSwgLTIzLjk5MTUzODUzNzhdLCBbLTQ2Ljc1MjIwMDI3MDQsIC0yMy45OTU5OTE3OTkyXSwgWy00Ni43NTQ5ODQ3MDQ4LCAtMjQuMDAxODA0NDQ2M10sIFstNDYuNzcxNTY5MDc0OSwgLTI0LjAwNzQzODQ1MTddLCBbLTQ2Ljc3MzU0MDEyNjYsIC0yNC4wMDEwMDkxNjU4XSwgWy00Ni43NjgwMDA4NTA0LCAtMjMuOTk4ODY5ODk0MV0sIFstNDYuNzY5MzM1Mjc5MiwgLTIzLjk5NTkyNTc5MThdLCBbLTQ2Ljc1NDcxMzgzNDcsIC0yMy45NzUzOTY4NDU4XSwgWy00Ni43NTk5NTUyMjE0LCAtMjMuOTY5ODU4NTUwNl0sIFstNDYuNzYyNjk5NTE1MywgLTIzLjk2ODExNzUxNThdLCBbLTQ2Ljc2MjE1MDA1NTksIC0yMy45NjMyMTkwMDUyXSwgWy00Ni43NzEwMzgwNTMsIC0yMy45NjEzNTE2NDRdLCBbLTQ2Ljc3NTMzNjk3NDgsIC0yMy45NTYxMjE0MDg2XSwgWy00Ni43NzQxMzA2ODE3LCAtMjMuOTUwMjc3MDI0NV0sIFstNDYuNzc4NTMzNjk4MSwgLTIzLjk0OTE4NzAzNl0sIFstNDYuNzg3ODk2NDc2MywgLTIzLjk0MTA3MDM0NjZdLCBbLTQ2Ljc5MzAzNjU4NTMsIC0yMy45NDM2MTE5NjI5XSwgWy00Ni43OTU3OTcxNDQzLCAtMjMuOTM5OTkwMzMxMl0sIFstNDYuODA2NjIxMDkxNiwgLTIzLjkzODg1MzgxNTJdLCBbLTQ2LjgxMDY4NDA0NTMsIC0yMy45MTk1NjMxMzkzXSwgWy00Ni44MTE2ODc5NDQ4LCAtMjMuOTA5MDQ1NDcyXSwgWy00Ni44MDM5NjEwODk2LCAtMjMuODkyNzA4MjU5MV0sIFstNDYuODA1NzM4NDI5NSwgLTIzLjg4Njk4NDc0OTNdLCBbLTQ2Ljc5OTM4MDg2NCwgLTIzLjg5MzYzMjE2NzJdLCBbLTQ2Ljc3NjQ3NzMzOCwgLTIzLjg5MjAyMzE4NTNdLCBbLTQ2Ljc3NjM2MzQyODIsIC0yMy44NzM2OTg1MzE3XSwgWy00Ni43NzYzMTU3ODI0LCAtMjMuODY2MDc0NTYwNl0sIFstNDYuNzc2MjUyODMwMiwgLTIzLjg1NTYxOTIzMTRdLCBbLTQ2Ljc3OTkyMzYxMzcsIC0yMy44NDE2ODY0MTczXSwgWy00Ni43NjQ5NjczMjEzLCAtMjMuODQyNjM5NjA4Nl0sIFstNDYuNzYyNjQ3MTM5MywgLTIzLjgzNDkxNzc5NTddLCBbLTQ2Ljc2NTUyMTY0MTYsIC0yMy44MzM2NTI4MjA4XSwgWy00Ni43NjI3NTEzMTY2LCAtMjMuODI3MDk0NTM5N10sIFstNDYuNzY3Mzk4MzcwMiwgLTIzLjgyMzExNTcyNzddLCBbLTQ2Ljc3MzE1MDgxNjQsIC0yMy44MTgxOTc2ODgxXSwgWy00Ni44MDIwNjM5NTMyLCAtMjMuODA3MzMxODEzOF0sIFstNDYuNzg5MTU4OTIwNywgLTIzLjc4ODM0MzAxNjddLCBbLTQ2Ljc5MTc2MTM5NTUsIC0yMy43ODM3MzU1NTMxXSwgWy00Ni43ODk2ODU2NDk5LCAtMjMuNzc1MzY4OTM1NF0sIFstNDYuNzc2OTk4NzMxOCwgLTIzLjc2NjY1OTM3NzddLCBbLTQ2Ljc3MjM2OTY0MzksIC0yMy43NjUxMzAyODE1XSwgWy00Ni43Njg5NjczMTM0LCAtMjMuNzU1MjA0MDgzNV0sIFstNDYuNzcxMDQzMDExLCAtMjMuNzU0MDMwODE1Nl0sIFstNDYuNzc3MDY1MTIwNSwgLTIzLjc1MDYyNTIwODRdLCBbLTQ2Ljc4NjczOTQ2NTMsIC0yMy43NDY1MDk2MTAyXSwgWy00Ni43ODk3MzMzNTI5LCAtMjMuNzQxNDQ1MTM0XSwgWy00Ni43OTM2NjMxNDQ2LCAtMjMuNzM5NjI1NTI1NF0sIFstNDYuNzk2Nzg3Njk5NSwgLTIzLjczNDIxMzA0OTFdLCBbLTQ2Ljc5NzM1Mjk2MjYsIC0yMy43MzI3NDQ4NDE5XSwgWy00Ni43OTMyMDY5NTU3LCAtMjMuNzIzMjczMTA5OF0sIFstNDYuNzkyMzg3OTAwMSwgLTIzLjcwNzc3NTk1MDVdLCBbLTQ2Ljc5MTk0MTUyNiwgLTIzLjcwMTAxMjY1MTNdLCBbLTQ2LjgwMTI2MjY3MzQsIC0yMy42OTc4NDA4NDY0XSwgWy00Ni43OTc0MTY4Nzc5LCAtMjMuNjk2Mjc5MDgxMV0sIFstNDYuODAxMDI1MjY1OSwgLTIzLjY4Mzc2NTE4NjRdLCBbLTQ2Ljc5MjI5Nzk4MiwgLTIzLjY0OTQzNzUyMDldLCBbLTQ2Ljc5MjQ0NTc1NzUsIC0yMy42NDcwMDM0MzM0XSwgWy00Ni43NTE1MDIwNjMxLCAtMjMuNjA3OTc2NDgwMl0sIFstNDYuNzQ4OTAwODk2MSwgLTIzLjYwNDMwODY1MDhdLCBbLTQ2Ljc2MDIzNTU3OTQsIC0yMy41OTUyMzQ3MjM4XSwgWy00Ni43NzU0MDUwOTA0LCAtMjMuNjAzMzY4MTM3N10sIFstNDYuNzk4MjcwMTA3MywgLTIzLjYwNDc2NjI3OThdLCBbLTQ2LjgwNzU3MjY4MDksIC0yMy42MDg5NDgwMjE2XSwgWy00Ni44MDYyNzY0MzU2LCAtMjMuNTgzOTE5MjMzXSwgWy00Ni43OTQxOTIzMDI0LCAtMjMuNTgyNzY2MjMwNV0sIFstNDYuNzkxMjc5NTk2MiwgLTIzLjU3Nzg5NjQ5NDRdLCBbLTQ2Ljc4MjAyMzY3ODQsIC0yMy41NzQxMDUzMjk4XSwgWy00Ni43ODAyNTgzMDk3LCAtMjMuNTcwNjU4ODc3OF0sIFstNDYuNzcyNjczMTczOCwgLTIzLjU2OTY4ODgxNjhdLCBbLTQ2Ljc3MDczNTg2NTEsIC0yMy41NjQxNDkxNjU2XSwgWy00Ni43NjQ5Nzk4MzE1LCAtMjMuNTYzMjQwMDA4N10sIFstNDYuNzU3NzY1MzI0MywgLTIzLjU1MDMzNTg0NTNdLCBbLTQ2Ljc2MDE3MTA4OTcsIC0yMy41Mjk1NTUwNzk3XSwgWy00Ni43NTYxNjYyODk5LCAtMjMuNTI0NDg0NzMwMl0sIFstNDYuNzUwODk0NDY1NSwgLTIzLjUyNDg5MTgyNDZdLCBbLTQ2Ljc0NzM2MTAyMzUsIC0yMy41MjA0NzQ0NTEyXSwgWy00Ni43NTI4NTg2MTk5LCAtMjMuNTE5Nzc0MzY3OV0sIFstNDYuNzYzODc2NTk3NiwgLTIzLjUwNTk5NzM4NTZdLCBbLTQ2Ljc1NTQxNjUxNTksIC0yMy40OTYyNTc0MjE5XSwgWy00Ni43NTg0MTc2ODIsIC0yMy40OTQxNDAzMzFdLCBbLTQ2Ljc2NTc0MTUwOTksIC0yMy40OTIzMDg5MTY5XSwgWy00Ni43NzI1MTkzNjk5LCAtMjMuNDczNDIyODI3NV0sIFstNDYuNzc4MzA4NDIyMiwgLTIzLjQ3MDc3NjI3NDhdLCBbLTQ2Ljc3NzgwNjYyMzUsIC0yMy40NjQ3OTI5ODMzXSwgWy00Ni43ODU1MDg0OTQ4LCAtMjMuNDY1ODUxMzg2Ml0sIFstNDYuNzkyMDk3OTk3NSwgLTIzLjQ2MTMxMTExNzFdLCBbLTQ2Ljc5OTMwNDM5NzMsIC0yMy40NzExNjQ5NDldLCBbLTQ2LjgwMDQyNzk3OCwgLTIzLjQ3MDE2ODQ5MzJdLCBbLTQ2LjgwNzU0MTYxMTIsIC0yMy40NTMwNDcyMzgyXSwgWy00Ni44MDkzNDE3Njg3LCAtMjMuNDQyNzQ1Mzg4OF0sIFstNDYuODA5NzcyMjI3NywgLTIzLjQ0MTYwNDgwMTldLCBbLTQ2LjgyMjUwNTI2NzMsIC0yMy40MjEyNTQwMDg0XSwgWy00Ni44MTk0Mjc5NzE5LCAtMjMuNDE3ODA4NDY4OF0sIFstNDYuODI1OTg1NzY2MiwgLTIzLjQwODgwNTY0NTJdLCBbLTQ2LjgyNDI3ODYyNzgsIC0yMy40MDU4OTA2NzA1XSwgWy00Ni44MjI1MTQ3NDQyLCAtMjMuNDAwODc4Nzc4NF0sIFstNDYuODA3Nzg0MzcyNywgLTIzLjM5OTQyNDI5MDFdLCBbLTQ2LjgwMjQ5Njc3LCAtMjMuMzk0NzA0NjMxNF0sIFstNDYuNzk5MTY4MzEyNywgLTIzLjQwMjcyNjI5MThdLCBbLTQ2Ljc5MzUwNDE2ODYsIC0yMy4zOTk1NDgxMTk1XSwgWy00Ni43ODU5MDEwNzQ2LCAtMjMuNDA0ODkwMjc5N10sIFstNDYuNzgyNzUxODY3MywgLTIzLjQwMTkyMzIzMjJdLCBbLTQ2Ljc4MzQxNTYzNjUsIC0yMy4zOTg3MTE4MjE2XSwgWy00Ni43NzA2ODY0OTkzLCAtMjMuMzk3MjQ2MTQ2Ml0sIFstNDYuNzcwMDgxODc4MywgLTIzLjM4ODg4NjYxOTJdLCBbLTQ2Ljc2NDM1OTkwNTEsIC0yMy4zODQ5NzY3MjIxXSwgWy00Ni43NTQ4MDc5NjA2LCAtMjMuMzg3MTAyNjQzMV0sIFstNDYuNzU0NDk1NjU4NiwgLTIzLjM4NzE3MTc3MTRdLCBbLTQ2Ljc1MTIzMTc5ODcsIC0yMy4zOTAxNTA4NzM4XSwgWy00Ni43NDA2MzMxNzIsIC0yMy4zODkwNTc3NDQ4XSwgWy00Ni43MzQ5Nzg5NTE3LCAtMjMuMzg4MzU3NTk1N10sIFstNDYuNzI5MDQwMzc1NSwgLTIzLjM5NDIzMjM5NTRdLCBbLTQ2LjcyMTQyNTU1OCwgLTIzLjM5NTkyOTI3NzJdLCBbLTQ2LjcyMDEzNzc0NjUsIC0yMy40MDE1MzgzNzU0XSwgWy00Ni43MjAwNjczMjM5LCAtMjMuNDAxODIxNTU4M10sIFstNDYuNzE2MTcxMzUzMywgLTIzLjQwNzAyNjA1NjFdLCBbLTQ2LjcxMDAxODE3NDYsIC0yMy40MDY1NTEzODc1XSwgWy00Ni43MDc4MjUxMjksIC0yMy40MTYyNzI5ODkzXSwgWy00Ni43MDcwMDQ3MDg4LCAtMjMuNDE2Mjk4NjczOF0sIFstNDYuNzAyNTE3ODY1NCwgLTIzLjQxNzI3NDc2MDddLCBbLTQ2LjcwMDE3NDAxMTYsIC0yMy40MjE3NTc4NTI2XSwgWy00Ni42ODYyODcwMDEyLCAtMjMuNDI2Nzk5NDE1NV0sIFstNDYuNjg0NTkwMzE5NSwgLTIzLjQxODgwNDU4NTZdLCBbLTQ2LjY3OTcwNjQ1MTksIC0yMy40MTY4NzU2Nzg0XSwgWy00Ni42Nzc2ODQ2NTU5LCAtMjMuNDE1MTM1Njc1NF0sIFstNDYuNjY5MzAxODQ5LCAtMjMuNDE4MzEzOTgxNl0sIFstNDYuNjU0MTM5OTkxNCwgLTIzLjQzMDI3NDc3MDhdLCBbLTQ2LjY1MTAwNzc1NjksIC0yMy40Mjg2MTQ1MTE2XSwgWy00Ni42MzQ5OTYxMDIxLCAtMjMuNDI3ODQwNTM3XSwgWy00Ni42MzM1Njc3NDQ1LCAtMjMuNDI4MzY1MjQ0N10sIFstNDYuNjIxMzA1MzIwMywgLTIzLjQyMDY5NzE4NjRdLCBbLTQ2LjYyMTMxOTEyMTcsIC0yMy40MTk5OTMwNTUzXSwgWy00Ni42MjE3MDQ5MTg4LCAtMjMuNDE2NDMwNzA4Nl0sIFstNDYuNjEyMDU4NjIxOSwgLTIzLjQxNjg3MTgyNjZdLCBbLTQ2LjYxNDE1MTQwNiwgLTIzLjQxMTY3NDA2OTldLCBbLTQ2LjYxMDgzMzksIC0yMy40MTAyNzY1MzIxXSwgWy00Ni42MDg4OTM4MDY4LCAtMjMuNDAxNzU1OTkzNF0sIFstNDYuNTk5MTUzOTYzNCwgLTIzLjM5NTIxMjgyNjZdLCBbLTQ2LjYwMDYzNjgwNDEsIC0yMy4zODgzMjQ4MTQzXSwgWy00Ni41NzkyMjI3NzM5LCAtMjMuMzczMzUzNjY1Nl0sIFstNDYuNTc1MTUwNzgxOCwgLTIzLjM3MzUyMjU1MThdLCBbLTQ2LjU2OTI3NjA1NTUsIC0yMy4zNzU1MDIyNTY4XSwgWy00Ni41NjU2ODg1ODM2LCAtMjMuMzcxNDY1NDU5N10sIFstNDYuNTU4MDI1MTg3NSwgLTIzLjM2NTkyODA2NDNdLCBbLTQ2LjU0OTExNDk1NDksIC0yMy4zNTY4NDY1Njc2XSwgWy00Ni41NDQ0NTMyNTQ1LCAtMjMuMzU3ODI4MDAyMl0sIFstNDYuNTM2MTMzNzY2NCwgLTIzLjM2MzQ5MTU3MDNdLCBbLTQ2LjUzNzIyODcwMTcsIC0yMy4zNjkxODE4MzEzXV1dLCAidHlwZSI6ICJQb2x5Z29uIn0sICJwcm9wZXJ0aWVzIjogeyJkZXNjcmlwdGlvbiI6ICJTXHUwMGMzXHUwMGEzbyBQYXVsbyIsICJoaWdobGlnaHQiOiB7fSwgImlkIjogIjM1NTAzMDgiLCAibmFtZSI6ICJTXHUwMGMzXHUwMGEzbyBQYXVsbyIsICJzdHlsZSI6IHt9fSwgInR5cGUiOiAiRmVhdHVyZSJ9XSwgInR5cGUiOiAiRmVhdHVyZUNvbGxlY3Rpb24ifQogICAgICAgICAgICAgICAgICAgIAogICAgICAgICAgICAgICAgICAgICkuYWRkVG8obWFwXzQ2YThlM2JjMWZhZjQ2Y2E4NGQyNThjZTE4NWZkNTViKTsKICAgICAgICAgICAgICAgIGdlb19qc29uXzIyNDFhYTMzMGEzMTQ5NDc5Yjc5M2U0ZjI1YWJlNjQzLnNldFN0eWxlKGZ1bmN0aW9uKGZlYXR1cmUpIHtyZXR1cm4gZmVhdHVyZS5wcm9wZXJ0aWVzLnN0eWxlO30pOwoKICAgICAgICAgICAgCiAgICAKICAgICAgICAgICAgdmFyIGNpcmNsZV9tYXJrZXJfNWIwMzlmZmZlYzk4NGM4NjhiODIyMTlkZDI4ZTUxMjcgPSBMLmNpcmNsZU1hcmtlcigKICAgICAgICAgICAgICAgIFstMjMuNTk3MDg1LC00Ni42NjI4ODgzOTk5OTk5OV0sCiAgICAgICAgICAgICAgICB7CiAgImJ1YmJsaW5nTW91c2VFdmVudHMiOiB0cnVlLAogICJjb2xvciI6ICJncmVlbiIsCiAgImRhc2hBcnJheSI6IG51bGwsCiAgImRhc2hPZmZzZXQiOiBudWxsLAogICJmaWxsIjogdHJ1ZSwKICAiZmlsbENvbG9yIjogIiM3MGRiNzAiLAogICJmaWxsT3BhY2l0eSI6IDAuNywKICAiZmlsbFJ1bGUiOiAiZXZlbm9kZCIsCiAgImxpbmVDYXAiOiAicm91bmQiLAogICJsaW5lSm9pbiI6ICJyb3VuZCIsCiAgIm9wYWNpdHkiOiAxLjAsCiAgInJhZGl1cyI6IDUsCiAgInN0cm9rZSI6IHRydWUsCiAgIndlaWdodCI6IDMKfQogICAgICAgICAgICAgICAgKS5hZGRUbyhtYXBfNDZhOGUzYmMxZmFmNDZjYTg0ZDI1OGNlMTg1ZmQ1NWIpOwogICAgICAgICAgICAKICAgIAogICAgICAgICAgICB2YXIgcG9wdXBfNzY5NDkxMmM4ZjE1NGFjYThlMWY4Y2I5N2U0NWQzMDYgPSBMLnBvcHVwKHttYXhXaWR0aDogJzMwMCd9KTsKCiAgICAgICAgICAgIAogICAgICAgICAgICAgICAgdmFyIGh0bWxfMmFiYzczMDdlZTQxNGZmNmFkMWRjMTk3OWZhZGUyZWQgPSAkKCc8ZGl2IGlkPSJodG1sXzJhYmM3MzA3ZWU0MTRmZjZhZDFkYzE5NzlmYWRlMmVkIiBzdHlsZT0id2lkdGg6IDEwMC4wJTsgaGVpZ2h0OiAxMDAuMCU7Ij5Nb2VtYSwgVmlsYSBNYXJpYW5hIC0gU291dGg8L2Rpdj4nKVswXTsKICAgICAgICAgICAgICAgIHBvcHVwXzc2OTQ5MTJjOGYxNTRhY2E4ZTFmOGNiOTdlNDVkMzA2LnNldENvbnRlbnQoaHRtbF8yYWJjNzMwN2VlNDE0ZmY2YWQxZGMxOTc5ZmFkZTJlZCk7CiAgICAgICAgICAgIAoKICAgICAgICAgICAgY2lyY2xlX21hcmtlcl81YjAzOWZmZmVjOTg0Yzg2OGI4MjIxOWRkMjhlNTEyNy5iaW5kUG9wdXAocG9wdXBfNzY5NDkxMmM4ZjE1NGFjYThlMWY4Y2I5N2U0NWQzMDYpOwoKICAgICAgICAgICAgCiAgICAgICAgCiAgICAKICAgICAgICAgICAgdmFyIGNpcmNsZV9tYXJrZXJfODQ4MTAzNGNkNzE3NDJhZDk2NTI1ZWE2MTkzMDdiOWIgPSBMLmNpcmNsZU1hcmtlcigKICAgICAgICAgICAgICAgIFstMjMuNTk2NDk4ODAwMDAwMDAzLC00Ni43MTc4NDQ2XSwKICAgICAgICAgICAgICAgIHsKICAiYnViYmxpbmdNb3VzZUV2ZW50cyI6IHRydWUsCiAgImNvbG9yIjogImdyZWVuIiwKICAiZGFzaEFycmF5IjogbnVsbCwKICAiZGFzaE9mZnNldCI6IG51bGwsCiAgImZpbGwiOiB0cnVlLAogICJmaWxsQ29sb3IiOiAiIzcwZGI3MCIsCiAgImZpbGxPcGFjaXR5IjogMC43LAogICJmaWxsUnVsZSI6ICJldmVub2RkIiwKICAibGluZUNhcCI6ICJyb3VuZCIsCiAgImxpbmVKb2luIjogInJvdW5kIiwKICAib3BhY2l0eSI6IDEuMCwKICAicmFkaXVzIjogNSwKICAic3Ryb2tlIjogdHJ1ZSwKICAid2VpZ2h0IjogMwp9CiAgICAgICAgICAgICAgICApLmFkZFRvKG1hcF80NmE4ZTNiYzFmYWY0NmNhODRkMjU4Y2UxODVmZDU1Yik7CiAgICAgICAgICAgIAogICAgCiAgICAgICAgICAgIHZhciBwb3B1cF82MzRiMThjMmY2MWM0MjEzYjg2NTE2YTBmODI5OWE1MyA9IEwucG9wdXAoe21heFdpZHRoOiAnMzAwJ30pOwoKICAgICAgICAgICAgCiAgICAgICAgICAgICAgICB2YXIgaHRtbF9hZjE5ZDYxZTdhNDA0MTk5YTE1Mjg4NmM5OTRkYmM5MCA9ICQoJzxkaXYgaWQ9Imh0bWxfYWYxOWQ2MWU3YTQwNDE5OWExNTI4ODZjOTk0ZGJjOTAiIHN0eWxlPSJ3aWR0aDogMTAwLjAlOyBoZWlnaHQ6IDEwMC4wJTsiPk1vcnVtYmksIEJ1dGFudMOjIC0gV2VzdDwvZGl2PicpWzBdOwogICAgICAgICAgICAgICAgcG9wdXBfNjM0YjE4YzJmNjFjNDIxM2I4NjUxNmEwZjgyOTlhNTMuc2V0Q29udGVudChodG1sX2FmMTlkNjFlN2E0MDQxOTlhMTUyODg2Yzk5NGRiYzkwKTsKICAgICAgICAgICAgCgogICAgICAgICAgICBjaXJjbGVfbWFya2VyXzg0ODEwMzRjZDcxNzQyYWQ5NjUyNWVhNjE5MzA3YjliLmJpbmRQb3B1cChwb3B1cF82MzRiMThjMmY2MWM0MjEzYjg2NTE2YTBmODI5OWE1Myk7CgogICAgICAgICAgICAKICAgICAgICAKICAgIAogICAgICAgICAgICB2YXIgY2lyY2xlX21hcmtlcl9hZWU1NmEyNDE0OTM0MGU4YjU0MDllMzMyNmVjNmUwMiA9IEwuY2lyY2xlTWFya2VyKAogICAgICAgICAgICAgICAgWy0yMy41Njc0MzU1MDAwMDAwMDIsLTQ2LjY2MzY5MTcyMDYyNTE0NV0sCiAgICAgICAgICAgICAgICB7CiAgImJ1YmJsaW5nTW91c2VFdmVudHMiOiB0cnVlLAogICJjb2xvciI6ICJncmVlbiIsCiAgImRhc2hBcnJheSI6IG51bGwsCiAgImRhc2hPZmZzZXQiOiBudWxsLAogICJmaWxsIjogdHJ1ZSwKICAiZmlsbENvbG9yIjogIiM3MGRiNzAiLAogICJmaWxsT3BhY2l0eSI6IDAuNywKICAiZmlsbFJ1bGUiOiAiZXZlbm9kZCIsCiAgImxpbmVDYXAiOiAicm91bmQiLAogICJsaW5lSm9pbiI6ICJyb3VuZCIsCiAgIm9wYWNpdHkiOiAxLjAsCiAgInJhZGl1cyI6IDUsCiAgInN0cm9rZSI6IHRydWUsCiAgIndlaWdodCI6IDMKfQogICAgICAgICAgICAgICAgKS5hZGRUbyhtYXBfNDZhOGUzYmMxZmFmNDZjYTg0ZDI1OGNlMTg1ZmQ1NWIpOwogICAgICAgICAgICAKICAgIAogICAgICAgICAgICB2YXIgcG9wdXBfZjRkYWU4YmZhMzRiNGI2ZDg3MjBhZjU5ZjlhNDgwMzYgPSBMLnBvcHVwKHttYXhXaWR0aDogJzMwMCd9KTsKCiAgICAgICAgICAgIAogICAgICAgICAgICAgICAgdmFyIGh0bWxfMDZmNzE4ZTdjMGY2NGEyM2IyODIwN2MwY2NhN2QyM2EgPSAkKCc8ZGl2IGlkPSJodG1sXzA2ZjcxOGU3YzBmNjRhMjNiMjgyMDdjMGNjYTdkMjNhIiBzdHlsZT0id2lkdGg6IDEwMC4wJTsgaGVpZ2h0OiAxMDAuMCU7Ij5KYXJkaW0gUGF1bGlzdGEsIFBpbmhlaXJvcyAtIFdlc3Q8L2Rpdj4nKVswXTsKICAgICAgICAgICAgICAgIHBvcHVwX2Y0ZGFlOGJmYTM0YjRiNmQ4NzIwYWY1OWY5YTQ4MDM2LnNldENvbnRlbnQoaHRtbF8wNmY3MThlN2MwZjY0YTIzYjI4MjA3YzBjY2E3ZDIzYSk7CiAgICAgICAgICAgIAoKICAgICAgICAgICAgY2lyY2xlX21hcmtlcl9hZWU1NmEyNDE0OTM0MGU4YjU0MDllMzMyNmVjNmUwMi5iaW5kUG9wdXAocG9wdXBfZjRkYWU4YmZhMzRiNGI2ZDg3MjBhZjU5ZjlhNDgwMzYpOwoKICAgICAgICAgICAgCiAgICAgICAgCiAgICAKICAgICAgICAgICAgdmFyIGNpcmNsZV9tYXJrZXJfMzkxNzljMDE0MzUxNDM4ODlmMDMwOTA0YjRiZDQzNmQgPSBMLmNpcmNsZU1hcmtlcigKICAgICAgICAgICAgICAgIFstMjMuNTQ5NDYwOSwtNDYuNzEyMjkyNzQ4NDIxMDJdLAogICAgICAgICAgICAgICAgewogICJidWJibGluZ01vdXNlRXZlbnRzIjogdHJ1ZSwKICAiY29sb3IiOiAiZ3JlZW4iLAogICJkYXNoQXJyYXkiOiBudWxsLAogICJkYXNoT2Zmc2V0IjogbnVsbCwKICAiZmlsbCI6IHRydWUsCiAgImZpbGxDb2xvciI6ICIjNzBkYjcwIiwKICAiZmlsbE9wYWNpdHkiOiAwLjcsCiAgImZpbGxSdWxlIjogImV2ZW5vZGQiLAogICJsaW5lQ2FwIjogInJvdW5kIiwKICAibGluZUpvaW4iOiAicm91bmQiLAogICJvcGFjaXR5IjogMS4wLAogICJyYWRpdXMiOiA1LAogICJzdHJva2UiOiB0cnVlLAogICJ3ZWlnaHQiOiAzCn0KICAgICAgICAgICAgICAgICkuYWRkVG8obWFwXzQ2YThlM2JjMWZhZjQ2Y2E4NGQyNThjZTE4NWZkNTViKTsKICAgICAgICAgICAgCiAgICAKICAgICAgICAgICAgdmFyIHBvcHVwX2Y0N2E4MWQ3YmYwNjRlNzhiMzNhYjgxYTA3MTkxZjM5ID0gTC5wb3B1cCh7bWF4V2lkdGg6ICczMDAnfSk7CgogICAgICAgICAgICAKICAgICAgICAgICAgICAgIHZhciBodG1sXzUyYzZkNTUzNTAwYzRkMTdhZDA2MmJhN2NhNGRhOWJmID0gJCgnPGRpdiBpZD0iaHRtbF81MmM2ZDU1MzUwMGM0ZDE3YWQwNjJiYTdjYTRkYTliZiIgc3R5bGU9IndpZHRoOiAxMDAuMCU7IGhlaWdodDogMTAwLjAlOyI+QWx0byBkZSBQaW5oZWlyb3MsIFBpbmhlaXJvcyAtIFdlc3Q8L2Rpdj4nKVswXTsKICAgICAgICAgICAgICAgIHBvcHVwX2Y0N2E4MWQ3YmYwNjRlNzhiMzNhYjgxYTA3MTkxZjM5LnNldENvbnRlbnQoaHRtbF81MmM2ZDU1MzUwMGM0ZDE3YWQwNjJiYTdjYTRkYTliZik7CiAgICAgICAgICAgIAoKICAgICAgICAgICAgY2lyY2xlX21hcmtlcl8zOTE3OWMwMTQzNTE0Mzg4OWYwMzA5MDRiNGJkNDM2ZC5iaW5kUG9wdXAocG9wdXBfZjQ3YTgxZDdiZjA2NGU3OGIzM2FiODFhMDcxOTFmMzkpOwoKICAgICAgICAgICAgCiAgICAgICAgCiAgICAKICAgICAgICAgICAgdmFyIGNpcmNsZV9tYXJrZXJfYTE2ZGIxNzM2YTkwNGM3OWJmMDJmZjk1NzBjNGQ4MTMgPSBMLmNpcmNsZU1hcmtlcigKICAgICAgICAgICAgICAgIFstMjMuNTg0MzgwNywtNDYuNjc4NDQ0MV0sCiAgICAgICAgICAgICAgICB7CiAgImJ1YmJsaW5nTW91c2VFdmVudHMiOiB0cnVlLAogICJjb2xvciI6ICJncmVlbiIsCiAgImRhc2hBcnJheSI6IG51bGwsCiAgImRhc2hPZmZzZXQiOiBudWxsLAogICJmaWxsIjogdHJ1ZSwKICAiZmlsbENvbG9yIjogIiM3MGRiNzAiLAogICJmaWxsT3BhY2l0eSI6IDAuNywKICAiZmlsbFJ1bGUiOiAiZXZlbm9kZCIsCiAgImxpbmVDYXAiOiAicm91bmQiLAogICJsaW5lSm9pbiI6ICJyb3VuZCIsCiAgIm9wYWNpdHkiOiAxLjAsCiAgInJhZGl1cyI6IDUsCiAgInN0cm9rZSI6IHRydWUsCiAgIndlaWdodCI6IDMKfQogICAgICAgICAgICAgICAgKS5hZGRUbyhtYXBfNDZhOGUzYmMxZmFmNDZjYTg0ZDI1OGNlMTg1ZmQ1NWIpOwogICAgICAgICAgICAKICAgIAogICAgICAgICAgICB2YXIgcG9wdXBfMzU2ZjdhYzUyYWFkNGE0OTg4ZGQ5NDBlZmM5ZTMyZWIgPSBMLnBvcHVwKHttYXhXaWR0aDogJzMwMCd9KTsKCiAgICAgICAgICAgIAogICAgICAgICAgICAgICAgdmFyIGh0bWxfMWYyOTliNzg3YWM1NDQxN2EwOGY0YjBmYzY0ZjlkZDkgPSAkKCc8ZGl2IGlkPSJodG1sXzFmMjk5Yjc4N2FjNTQ0MTdhMDhmNGIwZmM2NGY5ZGQ5IiBzdHlsZT0id2lkdGg6IDEwMC4wJTsgaGVpZ2h0OiAxMDAuMCU7Ij5JdGFpbSBCaWJpLCBQaW5oZWlyb3MgLSBXZXN0PC9kaXY+JylbMF07CiAgICAgICAgICAgICAgICBwb3B1cF8zNTZmN2FjNTJhYWQ0YTQ5ODhkZDk0MGVmYzllMzJlYi5zZXRDb250ZW50KGh0bWxfMWYyOTliNzg3YWM1NDQxN2EwOGY0YjBmYzY0ZjlkZDkpOwogICAgICAgICAgICAKCiAgICAgICAgICAgIGNpcmNsZV9tYXJrZXJfYTE2ZGIxNzM2YTkwNGM3OWJmMDJmZjk1NzBjNGQ4MTMuYmluZFBvcHVwKHBvcHVwXzM1NmY3YWM1MmFhZDRhNDk4OGRkOTQwZWZjOWUzMmViKTsKCiAgICAgICAgICAgIAogICAgICAgIAogICAgCiAgICAgICAgICAgIHZhciBjaXJjbGVfbWFya2VyXzcxMjgzZDQ0NDc5NzQzNjFhYWIzZGZlODczMTc4N2JhID0gTC5jaXJjbGVNYXJrZXIoCiAgICAgICAgICAgICAgICBbLTIzLjUzNzkyOTUsLTQ2LjY4MDY3MDUxMDg1Mzk2XSwKICAgICAgICAgICAgICAgIHsKICAiYnViYmxpbmdNb3VzZUV2ZW50cyI6IHRydWUsCiAgImNvbG9yIjogImdyZWVuIiwKICAiZGFzaEFycmF5IjogbnVsbCwKICAiZGFzaE9mZnNldCI6IG51bGwsCiAgImZpbGwiOiB0cnVlLAogICJmaWxsQ29sb3IiOiAiIzcwZGI3MCIsCiAgImZpbGxPcGFjaXR5IjogMC43LAogICJmaWxsUnVsZSI6ICJldmVub2RkIiwKICAibGluZUNhcCI6ICJyb3VuZCIsCiAgImxpbmVKb2luIjogInJvdW5kIiwKICAib3BhY2l0eSI6IDEuMCwKICAicmFkaXVzIjogNSwKICAic3Ryb2tlIjogdHJ1ZSwKICAid2VpZ2h0IjogMwp9CiAgICAgICAgICAgICAgICApLmFkZFRvKG1hcF80NmE4ZTNiYzFmYWY0NmNhODRkMjU4Y2UxODVmZDU1Yik7CiAgICAgICAgICAgIAogICAgCiAgICAgICAgICAgIHZhciBwb3B1cF84NGZkOGNlNTk0NGM0MmZjOGZiNjVjNmQxZTM4NzUxMSA9IEwucG9wdXAoe21heFdpZHRoOiAnMzAwJ30pOwoKICAgICAgICAgICAgCiAgICAgICAgICAgICAgICB2YXIgaHRtbF9mNTlmMzRkM2NmZDk0MWRkODI2MjE3ZjQ0OGQ4ZDU1NSA9ICQoJzxkaXYgaWQ9Imh0bWxfZjU5ZjM0ZDNjZmQ5NDFkZDgyNjIxN2Y0NDhkOGQ1NTUiIHN0eWxlPSJ3aWR0aDogMTAwLjAlOyBoZWlnaHQ6IDEwMC4wJTsiPlBlcmRpemVzLCBMYXBhIC0gV2VzdDwvZGl2PicpWzBdOwogICAgICAgICAgICAgICAgcG9wdXBfODRmZDhjZTU5NDRjNDJmYzhmYjY1YzZkMWUzODc1MTEuc2V0Q29udGVudChodG1sX2Y1OWYzNGQzY2ZkOTQxZGQ4MjYyMTdmNDQ4ZDhkNTU1KTsKICAgICAgICAgICAgCgogICAgICAgICAgICBjaXJjbGVfbWFya2VyXzcxMjgzZDQ0NDc5NzQzNjFhYWIzZGZlODczMTc4N2JhLmJpbmRQb3B1cChwb3B1cF84NGZkOGNlNTk0NGM0MmZjOGZiNjVjNmQxZTM4NzUxMSk7CgogICAgICAgICAgICAKICAgICAgICAKICAgIAogICAgICAgICAgICB2YXIgY2lyY2xlX21hcmtlcl81MzhhMDQwMDc1Njc0N2YyYmVlNjliOWZlNmEwOWYxMiA9IEwuY2lyY2xlTWFya2VyKAogICAgICAgICAgICAgICAgWy0yMy41NjY0MjU5LC00Ni43MDMwNTU0MDAwMDAwMDRdLAogICAgICAgICAgICAgICAgewogICJidWJibGluZ01vdXNlRXZlbnRzIjogdHJ1ZSwKICAiY29sb3IiOiAiZ3JlZW4iLAogICJkYXNoQXJyYXkiOiBudWxsLAogICJkYXNoT2Zmc2V0IjogbnVsbCwKICAiZmlsbCI6IHRydWUsCiAgImZpbGxDb2xvciI6ICIjNzBkYjcwIiwKICAiZmlsbE9wYWNpdHkiOiAwLjcsCiAgImZpbGxSdWxlIjogImV2ZW5vZGQiLAogICJsaW5lQ2FwIjogInJvdW5kIiwKICAibGluZUpvaW4iOiAicm91bmQiLAogICJvcGFjaXR5IjogMS4wLAogICJyYWRpdXMiOiA1LAogICJzdHJva2UiOiB0cnVlLAogICJ3ZWlnaHQiOiAzCn0KICAgICAgICAgICAgICAgICkuYWRkVG8obWFwXzQ2YThlM2JjMWZhZjQ2Y2E4NGQyNThjZTE4NWZkNTViKTsKICAgICAgICAgICAgCiAgICAKICAgICAgICAgICAgdmFyIHBvcHVwX2Y2NTE5ZDA1YzRkNTQxYWJhYjFjYmM3OWU0MmE2Njk4ID0gTC5wb3B1cCh7bWF4V2lkdGg6ICczMDAnfSk7CgogICAgICAgICAgICAKICAgICAgICAgICAgICAgIHZhciBodG1sXzkzMTVjYTY5NjIxZDQ0YjJiYWRlZmVkMTZjYTM3ODE2ID0gJCgnPGRpdiBpZD0iaHRtbF85MzE1Y2E2OTYyMWQ0NGIyYmFkZWZlZDE2Y2EzNzgxNiIgc3R5bGU9IndpZHRoOiAxMDAuMCU7IGhlaWdodDogMTAwLjAlOyI+UGluaGVpcm9zLCBQaW5oZWlyb3MgLSBXZXN0PC9kaXY+JylbMF07CiAgICAgICAgICAgICAgICBwb3B1cF9mNjUxOWQwNWM0ZDU0MWFiYWIxY2JjNzllNDJhNjY5OC5zZXRDb250ZW50KGh0bWxfOTMxNWNhNjk2MjFkNDRiMmJhZGVmZWQxNmNhMzc4MTYpOwogICAgICAgICAgICAKCiAgICAgICAgICAgIGNpcmNsZV9tYXJrZXJfNTM4YTA0MDA3NTY3NDdmMmJlZTY5YjlmZTZhMDlmMTIuYmluZFBvcHVwKHBvcHVwX2Y2NTE5ZDA1YzRkNTQxYWJhYjFjYmM3OWU0MmE2Njk4KTsKCiAgICAgICAgICAgIAogICAgICAgIAogICAgCiAgICAgICAgICAgIHZhciBjaXJjbGVfbWFya2VyXzBkNmY2YmM3NGI3YTQ0ODBiNzM3NTQ3Nzg5Y2IxYjlhID0gTC5jaXJjbGVNYXJrZXIoCiAgICAgICAgICAgICAgICBbLTIzLjU4MzcsLTQ2LjYzMjc0MDgyNDIwNjkzNF0sCiAgICAgICAgICAgICAgICB7CiAgImJ1YmJsaW5nTW91c2VFdmVudHMiOiB0cnVlLAogICJjb2xvciI6ICJncmVlbiIsCiAgImRhc2hBcnJheSI6IG51bGwsCiAgImRhc2hPZmZzZXQiOiBudWxsLAogICJmaWxsIjogdHJ1ZSwKICAiZmlsbENvbG9yIjogIiM3MGRiNzAiLAogICJmaWxsT3BhY2l0eSI6IDAuNywKICAiZmlsbFJ1bGUiOiAiZXZlbm9kZCIsCiAgImxpbmVDYXAiOiAicm91bmQiLAogICJsaW5lSm9pbiI6ICJyb3VuZCIsCiAgIm9wYWNpdHkiOiAxLjAsCiAgInJhZGl1cyI6IDUsCiAgInN0cm9rZSI6IHRydWUsCiAgIndlaWdodCI6IDMKfQogICAgICAgICAgICAgICAgKS5hZGRUbyhtYXBfNDZhOGUzYmMxZmFmNDZjYTg0ZDI1OGNlMTg1ZmQ1NWIpOwogICAgICAgICAgICAKICAgIAogICAgICAgICAgICB2YXIgcG9wdXBfNGFlODhkM2FmMDQ4NDJlMWFiODQyMDQ0NGQ3ZTY1YmMgPSBMLnBvcHVwKHttYXhXaWR0aDogJzMwMCd9KTsKCiAgICAgICAgICAgIAogICAgICAgICAgICAgICAgdmFyIGh0bWxfODlhNmUwNWZhMzM0NGNjZTkwNmJiYjkyOGZiOTMzZTUgPSAkKCc8ZGl2IGlkPSJodG1sXzg5YTZlMDVmYTMzNDRjY2U5MDZiYmI5MjhmYjkzM2U1IiBzdHlsZT0id2lkdGg6IDEwMC4wJTsgaGVpZ2h0OiAxMDAuMCU7Ij5WaWxhIE1hcmlhbmEsIFZpbGEgTWFyaWFuYSAtIFNvdXRoPC9kaXY+JylbMF07CiAgICAgICAgICAgICAgICBwb3B1cF80YWU4OGQzYWYwNDg0MmUxYWI4NDIwNDQ0ZDdlNjViYy5zZXRDb250ZW50KGh0bWxfODlhNmUwNWZhMzM0NGNjZTkwNmJiYjkyOGZiOTMzZTUpOwogICAgICAgICAgICAKCiAgICAgICAgICAgIGNpcmNsZV9tYXJrZXJfMGQ2ZjZiYzc0YjdhNDQ4MGI3Mzc1NDc3ODljYjFiOWEuYmluZFBvcHVwKHBvcHVwXzRhZTg4ZDNhZjA0ODQyZTFhYjg0MjA0NDRkN2U2NWJjKTsKCiAgICAgICAgICAgIAogICAgICAgIAogICAgCiAgICAgICAgICAgIHZhciBjaXJjbGVfbWFya2VyXzE3NjM2MTZkNWI0MDQ3ZTVhOTdlZTRlODFmZGM1ZGZkID0gTC5jaXJjbGVNYXJrZXIoCiAgICAgICAgICAgICAgICBbLTIzLjYyNjczMDU1LC00Ni42Njk0Mjg2Nzg0MTM5Ml0sCiAgICAgICAgICAgICAgICB7CiAgImJ1YmJsaW5nTW91c2VFdmVudHMiOiB0cnVlLAogICJjb2xvciI6ICJncmVlbiIsCiAgImRhc2hBcnJheSI6IG51bGwsCiAgImRhc2hPZmZzZXQiOiBudWxsLAogICJmaWxsIjogdHJ1ZSwKICAiZmlsbENvbG9yIjogIiM3MGRiNzAiLAogICJmaWxsT3BhY2l0eSI6IDAuNywKICAiZmlsbFJ1bGUiOiAiZXZlbm9kZCIsCiAgImxpbmVDYXAiOiAicm91bmQiLAogICJsaW5lSm9pbiI6ICJyb3VuZCIsCiAgIm9wYWNpdHkiOiAxLjAsCiAgInJhZGl1cyI6IDUsCiAgInN0cm9rZSI6IHRydWUsCiAgIndlaWdodCI6IDMKfQogICAgICAgICAgICAgICAgKS5hZGRUbyhtYXBfNDZhOGUzYmMxZmFmNDZjYTg0ZDI1OGNlMTg1ZmQ1NWIpOwogICAgICAgICAgICAKICAgIAogICAgICAgICAgICB2YXIgcG9wdXBfNTAxOTUzMDY1NWFjNDc1NGIyNzI0ZTFlNzM0NzU0NzEgPSBMLnBvcHVwKHttYXhXaWR0aDogJzMwMCd9KTsKCiAgICAgICAgICAgIAogICAgICAgICAgICAgICAgdmFyIGh0bWxfOWJiMDkzNjA5ZGY4NGJkMmJjNDliZmZmZTAxODAwMTYgPSAkKCc8ZGl2IGlkPSJodG1sXzliYjA5MzYwOWRmODRiZDJiYzQ5YmZmZmUwMTgwMDE2IiBzdHlsZT0id2lkdGg6IDEwMC4wJTsgaGVpZ2h0OiAxMDAuMCU7Ij5DYW1wbyBCZWxvLCBTYW50byBBbWFybyAtIFNvdXRoPC9kaXY+JylbMF07CiAgICAgICAgICAgICAgICBwb3B1cF81MDE5NTMwNjU1YWM0NzU0YjI3MjRlMWU3MzQ3NTQ3MS5zZXRDb250ZW50KGh0bWxfOWJiMDkzNjA5ZGY4NGJkMmJjNDliZmZmZTAxODAwMTYpOwogICAgICAgICAgICAKCiAgICAgICAgICAgIGNpcmNsZV9tYXJrZXJfMTc2MzYxNmQ1YjQwNDdlNWE5N2VlNGU4MWZkYzVkZmQuYmluZFBvcHVwKHBvcHVwXzUwMTk1MzA2NTVhYzQ3NTRiMjcyNGUxZTczNDc1NDcxKTsKCiAgICAgICAgICAgIAogICAgICAgIAogICAgCiAgICAgICAgICAgIHZhciBjaXJjbGVfbWFya2VyXzI4MTdiZDk2ZWI2ODRlMGNiODhlNWMzYmYyYmY3MDI5ID0gTC5jaXJjbGVNYXJrZXIoCiAgICAgICAgICAgICAgICBbLTIzLjU1NzgxOCwtNDYuNjYwNTM3Mjk5OTk5OTk0XSwKICAgICAgICAgICAgICAgIHsKICAiYnViYmxpbmdNb3VzZUV2ZW50cyI6IHRydWUsCiAgImNvbG9yIjogImdyZWVuIiwKICAiZGFzaEFycmF5IjogbnVsbCwKICAiZGFzaE9mZnNldCI6IG51bGwsCiAgImZpbGwiOiB0cnVlLAogICJmaWxsQ29sb3IiOiAiIzcwZGI3MCIsCiAgImZpbGxPcGFjaXR5IjogMC43LAogICJmaWxsUnVsZSI6ICJldmVub2RkIiwKICAibGluZUNhcCI6ICJyb3VuZCIsCiAgImxpbmVKb2luIjogInJvdW5kIiwKICAib3BhY2l0eSI6IDEuMCwKICAicmFkaXVzIjogNSwKICAic3Ryb2tlIjogdHJ1ZSwKICAid2VpZ2h0IjogMwp9CiAgICAgICAgICAgICAgICApLmFkZFRvKG1hcF80NmE4ZTNiYzFmYWY0NmNhODRkMjU4Y2UxODVmZDU1Yik7CiAgICAgICAgICAgIAogICAgCiAgICAgICAgICAgIHZhciBwb3B1cF8wYTE0ODMzMzRlMTU0MmM5YTc4MjE5YzBjY2ZhNTkxOCA9IEwucG9wdXAoe21heFdpZHRoOiAnMzAwJ30pOwoKICAgICAgICAgICAgCiAgICAgICAgICAgICAgICB2YXIgaHRtbF8yMWMwYjQ4NTMyNTg0ZmJiOWU5OGU5NGEzYjc4YzZhNiA9ICQoJzxkaXYgaWQ9Imh0bWxfMjFjMGI0ODUzMjU4NGZiYjllOThlOTRhM2I3OGM2YTYiIHN0eWxlPSJ3aWR0aDogMTAwLjAlOyBoZWlnaHQ6IDEwMC4wJTsiPkNvbnNvbGHDp8OjbywgU8OpIC0gQ2VudGVyPC9kaXY+JylbMF07CiAgICAgICAgICAgICAgICBwb3B1cF8wYTE0ODMzMzRlMTU0MmM5YTc4MjE5YzBjY2ZhNTkxOC5zZXRDb250ZW50KGh0bWxfMjFjMGI0ODUzMjU4NGZiYjllOThlOTRhM2I3OGM2YTYpOwogICAgICAgICAgICAKCiAgICAgICAgICAgIGNpcmNsZV9tYXJrZXJfMjgxN2JkOTZlYjY4NGUwY2I4OGU1YzNiZjJiZjcwMjkuYmluZFBvcHVwKHBvcHVwXzBhMTQ4MzMzNGUxNTQyYzlhNzgyMTljMGNjZmE1OTE4KTsKCiAgICAgICAgICAgIAogICAgICAgIAo8L3NjcmlwdD4= onload=\"this.contentDocument.open();this.contentDocument.write(atob(this.getAttribute('data-html')));this.contentDocument.close();\" allowfullscreen webkitallowfullscreen mozallowfullscreen></iframe></div></div>"
      ],
      "text/plain": [
       "<folium.folium.Map at 0x268b8332e80>"
      ]
     },
     "execution_count": 38,
     "metadata": {},
     "output_type": "execute_result"
    }
   ],
   "source": [
    "top_wage_map = folium.Map(location=[latitude, longitude], zoom_start=10)\n",
    "\n",
    "# adding GeoJson to the map\n",
    "overlay = os.path.join('data', 'sp.json')\n",
    "folium.GeoJson(overlay, name='sp',).add_to(top_wage_map)\n",
    "\n",
    "# adding marks to the map\n",
    "for lat, lng, neighborhood, subprefecture, zone in zip(df_sp_geocoded_top_wage['Latitude'],\n",
    "                                                 df_sp_geocoded_top_wage['Longitude'],\n",
    "                                                 df_sp_geocoded_top_wage['Neighborhood'],\n",
    "                                                 df_sp_geocoded_top_wage['Subprefecture'],\n",
    "                                                 df_sp_geocoded_top_wage['Zone']):\n",
    "    label = '{}, {} - {}'.format(neighborhood, subprefecture, zone)\n",
    "    label = folium.Popup(label, parse_html=True)\n",
    "    folium.CircleMarker(\n",
    "        [lat, lng],\n",
    "        radius=5,\n",
    "        popup=label,\n",
    "        color='green',\n",
    "        fill=True,\n",
    "        fill_color='#70db70',\n",
    "        fill_opacity=0.7).add_to(top_wage_map)\n",
    "\n",
    "#display the map\n",
    "top_wage_map"
   ]
  },
  {
   "cell_type": "markdown",
   "metadata": {},
   "source": [
    "As we can see, there is not much dispersion between these neighborhoods, mainly occupying the South and West areas of the city of São Paulo."
   ]
  },
  {
   "cell_type": "markdown",
   "metadata": {},
   "source": [
    "**Now let's create a new data frame sorted by the households who earn less than 2 Minimum Wage**"
   ]
  },
  {
   "cell_type": "code",
   "execution_count": 39,
   "metadata": {
    "ExecuteTime": {
     "end_time": "2021-04-01T15:21:12.075679Z",
     "start_time": "2021-04-01T15:21:12.027670Z"
    }
   },
   "outputs": [
    {
     "data": {
      "text/html": [
       "<div>\n",
       "<style scoped>\n",
       "    .dataframe tbody tr th:only-of-type {\n",
       "        vertical-align: middle;\n",
       "    }\n",
       "\n",
       "    .dataframe tbody tr th {\n",
       "        vertical-align: top;\n",
       "    }\n",
       "\n",
       "    .dataframe thead th {\n",
       "        text-align: right;\n",
       "    }\n",
       "</style>\n",
       "<table border=\"1\" class=\"dataframe\">\n",
       "  <thead>\n",
       "    <tr style=\"text-align: right;\">\n",
       "      <th></th>\n",
       "      <th>Subprefecture</th>\n",
       "      <th>Neighborhood</th>\n",
       "      <th>Latitude</th>\n",
       "      <th>Longitude</th>\n",
       "      <th>Less than 2 Minimum Wage</th>\n",
       "      <th>Zone</th>\n",
       "    </tr>\n",
       "  </thead>\n",
       "  <tbody>\n",
       "    <tr>\n",
       "      <th>0</th>\n",
       "      <td>Parelheiros</td>\n",
       "      <td>Marsilac</td>\n",
       "      <td>-23.937142</td>\n",
       "      <td>-46.710230</td>\n",
       "      <td>44.10</td>\n",
       "      <td>South</td>\n",
       "    </tr>\n",
       "    <tr>\n",
       "      <th>1</th>\n",
       "      <td>Parelheiros</td>\n",
       "      <td>Parelheiros</td>\n",
       "      <td>-23.824791</td>\n",
       "      <td>-46.733078</td>\n",
       "      <td>26.06</td>\n",
       "      <td>South</td>\n",
       "    </tr>\n",
       "    <tr>\n",
       "      <th>2</th>\n",
       "      <td>São Miguel</td>\n",
       "      <td>Jardim Helena</td>\n",
       "      <td>-23.482284</td>\n",
       "      <td>-46.423410</td>\n",
       "      <td>25.07</td>\n",
       "      <td>East</td>\n",
       "    </tr>\n",
       "    <tr>\n",
       "      <th>3</th>\n",
       "      <td>Guaianases</td>\n",
       "      <td>Lajeado</td>\n",
       "      <td>-23.536248</td>\n",
       "      <td>-46.410022</td>\n",
       "      <td>24.67</td>\n",
       "      <td>East</td>\n",
       "    </tr>\n",
       "    <tr>\n",
       "      <th>4</th>\n",
       "      <td>Itaim Paulista</td>\n",
       "      <td>Itaim Paulista</td>\n",
       "      <td>-23.501765</td>\n",
       "      <td>-46.399609</td>\n",
       "      <td>22.99</td>\n",
       "      <td>East</td>\n",
       "    </tr>\n",
       "    <tr>\n",
       "      <th>5</th>\n",
       "      <td>Capela do Socorro</td>\n",
       "      <td>Grajaú</td>\n",
       "      <td>-23.785907</td>\n",
       "      <td>-46.665197</td>\n",
       "      <td>22.92</td>\n",
       "      <td>South</td>\n",
       "    </tr>\n",
       "    <tr>\n",
       "      <th>6</th>\n",
       "      <td>São Mateus</td>\n",
       "      <td>Iguatemi</td>\n",
       "      <td>-23.618211</td>\n",
       "      <td>-46.418977</td>\n",
       "      <td>22.67</td>\n",
       "      <td>East</td>\n",
       "    </tr>\n",
       "    <tr>\n",
       "      <th>7</th>\n",
       "      <td>Itaim Paulista</td>\n",
       "      <td>Vila Curuçá</td>\n",
       "      <td>-23.510151</td>\n",
       "      <td>-46.417893</td>\n",
       "      <td>22.61</td>\n",
       "      <td>East</td>\n",
       "    </tr>\n",
       "    <tr>\n",
       "      <th>8</th>\n",
       "      <td>M'Boi Mirim</td>\n",
       "      <td>Jardim Ângela</td>\n",
       "      <td>-23.712528</td>\n",
       "      <td>-46.768720</td>\n",
       "      <td>22.18</td>\n",
       "      <td>South</td>\n",
       "    </tr>\n",
       "    <tr>\n",
       "      <th>9</th>\n",
       "      <td>São Mateus</td>\n",
       "      <td>São Rafael</td>\n",
       "      <td>-23.627159</td>\n",
       "      <td>-46.453241</td>\n",
       "      <td>21.34</td>\n",
       "      <td>East</td>\n",
       "    </tr>\n",
       "  </tbody>\n",
       "</table>\n",
       "</div>"
      ],
      "text/plain": [
       "       Subprefecture    Neighborhood   Latitude  Longitude  \\\n",
       "0        Parelheiros        Marsilac -23.937142 -46.710230   \n",
       "1        Parelheiros     Parelheiros -23.824791 -46.733078   \n",
       "2         São Miguel   Jardim Helena -23.482284 -46.423410   \n",
       "3         Guaianases         Lajeado -23.536248 -46.410022   \n",
       "4     Itaim Paulista  Itaim Paulista -23.501765 -46.399609   \n",
       "5  Capela do Socorro          Grajaú -23.785907 -46.665197   \n",
       "6         São Mateus        Iguatemi -23.618211 -46.418977   \n",
       "7     Itaim Paulista     Vila Curuçá -23.510151 -46.417893   \n",
       "8        M'Boi Mirim   Jardim Ângela -23.712528 -46.768720   \n",
       "9         São Mateus      São Rafael -23.627159 -46.453241   \n",
       "\n",
       "   Less than 2 Minimum Wage   Zone  \n",
       "0                     44.10  South  \n",
       "1                     26.06  South  \n",
       "2                     25.07   East  \n",
       "3                     24.67   East  \n",
       "4                     22.99   East  \n",
       "5                     22.92  South  \n",
       "6                     22.67   East  \n",
       "7                     22.61   East  \n",
       "8                     22.18  South  \n",
       "9                     21.34   East  "
      ]
     },
     "execution_count": 39,
     "metadata": {},
     "output_type": "execute_result"
    }
   ],
   "source": [
    "df_sp_geocoded_less_wage = df_sp_geocoded[['Subprefecture', 'Neighborhood', 'Latitude',\n",
    "                                           'Longitude', 'Less than 2 Minimum Wage', 'Zone']].sort_values(['Less than 2 Minimum Wage'], ascending=False).reset_index(drop=True)[:10]\n",
    "df_sp_geocoded_less_wage"
   ]
  },
  {
   "cell_type": "markdown",
   "metadata": {},
   "source": [
    "**Let's visualize the neighborhoods where households earn less than 2 minimum wage**"
   ]
  },
  {
   "cell_type": "code",
   "execution_count": 40,
   "metadata": {
    "ExecuteTime": {
     "end_time": "2021-04-01T15:21:16.337939Z",
     "start_time": "2021-04-01T15:21:15.658004Z"
    },
    "scrolled": false
   },
   "outputs": [
    {
     "data": {
      "text/plain": [
       "Text(0.5, 1.0, 'Top 10 Neighborhoods earning less than 2 mininum wage')"
      ]
     },
     "execution_count": 40,
     "metadata": {},
     "output_type": "execute_result"
    },
    {
     "data": {
      "image/png": "[encoded data removed]",
      "text/plain": [
       "<Figure size 864x576 with 1 Axes>"
      ]
     },
     "metadata": {},
     "output_type": "display_data"
    }
   ],
   "source": [
    "plt.figure(figsize=(12,8))\n",
    "ax = sns.barplot(data=df_sp_geocoded_less_wage,\n",
    "           y='Neighborhood',\n",
    "           x='Less than 2 Minimum Wage', color='#809fff')\n",
    "ax.set_title('Top 10 Neighborhoods earning less than 2 mininum wage', fontsize=14)"
   ]
  },
  {
   "cell_type": "markdown",
   "metadata": {},
   "source": [
    "Now, we can see that the Neighborhoods wich most households earn less than 2 minimum wage are predominant in the South and East zones of the city. \"Marsilac\" is the neighborhood where almost 45% of the households earn less than 2 minimum wage."
   ]
  },
  {
   "cell_type": "markdown",
   "metadata": {},
   "source": [
    "**To compare, let's create a new map of São Paulo, with neighborhoods where families earn more than 25 minimum wages (green) and those that earn less than 2 minimum wages (red)**"
   ]
  },
  {
   "cell_type": "code",
   "execution_count": 41,
   "metadata": {
    "ExecuteTime": {
     "end_time": "2021-04-01T15:21:20.575793Z",
     "start_time": "2021-04-01T15:21:19.908895Z"
    }
   },
   "outputs": [
    {
     "data": {
      "text/html": [
       "<div style=\"width:100%;\"><div style=\"position:relative;width:100%;height:0;padding-bottom:60%;\"><span style=\"color:#565656\">Make this Notebook Trusted to load map: File -> Trust Notebook</span><iframe src=\"about:blank\" style=\"position:absolute;width:100%;height:100%;left:0;top:0;border:none !important;\" data-html=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 onload=\"this.contentDocument.open();this.contentDocument.write(atob(this.getAttribute('data-html')));this.contentDocument.close();\" allowfullscreen webkitallowfullscreen mozallowfullscreen></iframe></div></div>"
      ],
      "text/plain": [
       "<folium.folium.Map at 0x268b7e80ca0>"
      ]
     },
     "execution_count": 41,
     "metadata": {},
     "output_type": "execute_result"
    }
   ],
   "source": [
    "comparative_map = folium.Map(location=[latitude, longitude], zoom_start=10)\n",
    "\n",
    "# adding GeoJson to the map\n",
    "overlay = os.path.join('data', 'sp.json')\n",
    "folium.GeoJson(overlay, name='sp',).add_to(comparative_map)\n",
    "\n",
    "# adding marks from the less_wage data frame to the map\n",
    "for lat, lng, neighborhood, subprefecture, zone in zip(df_sp_geocoded_less_wage['Latitude'],\n",
    "                                                       df_sp_geocoded_less_wage['Longitude'],\n",
    "                                                       df_sp_geocoded_less_wage['Neighborhood'],\n",
    "                                                       df_sp_geocoded_less_wage['Subprefecture'],\n",
    "                                                       df_sp_geocoded_less_wage['Zone']):\n",
    "    label = '{}, {}'.format(neighborhood, subprefecture, zone)\n",
    "    label = folium.Popup(label, parse_html=True)\n",
    "    folium.CircleMarker(\n",
    "        [lat, lng],\n",
    "        radius=5,\n",
    "        popup=label,\n",
    "        color='red',\n",
    "        fill=True,\n",
    "        fill_color='#ff4d4d',\n",
    "        fill_opacity=0.7).add_to(comparative_map)\n",
    "    \n",
    "# adding marks from the top_wage data frame to the map\n",
    "for lat, lng, neighborhood, subprefecture, zone in zip(df_sp_geocoded_top_wage['Latitude'],\n",
    "                                                       df_sp_geocoded_top_wage['Longitude'],\n",
    "                                                       df_sp_geocoded_top_wage['Neighborhood'],\n",
    "                                                       df_sp_geocoded_top_wage['Subprefecture'],\n",
    "                                                       df_sp_geocoded_top_wage['Zone']):\n",
    "    label = '{}, {}'.format(neighborhood, subprefecture, zone)\n",
    "    label = folium.Popup(label, parse_html=True)\n",
    "    folium.CircleMarker(\n",
    "        [lat, lng],\n",
    "        radius=5,\n",
    "        popup=label,\n",
    "        color='green',\n",
    "        fill=True,\n",
    "        fill_color='#70db70',\n",
    "        fill_opacity=0.7).add_to(comparative_map)\n",
    "\n",
    "#display the map\n",
    "comparative_map"
   ]
  },
  {
   "cell_type": "markdown",
   "metadata": {},
   "source": [
    "We can see by analyzing the above map, that the neighborhoods where people earn less than 2 minimum wages are more geographically dispersed, in the city, occupying mainly the East and South areas of São Paulo."
   ]
  },
  {
   "cell_type": "markdown",
   "metadata": {},
   "source": [
    "**Let's create a boxplot to visualize the distribution of the households who earn from 25 minimum wage and more**"
   ]
  },
  {
   "cell_type": "code",
   "execution_count": 42,
   "metadata": {
    "ExecuteTime": {
     "end_time": "2021-04-01T15:21:25.756968Z",
     "start_time": "2021-04-01T15:21:25.156973Z"
    },
    "scrolled": false
   },
   "outputs": [
    {
     "data": {
      "image/png": "[encoded data removed]",
      "text/plain": [
       "<Figure size 864x576 with 1 Axes>"
      ]
     },
     "metadata": {},
     "output_type": "display_data"
    }
   ],
   "source": [
    "plt.figure(figsize=(12,8))\n",
    "ax = sns.boxplot(x=df_sp_geocoded['Zone'], y=df_sp_geocoded['From 25 Minimum Wage and more'])\n",
    "plt.show()"
   ]
  },
  {
   "cell_type": "markdown",
   "metadata": {},
   "source": [
    "We can see that the West and South zones of the city have the highest distribution among households that earn at least 25 minimum wages. On the other hand, we see the East side of the city that has the lowest distriburion and also the one with the lowest percentage of households earning 25 minimum wages or more."
   ]
  },
  {
   "cell_type": "markdown",
   "metadata": {},
   "source": [
    "Now that we have a good understanding of the regions and neighborhoods in the city of São Paulo, we will use the Foursquare API and K-Means algorithm to get some information about the similarities between the neighborhoods"
   ]
  },
  {
   "cell_type": "markdown",
   "metadata": {},
   "source": [
    "## Session 4 - Clustering\n",
    "\n",
    "**In this session we are going to use Machine Learning algorithm _K-Means_ to cluster the neighborhoods of the city of São Paulo. With this approach we expect to get the similarities between the neighborhoods. This information will be usefull to recommend a better place to open a pet shop service in São Paulo.**"
   ]
  },
  {
   "cell_type": "code",
   "execution_count": 43,
   "metadata": {
    "ExecuteTime": {
     "end_time": "2021-04-01T15:21:33.661446Z",
     "start_time": "2021-04-01T15:21:33.621453Z"
    }
   },
   "outputs": [
    {
     "data": {
      "text/html": [
       "<div>\n",
       "<style scoped>\n",
       "    .dataframe tbody tr th:only-of-type {\n",
       "        vertical-align: middle;\n",
       "    }\n",
       "\n",
       "    .dataframe tbody tr th {\n",
       "        vertical-align: top;\n",
       "    }\n",
       "\n",
       "    .dataframe thead th {\n",
       "        text-align: right;\n",
       "    }\n",
       "</style>\n",
       "<table border=\"1\" class=\"dataframe\">\n",
       "  <thead>\n",
       "    <tr style=\"text-align: right;\">\n",
       "      <th></th>\n",
       "      <th>Subprefecture</th>\n",
       "      <th>Neighborhood</th>\n",
       "      <th>Latitude</th>\n",
       "      <th>Longitude</th>\n",
       "      <th>Less than 2 Minimum Wage</th>\n",
       "      <th>From 2 to Less than 5 Minimum Wage</th>\n",
       "      <th>From 5 to Less than 10 Minimum Wage</th>\n",
       "      <th>From 10 to Less than 15 Minimum Wage</th>\n",
       "      <th>From 15 to Less than 25 Minimum Wage</th>\n",
       "      <th>From 25 Minimum Wage and more</th>\n",
       "      <th>Zone</th>\n",
       "    </tr>\n",
       "  </thead>\n",
       "  <tbody>\n",
       "    <tr>\n",
       "      <th>0</th>\n",
       "      <td>Aricanduva</td>\n",
       "      <td>Aricanduva</td>\n",
       "      <td>-23.578024</td>\n",
       "      <td>-46.511454</td>\n",
       "      <td>11.64</td>\n",
       "      <td>24.95</td>\n",
       "      <td>28.47</td>\n",
       "      <td>13.72</td>\n",
       "      <td>13.33</td>\n",
       "      <td>7.88</td>\n",
       "      <td>East</td>\n",
       "    </tr>\n",
       "    <tr>\n",
       "      <th>1</th>\n",
       "      <td>Aricanduva</td>\n",
       "      <td>Carrão</td>\n",
       "      <td>-23.551530</td>\n",
       "      <td>-46.537791</td>\n",
       "      <td>9.18</td>\n",
       "      <td>18.17</td>\n",
       "      <td>25.82</td>\n",
       "      <td>14.91</td>\n",
       "      <td>16.35</td>\n",
       "      <td>15.58</td>\n",
       "      <td>East</td>\n",
       "    </tr>\n",
       "    <tr>\n",
       "      <th>2</th>\n",
       "      <td>Aricanduva</td>\n",
       "      <td>Vila Formosa</td>\n",
       "      <td>-23.566876</td>\n",
       "      <td>-46.546323</td>\n",
       "      <td>8.10</td>\n",
       "      <td>20.08</td>\n",
       "      <td>28.69</td>\n",
       "      <td>13.91</td>\n",
       "      <td>13.08</td>\n",
       "      <td>16.14</td>\n",
       "      <td>East</td>\n",
       "    </tr>\n",
       "    <tr>\n",
       "      <th>3</th>\n",
       "      <td>Butantã</td>\n",
       "      <td>Butantã</td>\n",
       "      <td>-23.569056</td>\n",
       "      <td>-46.721883</td>\n",
       "      <td>4.93</td>\n",
       "      <td>10.60</td>\n",
       "      <td>16.23</td>\n",
       "      <td>12.10</td>\n",
       "      <td>18.25</td>\n",
       "      <td>37.88</td>\n",
       "      <td>West</td>\n",
       "    </tr>\n",
       "    <tr>\n",
       "      <th>4</th>\n",
       "      <td>Butantã</td>\n",
       "      <td>Morumbi</td>\n",
       "      <td>-23.596499</td>\n",
       "      <td>-46.717845</td>\n",
       "      <td>4.00</td>\n",
       "      <td>9.05</td>\n",
       "      <td>10.76</td>\n",
       "      <td>5.67</td>\n",
       "      <td>9.95</td>\n",
       "      <td>60.58</td>\n",
       "      <td>West</td>\n",
       "    </tr>\n",
       "  </tbody>\n",
       "</table>\n",
       "</div>"
      ],
      "text/plain": [
       "  Subprefecture  Neighborhood   Latitude  Longitude  Less than 2 Minimum Wage  \\\n",
       "0    Aricanduva    Aricanduva -23.578024 -46.511454                     11.64   \n",
       "1    Aricanduva        Carrão -23.551530 -46.537791                      9.18   \n",
       "2    Aricanduva  Vila Formosa -23.566876 -46.546323                      8.10   \n",
       "3       Butantã       Butantã -23.569056 -46.721883                      4.93   \n",
       "4       Butantã       Morumbi -23.596499 -46.717845                      4.00   \n",
       "\n",
       "   From 2 to Less than 5 Minimum Wage  From 5 to Less than 10 Minimum Wage  \\\n",
       "0                               24.95                                28.47   \n",
       "1                               18.17                                25.82   \n",
       "2                               20.08                                28.69   \n",
       "3                               10.60                                16.23   \n",
       "4                                9.05                                10.76   \n",
       "\n",
       "   From 10 to Less than 15 Minimum Wage  From 15 to Less than 25 Minimum Wage  \\\n",
       "0                                 13.72                                 13.33   \n",
       "1                                 14.91                                 16.35   \n",
       "2                                 13.91                                 13.08   \n",
       "3                                 12.10                                 18.25   \n",
       "4                                  5.67                                  9.95   \n",
       "\n",
       "   From 25 Minimum Wage and more  Zone  \n",
       "0                           7.88  East  \n",
       "1                          15.58  East  \n",
       "2                          16.14  East  \n",
       "3                          37.88  West  \n",
       "4                          60.58  West  "
      ]
     },
     "execution_count": 43,
     "metadata": {},
     "output_type": "execute_result"
    }
   ],
   "source": [
    "df_sp_geocoded.head()"
   ]
  },
  {
   "cell_type": "markdown",
   "metadata": {},
   "source": [
    "**Create a new data frame to use into k-means algorithm**"
   ]
  },
  {
   "cell_type": "code",
   "execution_count": 44,
   "metadata": {
    "ExecuteTime": {
     "end_time": "2021-04-01T15:21:37.324655Z",
     "start_time": "2021-04-01T15:21:37.292658Z"
    },
    "scrolled": true
   },
   "outputs": [
    {
     "data": {
      "text/html": [
       "<div>\n",
       "<style scoped>\n",
       "    .dataframe tbody tr th:only-of-type {\n",
       "        vertical-align: middle;\n",
       "    }\n",
       "\n",
       "    .dataframe tbody tr th {\n",
       "        vertical-align: top;\n",
       "    }\n",
       "\n",
       "    .dataframe thead th {\n",
       "        text-align: right;\n",
       "    }\n",
       "</style>\n",
       "<table border=\"1\" class=\"dataframe\">\n",
       "  <thead>\n",
       "    <tr style=\"text-align: right;\">\n",
       "      <th></th>\n",
       "      <th>Less than 2 Minimum Wage</th>\n",
       "      <th>From 2 to Less than 5 Minimum Wage</th>\n",
       "      <th>From 5 to Less than 10 Minimum Wage</th>\n",
       "      <th>From 10 to Less than 15 Minimum Wage</th>\n",
       "      <th>From 15 to Less than 25 Minimum Wage</th>\n",
       "      <th>From 25 Minimum Wage and more</th>\n",
       "    </tr>\n",
       "  </thead>\n",
       "  <tbody>\n",
       "    <tr>\n",
       "      <th>0</th>\n",
       "      <td>11.64</td>\n",
       "      <td>24.95</td>\n",
       "      <td>28.47</td>\n",
       "      <td>13.72</td>\n",
       "      <td>13.33</td>\n",
       "      <td>7.88</td>\n",
       "    </tr>\n",
       "    <tr>\n",
       "      <th>1</th>\n",
       "      <td>9.18</td>\n",
       "      <td>18.17</td>\n",
       "      <td>25.82</td>\n",
       "      <td>14.91</td>\n",
       "      <td>16.35</td>\n",
       "      <td>15.58</td>\n",
       "    </tr>\n",
       "    <tr>\n",
       "      <th>2</th>\n",
       "      <td>8.10</td>\n",
       "      <td>20.08</td>\n",
       "      <td>28.69</td>\n",
       "      <td>13.91</td>\n",
       "      <td>13.08</td>\n",
       "      <td>16.14</td>\n",
       "    </tr>\n",
       "    <tr>\n",
       "      <th>3</th>\n",
       "      <td>4.93</td>\n",
       "      <td>10.60</td>\n",
       "      <td>16.23</td>\n",
       "      <td>12.10</td>\n",
       "      <td>18.25</td>\n",
       "      <td>37.88</td>\n",
       "    </tr>\n",
       "    <tr>\n",
       "      <th>4</th>\n",
       "      <td>4.00</td>\n",
       "      <td>9.05</td>\n",
       "      <td>10.76</td>\n",
       "      <td>5.67</td>\n",
       "      <td>9.95</td>\n",
       "      <td>60.58</td>\n",
       "    </tr>\n",
       "  </tbody>\n",
       "</table>\n",
       "</div>"
      ],
      "text/plain": [
       "   Less than 2 Minimum Wage  From 2 to Less than 5 Minimum Wage  \\\n",
       "0                     11.64                               24.95   \n",
       "1                      9.18                               18.17   \n",
       "2                      8.10                               20.08   \n",
       "3                      4.93                               10.60   \n",
       "4                      4.00                                9.05   \n",
       "\n",
       "   From 5 to Less than 10 Minimum Wage  From 10 to Less than 15 Minimum Wage  \\\n",
       "0                                28.47                                 13.72   \n",
       "1                                25.82                                 14.91   \n",
       "2                                28.69                                 13.91   \n",
       "3                                16.23                                 12.10   \n",
       "4                                10.76                                  5.67   \n",
       "\n",
       "   From 15 to Less than 25 Minimum Wage  From 25 Minimum Wage and more  \n",
       "0                                 13.33                           7.88  \n",
       "1                                 16.35                          15.58  \n",
       "2                                 13.08                          16.14  \n",
       "3                                 18.25                          37.88  \n",
       "4                                  9.95                          60.58  "
      ]
     },
     "execution_count": 44,
     "metadata": {},
     "output_type": "execute_result"
    }
   ],
   "source": [
    "# drop non numeric columns\n",
    "df_kmeans = df_sp_geocoded[['Less than 2 Minimum Wage',\n",
    "                          'From 2 to Less than 5 Minimum Wage',\n",
    "                          'From 5 to Less than 10 Minimum Wage',\n",
    "                          'From 10 to Less than 15 Minimum Wage',\n",
    "                          'From 15 to Less than 25 Minimum Wage',\n",
    "                          'From 25 Minimum Wage and more']]\n",
    "df_kmeans.head()"
   ]
  },
  {
   "cell_type": "code",
   "execution_count": 45,
   "metadata": {
    "ExecuteTime": {
     "end_time": "2021-04-01T15:21:40.583046Z",
     "start_time": "2021-04-01T15:21:40.567053Z"
    }
   },
   "outputs": [
    {
     "data": {
      "text/plain": [
       "(96, 6)"
      ]
     },
     "execution_count": 45,
     "metadata": {},
     "output_type": "execute_result"
    }
   ],
   "source": [
    "# show the dimensions of the data frame\n",
    "df_kmeans.shape"
   ]
  },
  {
   "cell_type": "code",
   "execution_count": 46,
   "metadata": {
    "ExecuteTime": {
     "end_time": "2021-04-01T15:21:43.682671Z",
     "start_time": "2021-04-01T15:21:43.578657Z"
    }
   },
   "outputs": [
    {
     "data": {
      "text/plain": [
       "array([4, 2, 2, 1, 3, 4, 2, 1, 4, 0, 1, 4, 0, 1, 4, 2, 2, 4, 0, 0, 4, 4,\n",
       "       0, 2, 0, 0, 2, 2, 2, 0, 0, 4, 4, 4, 4, 2, 4, 4, 1, 2, 2, 1, 3, 1,\n",
       "       0, 4, 2, 2, 2, 1, 2, 1, 0, 0, 4, 4, 2, 2, 0, 0, 3, 3, 3, 3, 4, 2,\n",
       "       2, 2, 1, 2, 3, 1, 3, 0, 0, 4, 4, 0, 0, 4, 1, 2, 2, 3, 1, 2, 1, 4,\n",
       "       2, 4, 4, 3, 1, 3, 2, 2])"
      ]
     },
     "execution_count": 46,
     "metadata": {},
     "output_type": "execute_result"
    }
   ],
   "source": [
    "# number of clusters\n",
    "k_clusters = 5\n",
    "\n",
    "# run k-means clustering\n",
    "kmeans = KMeans(n_clusters=k_clusters, random_state=0).fit(df_kmeans)\n",
    "\n",
    "# check cluster labels generated for each row in the data frame\n",
    "kmeans.labels_"
   ]
  },
  {
   "cell_type": "markdown",
   "metadata": {},
   "source": [
    "**Join the kmeans labels to the main data frame**"
   ]
  },
  {
   "cell_type": "code",
   "execution_count": 47,
   "metadata": {
    "ExecuteTime": {
     "end_time": "2021-04-01T15:21:46.400363Z",
     "start_time": "2021-04-01T15:21:46.384382Z"
    }
   },
   "outputs": [],
   "source": [
    "df_sp_geocoded['Cluster Labels'] = kmeans.labels_"
   ]
  },
  {
   "cell_type": "code",
   "execution_count": 49,
   "metadata": {
    "ExecuteTime": {
     "end_time": "2021-04-01T15:21:59.790510Z",
     "start_time": "2021-04-01T15:21:59.750513Z"
    },
    "scrolled": false
   },
   "outputs": [
    {
     "data": {
      "text/html": [
       "<div>\n",
       "<style scoped>\n",
       "    .dataframe tbody tr th:only-of-type {\n",
       "        vertical-align: middle;\n",
       "    }\n",
       "\n",
       "    .dataframe tbody tr th {\n",
       "        vertical-align: top;\n",
       "    }\n",
       "\n",
       "    .dataframe thead th {\n",
       "        text-align: right;\n",
       "    }\n",
       "</style>\n",
       "<table border=\"1\" class=\"dataframe\">\n",
       "  <thead>\n",
       "    <tr style=\"text-align: right;\">\n",
       "      <th></th>\n",
       "      <th>Subprefecture</th>\n",
       "      <th>Neighborhood</th>\n",
       "      <th>Latitude</th>\n",
       "      <th>Longitude</th>\n",
       "      <th>Less than 2 Minimum Wage</th>\n",
       "      <th>From 2 to Less than 5 Minimum Wage</th>\n",
       "      <th>From 5 to Less than 10 Minimum Wage</th>\n",
       "      <th>From 10 to Less than 15 Minimum Wage</th>\n",
       "      <th>From 15 to Less than 25 Minimum Wage</th>\n",
       "      <th>From 25 Minimum Wage and more</th>\n",
       "      <th>Zone</th>\n",
       "      <th>Cluster Labels</th>\n",
       "    </tr>\n",
       "  </thead>\n",
       "  <tbody>\n",
       "    <tr>\n",
       "      <th>0</th>\n",
       "      <td>Aricanduva</td>\n",
       "      <td>Aricanduva</td>\n",
       "      <td>-23.578024</td>\n",
       "      <td>-46.511454</td>\n",
       "      <td>11.64</td>\n",
       "      <td>24.95</td>\n",
       "      <td>28.47</td>\n",
       "      <td>13.72</td>\n",
       "      <td>13.33</td>\n",
       "      <td>7.88</td>\n",
       "      <td>East</td>\n",
       "      <td>4</td>\n",
       "    </tr>\n",
       "    <tr>\n",
       "      <th>1</th>\n",
       "      <td>Aricanduva</td>\n",
       "      <td>Carrão</td>\n",
       "      <td>-23.551530</td>\n",
       "      <td>-46.537791</td>\n",
       "      <td>9.18</td>\n",
       "      <td>18.17</td>\n",
       "      <td>25.82</td>\n",
       "      <td>14.91</td>\n",
       "      <td>16.35</td>\n",
       "      <td>15.58</td>\n",
       "      <td>East</td>\n",
       "      <td>2</td>\n",
       "    </tr>\n",
       "    <tr>\n",
       "      <th>2</th>\n",
       "      <td>Aricanduva</td>\n",
       "      <td>Vila Formosa</td>\n",
       "      <td>-23.566876</td>\n",
       "      <td>-46.546323</td>\n",
       "      <td>8.10</td>\n",
       "      <td>20.08</td>\n",
       "      <td>28.69</td>\n",
       "      <td>13.91</td>\n",
       "      <td>13.08</td>\n",
       "      <td>16.14</td>\n",
       "      <td>East</td>\n",
       "      <td>2</td>\n",
       "    </tr>\n",
       "    <tr>\n",
       "      <th>3</th>\n",
       "      <td>Butantã</td>\n",
       "      <td>Butantã</td>\n",
       "      <td>-23.569056</td>\n",
       "      <td>-46.721883</td>\n",
       "      <td>4.93</td>\n",
       "      <td>10.60</td>\n",
       "      <td>16.23</td>\n",
       "      <td>12.10</td>\n",
       "      <td>18.25</td>\n",
       "      <td>37.88</td>\n",
       "      <td>West</td>\n",
       "      <td>1</td>\n",
       "    </tr>\n",
       "    <tr>\n",
       "      <th>4</th>\n",
       "      <td>Butantã</td>\n",
       "      <td>Morumbi</td>\n",
       "      <td>-23.596499</td>\n",
       "      <td>-46.717845</td>\n",
       "      <td>4.00</td>\n",
       "      <td>9.05</td>\n",
       "      <td>10.76</td>\n",
       "      <td>5.67</td>\n",
       "      <td>9.95</td>\n",
       "      <td>60.58</td>\n",
       "      <td>West</td>\n",
       "      <td>3</td>\n",
       "    </tr>\n",
       "    <tr>\n",
       "      <th>5</th>\n",
       "      <td>Butantã</td>\n",
       "      <td>Raposo Tavares</td>\n",
       "      <td>-23.591610</td>\n",
       "      <td>-46.780359</td>\n",
       "      <td>12.73</td>\n",
       "      <td>27.95</td>\n",
       "      <td>29.05</td>\n",
       "      <td>12.50</td>\n",
       "      <td>10.54</td>\n",
       "      <td>7.24</td>\n",
       "      <td>West</td>\n",
       "      <td>4</td>\n",
       "    </tr>\n",
       "    <tr>\n",
       "      <th>6</th>\n",
       "      <td>Butantã</td>\n",
       "      <td>Rio Pequeno</td>\n",
       "      <td>-23.568505</td>\n",
       "      <td>-46.756857</td>\n",
       "      <td>11.80</td>\n",
       "      <td>22.00</td>\n",
       "      <td>22.77</td>\n",
       "      <td>12.38</td>\n",
       "      <td>13.08</td>\n",
       "      <td>17.96</td>\n",
       "      <td>West</td>\n",
       "      <td>2</td>\n",
       "    </tr>\n",
       "    <tr>\n",
       "      <th>7</th>\n",
       "      <td>Butantã</td>\n",
       "      <td>Vila Sônia</td>\n",
       "      <td>-23.599771</td>\n",
       "      <td>-46.739201</td>\n",
       "      <td>9.58</td>\n",
       "      <td>16.05</td>\n",
       "      <td>20.05</td>\n",
       "      <td>11.28</td>\n",
       "      <td>13.96</td>\n",
       "      <td>29.07</td>\n",
       "      <td>West</td>\n",
       "      <td>1</td>\n",
       "    </tr>\n",
       "    <tr>\n",
       "      <th>8</th>\n",
       "      <td>Campo Limpo</td>\n",
       "      <td>Campo Limpo</td>\n",
       "      <td>-23.632558</td>\n",
       "      <td>-46.759666</td>\n",
       "      <td>16.07</td>\n",
       "      <td>28.25</td>\n",
       "      <td>28.71</td>\n",
       "      <td>11.26</td>\n",
       "      <td>9.96</td>\n",
       "      <td>5.76</td>\n",
       "      <td>South</td>\n",
       "      <td>4</td>\n",
       "    </tr>\n",
       "    <tr>\n",
       "      <th>9</th>\n",
       "      <td>Campo Limpo</td>\n",
       "      <td>Capão Redondo</td>\n",
       "      <td>-23.671903</td>\n",
       "      <td>-46.779435</td>\n",
       "      <td>18.30</td>\n",
       "      <td>32.80</td>\n",
       "      <td>29.82</td>\n",
       "      <td>9.36</td>\n",
       "      <td>6.50</td>\n",
       "      <td>3.22</td>\n",
       "      <td>South</td>\n",
       "      <td>0</td>\n",
       "    </tr>\n",
       "  </tbody>\n",
       "</table>\n",
       "</div>"
      ],
      "text/plain": [
       "  Subprefecture    Neighborhood   Latitude  Longitude  \\\n",
       "0    Aricanduva      Aricanduva -23.578024 -46.511454   \n",
       "1    Aricanduva          Carrão -23.551530 -46.537791   \n",
       "2    Aricanduva    Vila Formosa -23.566876 -46.546323   \n",
       "3       Butantã         Butantã -23.569056 -46.721883   \n",
       "4       Butantã         Morumbi -23.596499 -46.717845   \n",
       "5       Butantã  Raposo Tavares -23.591610 -46.780359   \n",
       "6       Butantã     Rio Pequeno -23.568505 -46.756857   \n",
       "7       Butantã      Vila Sônia -23.599771 -46.739201   \n",
       "8   Campo Limpo     Campo Limpo -23.632558 -46.759666   \n",
       "9   Campo Limpo   Capão Redondo -23.671903 -46.779435   \n",
       "\n",
       "   Less than 2 Minimum Wage  From 2 to Less than 5 Minimum Wage  \\\n",
       "0                     11.64                               24.95   \n",
       "1                      9.18                               18.17   \n",
       "2                      8.10                               20.08   \n",
       "3                      4.93                               10.60   \n",
       "4                      4.00                                9.05   \n",
       "5                     12.73                               27.95   \n",
       "6                     11.80                               22.00   \n",
       "7                      9.58                               16.05   \n",
       "8                     16.07                               28.25   \n",
       "9                     18.30                               32.80   \n",
       "\n",
       "   From 5 to Less than 10 Minimum Wage  From 10 to Less than 15 Minimum Wage  \\\n",
       "0                                28.47                                 13.72   \n",
       "1                                25.82                                 14.91   \n",
       "2                                28.69                                 13.91   \n",
       "3                                16.23                                 12.10   \n",
       "4                                10.76                                  5.67   \n",
       "5                                29.05                                 12.50   \n",
       "6                                22.77                                 12.38   \n",
       "7                                20.05                                 11.28   \n",
       "8                                28.71                                 11.26   \n",
       "9                                29.82                                  9.36   \n",
       "\n",
       "   From 15 to Less than 25 Minimum Wage  From 25 Minimum Wage and more   Zone  \\\n",
       "0                                 13.33                           7.88   East   \n",
       "1                                 16.35                          15.58   East   \n",
       "2                                 13.08                          16.14   East   \n",
       "3                                 18.25                          37.88   West   \n",
       "4                                  9.95                          60.58   West   \n",
       "5                                 10.54                           7.24   West   \n",
       "6                                 13.08                          17.96   West   \n",
       "7                                 13.96                          29.07   West   \n",
       "8                                  9.96                           5.76  South   \n",
       "9                                  6.50                           3.22  South   \n",
       "\n",
       "   Cluster Labels  \n",
       "0               4  \n",
       "1               2  \n",
       "2               2  \n",
       "3               1  \n",
       "4               3  \n",
       "5               4  \n",
       "6               2  \n",
       "7               1  \n",
       "8               4  \n",
       "9               0  "
      ]
     },
     "execution_count": 49,
     "metadata": {},
     "output_type": "execute_result"
    }
   ],
   "source": [
    "# show the firsts rows of the data frame\n",
    "df_sp_geocoded.head(10)"
   ]
  },
  {
   "cell_type": "markdown",
   "metadata": {},
   "source": [
    "**Create a map to visualize the clusters**"
   ]
  },
  {
   "cell_type": "code",
   "execution_count": 50,
   "metadata": {
    "ExecuteTime": {
     "end_time": "2021-04-01T15:22:06.229430Z",
     "start_time": "2021-04-01T15:22:03.765645Z"
    }
   },
   "outputs": [
    {
     "data": {
      "text/html": [
       "<div style=\"width:100%;\"><div style=\"position:relative;width:100%;height:0;padding-bottom:60%;\"><span style=\"color:#565656\">Make this Notebook Trusted to load map: File -> Trust Notebook</span><iframe src=\"about:blank\" style=\"position:absolute;width:100%;height:100%;left:0;top:0;border:none !important;\" data-html=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 onload=\"this.contentDocument.open();this.contentDocument.write(atob(this.getAttribute('data-html')));this.contentDocument.close();\" allowfullscreen webkitallowfullscreen mozallowfullscreen></iframe></div></div>"
      ],
      "text/plain": [
       "<folium.folium.Map at 0x268b83588b0>"
      ]
     },
     "execution_count": 50,
     "metadata": {},
     "output_type": "execute_result"
    }
   ],
   "source": [
    "map_clusters = folium.Map(location=[latitude, longitude], zoom_start=10)\n",
    "\n",
    "# adding GeoJson\n",
    "overlay = os.path.join('data', 'sp.json')\n",
    "folium.GeoJson(overlay, name='sp').add_to(map_clusters)\n",
    "\n",
    "# setting the colors\n",
    "x = np.arange(k_clusters)\n",
    "ys = [i + x + (i*x)**2 for i in range(k_clusters)]\n",
    "colors_array = cm.rainbow(np.linspace(0, 1, len(ys)))\n",
    "rainbow = [colors.rgb2hex(i) for i in colors_array]\n",
    "\n",
    "# adding markers\n",
    "markers_colors = []\n",
    "for lat, lng, poi, cluster in zip(df_sp_geocoded['Latitude'],\n",
    "                                  df_sp_geocoded['Longitude'],\n",
    "                                  df_sp_geocoded['Neighborhood'],\n",
    "                                  df_sp_geocoded['Cluster Labels']):\n",
    "    label_text = str(poi) + '/' + 'cluster: ' + str(cluster)\n",
    "    label = folium.Popup(label_text, parse_html=True)\n",
    "    folium.CircleMarker(\n",
    "        location=[lat, lng],\n",
    "        tooltip=label_text,\n",
    "        radius=5,\n",
    "        popup=label,\n",
    "        color=rainbow[cluster-1],\n",
    "        fill=True,\n",
    "        fill_color=rainbow[cluster-1],\n",
    "        fill_color_opacity=0.8).add_to(map_clusters)\n",
    "\n",
    "map_clusters"
   ]
  },
  {
   "cell_type": "markdown",
   "metadata": {},
   "source": [
    "As we can see from the above map of clusters, those neighborhoods wich is cluster 0, are on the periphery of the city of São Paulo, a place that has a little urban infrastructure, is more violent, and also poorer."
   ]
  },
  {
   "cell_type": "markdown",
   "metadata": {},
   "source": [
    "**Let's create a data frame for each cluster**"
   ]
  },
  {
   "cell_type": "code",
   "execution_count": 51,
   "metadata": {
    "ExecuteTime": {
     "end_time": "2021-04-01T15:22:09.972676Z",
     "start_time": "2021-04-01T15:22:09.932658Z"
    },
    "scrolled": false
   },
   "outputs": [
    {
     "data": {
      "text/html": [
       "<div>\n",
       "<style scoped>\n",
       "    .dataframe tbody tr th:only-of-type {\n",
       "        vertical-align: middle;\n",
       "    }\n",
       "\n",
       "    .dataframe tbody tr th {\n",
       "        vertical-align: top;\n",
       "    }\n",
       "\n",
       "    .dataframe thead th {\n",
       "        text-align: right;\n",
       "    }\n",
       "</style>\n",
       "<table border=\"1\" class=\"dataframe\">\n",
       "  <thead>\n",
       "    <tr style=\"text-align: right;\">\n",
       "      <th></th>\n",
       "      <th>Subprefecture</th>\n",
       "      <th>Neighborhood</th>\n",
       "      <th>Latitude</th>\n",
       "      <th>Longitude</th>\n",
       "      <th>Less than 2 Minimum Wage</th>\n",
       "      <th>From 2 to Less than 5 Minimum Wage</th>\n",
       "      <th>From 5 to Less than 10 Minimum Wage</th>\n",
       "      <th>From 10 to Less than 15 Minimum Wage</th>\n",
       "      <th>From 15 to Less than 25 Minimum Wage</th>\n",
       "      <th>From 25 Minimum Wage and more</th>\n",
       "      <th>Zone</th>\n",
       "      <th>Cluster Labels</th>\n",
       "    </tr>\n",
       "  </thead>\n",
       "  <tbody>\n",
       "    <tr>\n",
       "      <th>9</th>\n",
       "      <td>Campo Limpo</td>\n",
       "      <td>Capão Redondo</td>\n",
       "      <td>-23.671903</td>\n",
       "      <td>-46.779435</td>\n",
       "      <td>18.30</td>\n",
       "      <td>32.80</td>\n",
       "      <td>29.82</td>\n",
       "      <td>9.36</td>\n",
       "      <td>6.50</td>\n",
       "      <td>3.22</td>\n",
       "      <td>South</td>\n",
       "      <td>0</td>\n",
       "    </tr>\n",
       "    <tr>\n",
       "      <th>12</th>\n",
       "      <td>Capela do Socorro</td>\n",
       "      <td>Grajaú</td>\n",
       "      <td>-23.785907</td>\n",
       "      <td>-46.665197</td>\n",
       "      <td>22.92</td>\n",
       "      <td>35.87</td>\n",
       "      <td>28.21</td>\n",
       "      <td>7.55</td>\n",
       "      <td>4.08</td>\n",
       "      <td>1.38</td>\n",
       "      <td>South</td>\n",
       "      <td>0</td>\n",
       "    </tr>\n",
       "    <tr>\n",
       "      <th>18</th>\n",
       "      <td>Cidade Ademar</td>\n",
       "      <td>Pedreira</td>\n",
       "      <td>-23.696144</td>\n",
       "      <td>-46.637628</td>\n",
       "      <td>21.24</td>\n",
       "      <td>32.70</td>\n",
       "      <td>28.57</td>\n",
       "      <td>8.86</td>\n",
       "      <td>5.60</td>\n",
       "      <td>3.03</td>\n",
       "      <td>South</td>\n",
       "      <td>0</td>\n",
       "    </tr>\n",
       "    <tr>\n",
       "      <th>19</th>\n",
       "      <td>Cidade Tiradentes</td>\n",
       "      <td>Cidade Tiradentes</td>\n",
       "      <td>-23.582497</td>\n",
       "      <td>-46.409207</td>\n",
       "      <td>20.47</td>\n",
       "      <td>36.92</td>\n",
       "      <td>31.23</td>\n",
       "      <td>7.53</td>\n",
       "      <td>3.08</td>\n",
       "      <td>0.76</td>\n",
       "      <td>East</td>\n",
       "      <td>0</td>\n",
       "    </tr>\n",
       "    <tr>\n",
       "      <th>22</th>\n",
       "      <td>Freguesia do Ó</td>\n",
       "      <td>Brasilândia</td>\n",
       "      <td>-23.448272</td>\n",
       "      <td>-46.690269</td>\n",
       "      <td>19.87</td>\n",
       "      <td>34.23</td>\n",
       "      <td>28.27</td>\n",
       "      <td>9.15</td>\n",
       "      <td>5.99</td>\n",
       "      <td>2.49</td>\n",
       "      <td>North</td>\n",
       "      <td>0</td>\n",
       "    </tr>\n",
       "  </tbody>\n",
       "</table>\n",
       "</div>"
      ],
      "text/plain": [
       "        Subprefecture       Neighborhood   Latitude  Longitude  \\\n",
       "9         Campo Limpo      Capão Redondo -23.671903 -46.779435   \n",
       "12  Capela do Socorro             Grajaú -23.785907 -46.665197   \n",
       "18      Cidade Ademar           Pedreira -23.696144 -46.637628   \n",
       "19  Cidade Tiradentes  Cidade Tiradentes -23.582497 -46.409207   \n",
       "22     Freguesia do Ó        Brasilândia -23.448272 -46.690269   \n",
       "\n",
       "    Less than 2 Minimum Wage  From 2 to Less than 5 Minimum Wage  \\\n",
       "9                      18.30                               32.80   \n",
       "12                     22.92                               35.87   \n",
       "18                     21.24                               32.70   \n",
       "19                     20.47                               36.92   \n",
       "22                     19.87                               34.23   \n",
       "\n",
       "    From 5 to Less than 10 Minimum Wage  From 10 to Less than 15 Minimum Wage  \\\n",
       "9                                 29.82                                  9.36   \n",
       "12                                28.21                                  7.55   \n",
       "18                                28.57                                  8.86   \n",
       "19                                31.23                                  7.53   \n",
       "22                                28.27                                  9.15   \n",
       "\n",
       "    From 15 to Less than 25 Minimum Wage  From 25 Minimum Wage and more  \\\n",
       "9                                   6.50                           3.22   \n",
       "12                                  4.08                           1.38   \n",
       "18                                  5.60                           3.03   \n",
       "19                                  3.08                           0.76   \n",
       "22                                  5.99                           2.49   \n",
       "\n",
       "     Zone  Cluster Labels  \n",
       "9   South               0  \n",
       "12  South               0  \n",
       "18  South               0  \n",
       "19   East               0  \n",
       "22  North               0  "
      ]
     },
     "execution_count": 51,
     "metadata": {},
     "output_type": "execute_result"
    }
   ],
   "source": [
    "# cluster 0 data frame\n",
    "df_cluster0 = df_sp_geocoded[df_sp_geocoded['Cluster Labels'] == 0]\n",
    "df_cluster0.head()"
   ]
  },
  {
   "cell_type": "code",
   "execution_count": 52,
   "metadata": {
    "ExecuteTime": {
     "end_time": "2021-04-01T15:22:13.206257Z",
     "start_time": "2021-04-01T15:22:13.190260Z"
    }
   },
   "outputs": [
    {
     "name": "stdout",
     "output_type": "stream",
     "text": [
      "We have 18 neighborhoods in the cluster 0.\n"
     ]
    }
   ],
   "source": [
    "print(f'We have {df_cluster0.shape[0]} neighborhoods in the cluster 0.')"
   ]
  },
  {
   "cell_type": "markdown",
   "metadata": {},
   "source": [
    "**Let's check the distribution of the mean percentage of the neighborhoods into classes of wage**"
   ]
  },
  {
   "cell_type": "code",
   "execution_count": 53,
   "metadata": {
    "ExecuteTime": {
     "end_time": "2021-04-01T15:22:15.330701Z",
     "start_time": "2021-04-01T15:22:15.322702Z"
    },
    "scrolled": true
   },
   "outputs": [
    {
     "name": "stdout",
     "output_type": "stream",
     "text": [
      "Less than 2 Minimum Wage: 22.77\n",
      "From 2 to Less than 5 Minimum Wage: 35.54\n",
      "From 5 to Less than 10 Minimum Wage: 27.81\n",
      "From 10 to Less than 15 Minimum Wage: 7.83\n",
      "From 15 to Less than 25 Minimum Wage: 4.26\n",
      "From 25 Minimum Wage and more: 1.79\n"
     ]
    }
   ],
   "source": [
    "numeric_columns = [col for col in df_cluster0.columns[4:-2] if df_cluster0[col].dtype == 'float']\n",
    "for col in numeric_columns:\n",
    "    print(f'{col}: {df_cluster0[col].mean():.2f}')"
   ]
  },
  {
   "cell_type": "markdown",
   "metadata": {},
   "source": [
    "We can see that the neighborhoods in cluster 0 are those where families that earn a maximum of 10 minimum wages predominate, with the most representative group being those that earn between 2 and 5 minimum wages. They are located on the periphery of the city."
   ]
  },
  {
   "cell_type": "code",
   "execution_count": 54,
   "metadata": {
    "ExecuteTime": {
     "end_time": "2021-04-01T15:22:16.978419Z",
     "start_time": "2021-04-01T15:22:16.922417Z"
    },
    "scrolled": false
   },
   "outputs": [
    {
     "data": {
      "text/html": [
       "<div>\n",
       "<style scoped>\n",
       "    .dataframe tbody tr th:only-of-type {\n",
       "        vertical-align: middle;\n",
       "    }\n",
       "\n",
       "    .dataframe tbody tr th {\n",
       "        vertical-align: top;\n",
       "    }\n",
       "\n",
       "    .dataframe thead th {\n",
       "        text-align: right;\n",
       "    }\n",
       "</style>\n",
       "<table border=\"1\" class=\"dataframe\">\n",
       "  <thead>\n",
       "    <tr style=\"text-align: right;\">\n",
       "      <th></th>\n",
       "      <th>Subprefecture</th>\n",
       "      <th>Neighborhood</th>\n",
       "      <th>Latitude</th>\n",
       "      <th>Longitude</th>\n",
       "      <th>Less than 2 Minimum Wage</th>\n",
       "      <th>From 2 to Less than 5 Minimum Wage</th>\n",
       "      <th>From 5 to Less than 10 Minimum Wage</th>\n",
       "      <th>From 10 to Less than 15 Minimum Wage</th>\n",
       "      <th>From 15 to Less than 25 Minimum Wage</th>\n",
       "      <th>From 25 Minimum Wage and more</th>\n",
       "      <th>Zone</th>\n",
       "      <th>Cluster Labels</th>\n",
       "    </tr>\n",
       "  </thead>\n",
       "  <tbody>\n",
       "    <tr>\n",
       "      <th>3</th>\n",
       "      <td>Butantã</td>\n",
       "      <td>Butantã</td>\n",
       "      <td>-23.569056</td>\n",
       "      <td>-46.721883</td>\n",
       "      <td>4.93</td>\n",
       "      <td>10.60</td>\n",
       "      <td>16.23</td>\n",
       "      <td>12.10</td>\n",
       "      <td>18.25</td>\n",
       "      <td>37.88</td>\n",
       "      <td>West</td>\n",
       "      <td>1</td>\n",
       "    </tr>\n",
       "    <tr>\n",
       "      <th>7</th>\n",
       "      <td>Butantã</td>\n",
       "      <td>Vila Sônia</td>\n",
       "      <td>-23.599771</td>\n",
       "      <td>-46.739201</td>\n",
       "      <td>9.58</td>\n",
       "      <td>16.05</td>\n",
       "      <td>20.05</td>\n",
       "      <td>11.28</td>\n",
       "      <td>13.96</td>\n",
       "      <td>29.07</td>\n",
       "      <td>West</td>\n",
       "      <td>1</td>\n",
       "    </tr>\n",
       "    <tr>\n",
       "      <th>10</th>\n",
       "      <td>Campo Limpo</td>\n",
       "      <td>Vila Andrade</td>\n",
       "      <td>-23.625687</td>\n",
       "      <td>-46.726989</td>\n",
       "      <td>14.15</td>\n",
       "      <td>25.13</td>\n",
       "      <td>17.41</td>\n",
       "      <td>5.50</td>\n",
       "      <td>6.37</td>\n",
       "      <td>31.44</td>\n",
       "      <td>South</td>\n",
       "      <td>1</td>\n",
       "    </tr>\n",
       "    <tr>\n",
       "      <th>13</th>\n",
       "      <td>Capela do Socorro</td>\n",
       "      <td>Socorro</td>\n",
       "      <td>-23.668885</td>\n",
       "      <td>-46.718615</td>\n",
       "      <td>8.65</td>\n",
       "      <td>13.72</td>\n",
       "      <td>24.01</td>\n",
       "      <td>12.82</td>\n",
       "      <td>17.58</td>\n",
       "      <td>23.22</td>\n",
       "      <td>South</td>\n",
       "      <td>1</td>\n",
       "    </tr>\n",
       "    <tr>\n",
       "      <th>38</th>\n",
       "      <td>Lapa</td>\n",
       "      <td>Barra Funda</td>\n",
       "      <td>-23.525462</td>\n",
       "      <td>-46.667513</td>\n",
       "      <td>6.66</td>\n",
       "      <td>11.23</td>\n",
       "      <td>23.98</td>\n",
       "      <td>12.87</td>\n",
       "      <td>14.22</td>\n",
       "      <td>31.04</td>\n",
       "      <td>West</td>\n",
       "      <td>1</td>\n",
       "    </tr>\n",
       "  </tbody>\n",
       "</table>\n",
       "</div>"
      ],
      "text/plain": [
       "        Subprefecture  Neighborhood   Latitude  Longitude  \\\n",
       "3             Butantã       Butantã -23.569056 -46.721883   \n",
       "7             Butantã    Vila Sônia -23.599771 -46.739201   \n",
       "10        Campo Limpo  Vila Andrade -23.625687 -46.726989   \n",
       "13  Capela do Socorro       Socorro -23.668885 -46.718615   \n",
       "38               Lapa   Barra Funda -23.525462 -46.667513   \n",
       "\n",
       "    Less than 2 Minimum Wage  From 2 to Less than 5 Minimum Wage  \\\n",
       "3                       4.93                               10.60   \n",
       "7                       9.58                               16.05   \n",
       "10                     14.15                               25.13   \n",
       "13                      8.65                               13.72   \n",
       "38                      6.66                               11.23   \n",
       "\n",
       "    From 5 to Less than 10 Minimum Wage  From 10 to Less than 15 Minimum Wage  \\\n",
       "3                                 16.23                                 12.10   \n",
       "7                                 20.05                                 11.28   \n",
       "10                                17.41                                  5.50   \n",
       "13                                24.01                                 12.82   \n",
       "38                                23.98                                 12.87   \n",
       "\n",
       "    From 15 to Less than 25 Minimum Wage  From 25 Minimum Wage and more  \\\n",
       "3                                  18.25                          37.88   \n",
       "7                                  13.96                          29.07   \n",
       "10                                  6.37                          31.44   \n",
       "13                                 17.58                          23.22   \n",
       "38                                 14.22                          31.04   \n",
       "\n",
       "     Zone  Cluster Labels  \n",
       "3    West               1  \n",
       "7    West               1  \n",
       "10  South               1  \n",
       "13  South               1  \n",
       "38   West               1  "
      ]
     },
     "execution_count": 54,
     "metadata": {},
     "output_type": "execute_result"
    }
   ],
   "source": [
    "# cluster 1 data frame\n",
    "df_cluster1 = df_sp_geocoded[df_sp_geocoded['Cluster Labels'] == 1]\n",
    "df_cluster1.head()"
   ]
  },
  {
   "cell_type": "code",
   "execution_count": 55,
   "metadata": {
    "ExecuteTime": {
     "end_time": "2021-04-01T15:22:17.858330Z",
     "start_time": "2021-04-01T15:22:17.842334Z"
    }
   },
   "outputs": [
    {
     "name": "stdout",
     "output_type": "stream",
     "text": [
      "We have 15 neighborhoods in the cluster 1\n"
     ]
    }
   ],
   "source": [
    "print(f'We have {df_cluster1.shape[0]} neighborhoods in the cluster 1')"
   ]
  },
  {
   "cell_type": "code",
   "execution_count": 56,
   "metadata": {
    "ExecuteTime": {
     "end_time": "2021-04-01T15:22:18.834448Z",
     "start_time": "2021-04-01T15:22:18.818448Z"
    },
    "scrolled": true
   },
   "outputs": [
    {
     "name": "stdout",
     "output_type": "stream",
     "text": [
      "Less than 2 Minimum Wage: 6.55\n",
      "From 2 to Less than 5 Minimum Wage: 13.57\n",
      "From 5 to Less than 10 Minimum Wage: 20.22\n",
      "From 10 to Less than 15 Minimum Wage: 11.95\n",
      "From 15 to Less than 25 Minimum Wage: 16.53\n",
      "From 25 Minimum Wage and more: 31.18\n"
     ]
    }
   ],
   "source": [
    "numeric_columns = [col for col in df_cluster1.columns[4:-2] if df_cluster1[col].dtype == 'float']\n",
    "for col in numeric_columns:\n",
    "    print(f'{col}: {df_cluster1[col].mean():.2f}')"
   ]
  },
  {
   "cell_type": "markdown",
   "metadata": {},
   "source": [
    "Cluster 1 neighborhoods are homogeneous among families earning 2 to 25 minimum wages, where the average does not vary as much, although we have the highest average for families earning more than 25 minimum wages."
   ]
  },
  {
   "cell_type": "code",
   "execution_count": 57,
   "metadata": {
    "ExecuteTime": {
     "end_time": "2021-04-01T15:22:20.407987Z",
     "start_time": "2021-04-01T15:22:20.367987Z"
    },
    "scrolled": true
   },
   "outputs": [
    {
     "data": {
      "text/html": [
       "<div>\n",
       "<style scoped>\n",
       "    .dataframe tbody tr th:only-of-type {\n",
       "        vertical-align: middle;\n",
       "    }\n",
       "\n",
       "    .dataframe tbody tr th {\n",
       "        vertical-align: top;\n",
       "    }\n",
       "\n",
       "    .dataframe thead th {\n",
       "        text-align: right;\n",
       "    }\n",
       "</style>\n",
       "<table border=\"1\" class=\"dataframe\">\n",
       "  <thead>\n",
       "    <tr style=\"text-align: right;\">\n",
       "      <th></th>\n",
       "      <th>Subprefecture</th>\n",
       "      <th>Neighborhood</th>\n",
       "      <th>Latitude</th>\n",
       "      <th>Longitude</th>\n",
       "      <th>Less than 2 Minimum Wage</th>\n",
       "      <th>From 2 to Less than 5 Minimum Wage</th>\n",
       "      <th>From 5 to Less than 10 Minimum Wage</th>\n",
       "      <th>From 10 to Less than 15 Minimum Wage</th>\n",
       "      <th>From 15 to Less than 25 Minimum Wage</th>\n",
       "      <th>From 25 Minimum Wage and more</th>\n",
       "      <th>Zone</th>\n",
       "      <th>Cluster Labels</th>\n",
       "    </tr>\n",
       "  </thead>\n",
       "  <tbody>\n",
       "    <tr>\n",
       "      <th>1</th>\n",
       "      <td>Aricanduva</td>\n",
       "      <td>Carrão</td>\n",
       "      <td>-23.551530</td>\n",
       "      <td>-46.537791</td>\n",
       "      <td>9.18</td>\n",
       "      <td>18.17</td>\n",
       "      <td>25.82</td>\n",
       "      <td>14.91</td>\n",
       "      <td>16.35</td>\n",
       "      <td>15.58</td>\n",
       "      <td>East</td>\n",
       "      <td>2</td>\n",
       "    </tr>\n",
       "    <tr>\n",
       "      <th>2</th>\n",
       "      <td>Aricanduva</td>\n",
       "      <td>Vila Formosa</td>\n",
       "      <td>-23.566876</td>\n",
       "      <td>-46.546323</td>\n",
       "      <td>8.10</td>\n",
       "      <td>20.08</td>\n",
       "      <td>28.69</td>\n",
       "      <td>13.91</td>\n",
       "      <td>13.08</td>\n",
       "      <td>16.14</td>\n",
       "      <td>East</td>\n",
       "      <td>2</td>\n",
       "    </tr>\n",
       "    <tr>\n",
       "      <th>6</th>\n",
       "      <td>Butantã</td>\n",
       "      <td>Rio Pequeno</td>\n",
       "      <td>-23.568505</td>\n",
       "      <td>-46.756857</td>\n",
       "      <td>11.80</td>\n",
       "      <td>22.00</td>\n",
       "      <td>22.77</td>\n",
       "      <td>12.38</td>\n",
       "      <td>13.08</td>\n",
       "      <td>17.96</td>\n",
       "      <td>West</td>\n",
       "      <td>2</td>\n",
       "    </tr>\n",
       "    <tr>\n",
       "      <th>15</th>\n",
       "      <td>Casa Verde</td>\n",
       "      <td>Casa Verde</td>\n",
       "      <td>-23.505927</td>\n",
       "      <td>-46.656138</td>\n",
       "      <td>8.51</td>\n",
       "      <td>19.05</td>\n",
       "      <td>28.32</td>\n",
       "      <td>13.74</td>\n",
       "      <td>14.49</td>\n",
       "      <td>15.90</td>\n",
       "      <td>North</td>\n",
       "      <td>2</td>\n",
       "    </tr>\n",
       "    <tr>\n",
       "      <th>16</th>\n",
       "      <td>Casa Verde</td>\n",
       "      <td>Limão</td>\n",
       "      <td>-23.503315</td>\n",
       "      <td>-46.675272</td>\n",
       "      <td>11.30</td>\n",
       "      <td>24.80</td>\n",
       "      <td>25.49</td>\n",
       "      <td>14.25</td>\n",
       "      <td>13.54</td>\n",
       "      <td>10.62</td>\n",
       "      <td>North</td>\n",
       "      <td>2</td>\n",
       "    </tr>\n",
       "  </tbody>\n",
       "</table>\n",
       "</div>"
      ],
      "text/plain": [
       "   Subprefecture  Neighborhood   Latitude  Longitude  \\\n",
       "1     Aricanduva        Carrão -23.551530 -46.537791   \n",
       "2     Aricanduva  Vila Formosa -23.566876 -46.546323   \n",
       "6        Butantã   Rio Pequeno -23.568505 -46.756857   \n",
       "15    Casa Verde    Casa Verde -23.505927 -46.656138   \n",
       "16    Casa Verde         Limão -23.503315 -46.675272   \n",
       "\n",
       "    Less than 2 Minimum Wage  From 2 to Less than 5 Minimum Wage  \\\n",
       "1                       9.18                               18.17   \n",
       "2                       8.10                               20.08   \n",
       "6                      11.80                               22.00   \n",
       "15                      8.51                               19.05   \n",
       "16                     11.30                               24.80   \n",
       "\n",
       "    From 5 to Less than 10 Minimum Wage  From 10 to Less than 15 Minimum Wage  \\\n",
       "1                                 25.82                                 14.91   \n",
       "2                                 28.69                                 13.91   \n",
       "6                                 22.77                                 12.38   \n",
       "15                                28.32                                 13.74   \n",
       "16                                25.49                                 14.25   \n",
       "\n",
       "    From 15 to Less than 25 Minimum Wage  From 25 Minimum Wage and more  \\\n",
       "1                                  16.35                          15.58   \n",
       "2                                  13.08                          16.14   \n",
       "6                                  13.08                          17.96   \n",
       "15                                 14.49                          15.90   \n",
       "16                                 13.54                          10.62   \n",
       "\n",
       "     Zone  Cluster Labels  \n",
       "1    East               2  \n",
       "2    East               2  \n",
       "6    West               2  \n",
       "15  North               2  \n",
       "16  North               2  "
      ]
     },
     "execution_count": 57,
     "metadata": {},
     "output_type": "execute_result"
    }
   ],
   "source": [
    "# cluster 2 data frame\n",
    "df_cluster2 = df_sp_geocoded[df_sp_geocoded['Cluster Labels'] == 2]\n",
    "df_cluster2.head()"
   ]
  },
  {
   "cell_type": "code",
   "execution_count": 58,
   "metadata": {
    "ExecuteTime": {
     "end_time": "2021-04-01T15:22:21.191646Z",
     "start_time": "2021-04-01T15:22:21.175649Z"
    }
   },
   "outputs": [
    {
     "name": "stdout",
     "output_type": "stream",
     "text": [
      "We have 28 neighborhoods in the cluster 2\n"
     ]
    }
   ],
   "source": [
    "print(f'We have {df_cluster2.shape[0]} neighborhoods in the cluster 2')"
   ]
  },
  {
   "cell_type": "code",
   "execution_count": 59,
   "metadata": {
    "ExecuteTime": {
     "end_time": "2021-04-01T15:22:22.400687Z",
     "start_time": "2021-04-01T15:22:22.384679Z"
    }
   },
   "outputs": [
    {
     "name": "stdout",
     "output_type": "stream",
     "text": [
      "Less than 2 Minimum Wage: 9.77\n",
      "From 2 to Less than 5 Minimum Wage: 20.03\n",
      "From 5 to Less than 10 Minimum Wage: 26.52\n",
      "From 10 to Less than 15 Minimum Wage: 14.07\n",
      "From 15 to Less than 25 Minimum Wage: 14.62\n",
      "From 25 Minimum Wage and more: 14.98\n"
     ]
    }
   ],
   "source": [
    "numeric_columns = [col for col in df_cluster2.columns[4:-2] if df_cluster2[col].dtype == 'float']\n",
    "for col in numeric_columns:\n",
    "    print(f'{col}: {df_cluster2[col].mean():.2f}')"
   ]
  },
  {
   "cell_type": "markdown",
   "metadata": {},
   "source": [
    "In cluster 2 we have the neighborhoods with the best income distribution, where it is not possible to verify a class much more representative than another, as the averages are very close."
   ]
  },
  {
   "cell_type": "code",
   "execution_count": 60,
   "metadata": {
    "ExecuteTime": {
     "end_time": "2021-04-01T15:22:23.856654Z",
     "start_time": "2021-04-01T15:22:23.816678Z"
    },
    "scrolled": false
   },
   "outputs": [
    {
     "data": {
      "text/html": [
       "<div>\n",
       "<style scoped>\n",
       "    .dataframe tbody tr th:only-of-type {\n",
       "        vertical-align: middle;\n",
       "    }\n",
       "\n",
       "    .dataframe tbody tr th {\n",
       "        vertical-align: top;\n",
       "    }\n",
       "\n",
       "    .dataframe thead th {\n",
       "        text-align: right;\n",
       "    }\n",
       "</style>\n",
       "<table border=\"1\" class=\"dataframe\">\n",
       "  <thead>\n",
       "    <tr style=\"text-align: right;\">\n",
       "      <th></th>\n",
       "      <th>Subprefecture</th>\n",
       "      <th>Neighborhood</th>\n",
       "      <th>Latitude</th>\n",
       "      <th>Longitude</th>\n",
       "      <th>Less than 2 Minimum Wage</th>\n",
       "      <th>From 2 to Less than 5 Minimum Wage</th>\n",
       "      <th>From 5 to Less than 10 Minimum Wage</th>\n",
       "      <th>From 10 to Less than 15 Minimum Wage</th>\n",
       "      <th>From 15 to Less than 25 Minimum Wage</th>\n",
       "      <th>From 25 Minimum Wage and more</th>\n",
       "      <th>Zone</th>\n",
       "      <th>Cluster Labels</th>\n",
       "    </tr>\n",
       "  </thead>\n",
       "  <tbody>\n",
       "    <tr>\n",
       "      <th>4</th>\n",
       "      <td>Butantã</td>\n",
       "      <td>Morumbi</td>\n",
       "      <td>-23.596499</td>\n",
       "      <td>-46.717845</td>\n",
       "      <td>4.00</td>\n",
       "      <td>9.05</td>\n",
       "      <td>10.76</td>\n",
       "      <td>5.67</td>\n",
       "      <td>9.95</td>\n",
       "      <td>60.58</td>\n",
       "      <td>West</td>\n",
       "      <td>3</td>\n",
       "    </tr>\n",
       "    <tr>\n",
       "      <th>42</th>\n",
       "      <td>Lapa</td>\n",
       "      <td>Perdizes</td>\n",
       "      <td>-23.537930</td>\n",
       "      <td>-46.680671</td>\n",
       "      <td>2.70</td>\n",
       "      <td>5.45</td>\n",
       "      <td>12.84</td>\n",
       "      <td>10.72</td>\n",
       "      <td>17.47</td>\n",
       "      <td>50.83</td>\n",
       "      <td>West</td>\n",
       "      <td>3</td>\n",
       "    </tr>\n",
       "    <tr>\n",
       "      <th>60</th>\n",
       "      <td>Pinheiros</td>\n",
       "      <td>Alto de Pinheiros</td>\n",
       "      <td>-23.549461</td>\n",
       "      <td>-46.712293</td>\n",
       "      <td>3.47</td>\n",
       "      <td>5.44</td>\n",
       "      <td>12.22</td>\n",
       "      <td>9.30</td>\n",
       "      <td>15.85</td>\n",
       "      <td>53.72</td>\n",
       "      <td>West</td>\n",
       "      <td>3</td>\n",
       "    </tr>\n",
       "    <tr>\n",
       "      <th>61</th>\n",
       "      <td>Pinheiros</td>\n",
       "      <td>Itaim Bibi</td>\n",
       "      <td>-23.584381</td>\n",
       "      <td>-46.678444</td>\n",
       "      <td>3.87</td>\n",
       "      <td>6.61</td>\n",
       "      <td>12.98</td>\n",
       "      <td>8.83</td>\n",
       "      <td>14.78</td>\n",
       "      <td>52.92</td>\n",
       "      <td>West</td>\n",
       "      <td>3</td>\n",
       "    </tr>\n",
       "    <tr>\n",
       "      <th>62</th>\n",
       "      <td>Pinheiros</td>\n",
       "      <td>Jardim Paulista</td>\n",
       "      <td>-23.567436</td>\n",
       "      <td>-46.663692</td>\n",
       "      <td>2.43</td>\n",
       "      <td>4.04</td>\n",
       "      <td>11.97</td>\n",
       "      <td>9.17</td>\n",
       "      <td>16.61</td>\n",
       "      <td>55.78</td>\n",
       "      <td>West</td>\n",
       "      <td>3</td>\n",
       "    </tr>\n",
       "  </tbody>\n",
       "</table>\n",
       "</div>"
      ],
      "text/plain": [
       "   Subprefecture       Neighborhood   Latitude  Longitude  \\\n",
       "4        Butantã            Morumbi -23.596499 -46.717845   \n",
       "42          Lapa           Perdizes -23.537930 -46.680671   \n",
       "60     Pinheiros  Alto de Pinheiros -23.549461 -46.712293   \n",
       "61     Pinheiros         Itaim Bibi -23.584381 -46.678444   \n",
       "62     Pinheiros    Jardim Paulista -23.567436 -46.663692   \n",
       "\n",
       "    Less than 2 Minimum Wage  From 2 to Less than 5 Minimum Wage  \\\n",
       "4                       4.00                                9.05   \n",
       "42                      2.70                                5.45   \n",
       "60                      3.47                                5.44   \n",
       "61                      3.87                                6.61   \n",
       "62                      2.43                                4.04   \n",
       "\n",
       "    From 5 to Less than 10 Minimum Wage  From 10 to Less than 15 Minimum Wage  \\\n",
       "4                                 10.76                                  5.67   \n",
       "42                                12.84                                 10.72   \n",
       "60                                12.22                                  9.30   \n",
       "61                                12.98                                  8.83   \n",
       "62                                11.97                                  9.17   \n",
       "\n",
       "    From 15 to Less than 25 Minimum Wage  From 25 Minimum Wage and more  Zone  \\\n",
       "4                                   9.95                          60.58  West   \n",
       "42                                 17.47                          50.83  West   \n",
       "60                                 15.85                          53.72  West   \n",
       "61                                 14.78                          52.92  West   \n",
       "62                                 16.61                          55.78  West   \n",
       "\n",
       "    Cluster Labels  \n",
       "4                3  \n",
       "42               3  \n",
       "60               3  \n",
       "61               3  \n",
       "62               3  "
      ]
     },
     "execution_count": 60,
     "metadata": {},
     "output_type": "execute_result"
    }
   ],
   "source": [
    "# cluster 3 data frame\n",
    "df_cluster3 = df_sp_geocoded[df_sp_geocoded['Cluster Labels'] == 3]\n",
    "df_cluster3.head()"
   ]
  },
  {
   "cell_type": "code",
   "execution_count": 61,
   "metadata": {
    "ExecuteTime": {
     "end_time": "2021-04-01T15:22:26.799520Z",
     "start_time": "2021-04-01T15:22:26.791527Z"
    }
   },
   "outputs": [
    {
     "name": "stdout",
     "output_type": "stream",
     "text": [
      "We have 11 neighborhoods in the cluster 3\n"
     ]
    }
   ],
   "source": [
    "print(f'We have {df_cluster3.shape[0]} neighborhoods in the cluster 3')"
   ]
  },
  {
   "cell_type": "code",
   "execution_count": 62,
   "metadata": {
    "ExecuteTime": {
     "end_time": "2021-04-01T15:22:27.705449Z",
     "start_time": "2021-04-01T15:22:27.689444Z"
    }
   },
   "outputs": [
    {
     "name": "stdout",
     "output_type": "stream",
     "text": [
      "Less than 2 Minimum Wage: 3.53\n",
      "From 2 to Less than 5 Minimum Wage: 6.52\n",
      "From 5 to Less than 10 Minimum Wage: 13.33\n",
      "From 10 to Less than 15 Minimum Wage: 9.32\n",
      "From 15 to Less than 25 Minimum Wage: 15.47\n",
      "From 25 Minimum Wage and more: 51.83\n"
     ]
    }
   ],
   "source": [
    "numeric_columns = [col for col in df_cluster3.columns[4:-2] if df_cluster3[col].dtype == 'float']\n",
    "for col in numeric_columns:\n",
    "    print(f'{col}: {df_cluster3[col].mean():.2f}')"
   ]
  },
  {
   "cell_type": "markdown",
   "metadata": {},
   "source": [
    "In cluster 3 we have the neighborhoods with the highest concentration of families earning over 25 minimum wages, and the lowest concentration for families earning up to 2 minimum wages.\n",
    "The difference between the percentage of families earning more than 25 minimum wages in relation to the other classes is very large, which indicates that this is the cluster with the wealthiest neighborhoods in the city."
   ]
  },
  {
   "cell_type": "code",
   "execution_count": 63,
   "metadata": {
    "ExecuteTime": {
     "end_time": "2021-04-01T15:22:30.227645Z",
     "start_time": "2021-04-01T15:22:30.179667Z"
    },
    "scrolled": true
   },
   "outputs": [
    {
     "data": {
      "text/html": [
       "<div>\n",
       "<style scoped>\n",
       "    .dataframe tbody tr th:only-of-type {\n",
       "        vertical-align: middle;\n",
       "    }\n",
       "\n",
       "    .dataframe tbody tr th {\n",
       "        vertical-align: top;\n",
       "    }\n",
       "\n",
       "    .dataframe thead th {\n",
       "        text-align: right;\n",
       "    }\n",
       "</style>\n",
       "<table border=\"1\" class=\"dataframe\">\n",
       "  <thead>\n",
       "    <tr style=\"text-align: right;\">\n",
       "      <th></th>\n",
       "      <th>Subprefecture</th>\n",
       "      <th>Neighborhood</th>\n",
       "      <th>Latitude</th>\n",
       "      <th>Longitude</th>\n",
       "      <th>Less than 2 Minimum Wage</th>\n",
       "      <th>From 2 to Less than 5 Minimum Wage</th>\n",
       "      <th>From 5 to Less than 10 Minimum Wage</th>\n",
       "      <th>From 10 to Less than 15 Minimum Wage</th>\n",
       "      <th>From 15 to Less than 25 Minimum Wage</th>\n",
       "      <th>From 25 Minimum Wage and more</th>\n",
       "      <th>Zone</th>\n",
       "      <th>Cluster Labels</th>\n",
       "    </tr>\n",
       "  </thead>\n",
       "  <tbody>\n",
       "    <tr>\n",
       "      <th>0</th>\n",
       "      <td>Aricanduva</td>\n",
       "      <td>Aricanduva</td>\n",
       "      <td>-23.578024</td>\n",
       "      <td>-46.511454</td>\n",
       "      <td>11.64</td>\n",
       "      <td>24.95</td>\n",
       "      <td>28.47</td>\n",
       "      <td>13.72</td>\n",
       "      <td>13.33</td>\n",
       "      <td>7.88</td>\n",
       "      <td>East</td>\n",
       "      <td>4</td>\n",
       "    </tr>\n",
       "    <tr>\n",
       "      <th>5</th>\n",
       "      <td>Butantã</td>\n",
       "      <td>Raposo Tavares</td>\n",
       "      <td>-23.591610</td>\n",
       "      <td>-46.780359</td>\n",
       "      <td>12.73</td>\n",
       "      <td>27.95</td>\n",
       "      <td>29.05</td>\n",
       "      <td>12.50</td>\n",
       "      <td>10.54</td>\n",
       "      <td>7.24</td>\n",
       "      <td>West</td>\n",
       "      <td>4</td>\n",
       "    </tr>\n",
       "    <tr>\n",
       "      <th>8</th>\n",
       "      <td>Campo Limpo</td>\n",
       "      <td>Campo Limpo</td>\n",
       "      <td>-23.632558</td>\n",
       "      <td>-46.759666</td>\n",
       "      <td>16.07</td>\n",
       "      <td>28.25</td>\n",
       "      <td>28.71</td>\n",
       "      <td>11.26</td>\n",
       "      <td>9.96</td>\n",
       "      <td>5.76</td>\n",
       "      <td>South</td>\n",
       "      <td>4</td>\n",
       "    </tr>\n",
       "    <tr>\n",
       "      <th>11</th>\n",
       "      <td>Capela do Socorro</td>\n",
       "      <td>Cidade Dutra</td>\n",
       "      <td>-23.713964</td>\n",
       "      <td>-46.699088</td>\n",
       "      <td>15.30</td>\n",
       "      <td>27.10</td>\n",
       "      <td>29.26</td>\n",
       "      <td>12.03</td>\n",
       "      <td>9.64</td>\n",
       "      <td>6.67</td>\n",
       "      <td>South</td>\n",
       "      <td>4</td>\n",
       "    </tr>\n",
       "    <tr>\n",
       "      <th>14</th>\n",
       "      <td>Casa Verde</td>\n",
       "      <td>Cachoeirinha</td>\n",
       "      <td>-23.449511</td>\n",
       "      <td>-46.663661</td>\n",
       "      <td>15.74</td>\n",
       "      <td>29.57</td>\n",
       "      <td>28.54</td>\n",
       "      <td>11.17</td>\n",
       "      <td>9.35</td>\n",
       "      <td>5.62</td>\n",
       "      <td>North</td>\n",
       "      <td>4</td>\n",
       "    </tr>\n",
       "  </tbody>\n",
       "</table>\n",
       "</div>"
      ],
      "text/plain": [
       "        Subprefecture    Neighborhood   Latitude  Longitude  \\\n",
       "0          Aricanduva      Aricanduva -23.578024 -46.511454   \n",
       "5             Butantã  Raposo Tavares -23.591610 -46.780359   \n",
       "8         Campo Limpo     Campo Limpo -23.632558 -46.759666   \n",
       "11  Capela do Socorro    Cidade Dutra -23.713964 -46.699088   \n",
       "14         Casa Verde    Cachoeirinha -23.449511 -46.663661   \n",
       "\n",
       "    Less than 2 Minimum Wage  From 2 to Less than 5 Minimum Wage  \\\n",
       "0                      11.64                               24.95   \n",
       "5                      12.73                               27.95   \n",
       "8                      16.07                               28.25   \n",
       "11                     15.30                               27.10   \n",
       "14                     15.74                               29.57   \n",
       "\n",
       "    From 5 to Less than 10 Minimum Wage  From 10 to Less than 15 Minimum Wage  \\\n",
       "0                                 28.47                                 13.72   \n",
       "5                                 29.05                                 12.50   \n",
       "8                                 28.71                                 11.26   \n",
       "11                                29.26                                 12.03   \n",
       "14                                28.54                                 11.17   \n",
       "\n",
       "    From 15 to Less than 25 Minimum Wage  From 25 Minimum Wage and more  \\\n",
       "0                                  13.33                           7.88   \n",
       "5                                  10.54                           7.24   \n",
       "8                                   9.96                           5.76   \n",
       "11                                  9.64                           6.67   \n",
       "14                                  9.35                           5.62   \n",
       "\n",
       "     Zone  Cluster Labels  \n",
       "0    East               4  \n",
       "5    West               4  \n",
       "8   South               4  \n",
       "11  South               4  \n",
       "14  North               4  "
      ]
     },
     "execution_count": 63,
     "metadata": {},
     "output_type": "execute_result"
    }
   ],
   "source": [
    "# cluster 4 data frame\n",
    "df_cluster4 = df_sp_geocoded[df_sp_geocoded['Cluster Labels'] == 4]\n",
    "df_cluster4.head()"
   ]
  },
  {
   "cell_type": "code",
   "execution_count": 64,
   "metadata": {
    "ExecuteTime": {
     "end_time": "2021-04-01T15:22:32.771064Z",
     "start_time": "2021-04-01T15:22:32.755071Z"
    }
   },
   "outputs": [
    {
     "name": "stdout",
     "output_type": "stream",
     "text": [
      "We have 24 neighborhoods in the cluster 4\n"
     ]
    }
   ],
   "source": [
    "print(f'We have {df_cluster4.shape[0]} neighborhoods in the cluster 4')"
   ]
  },
  {
   "cell_type": "code",
   "execution_count": 65,
   "metadata": {
    "ExecuteTime": {
     "end_time": "2021-04-01T15:22:36.062733Z",
     "start_time": "2021-04-01T15:22:36.038733Z"
    },
    "scrolled": true
   },
   "outputs": [
    {
     "name": "stdout",
     "output_type": "stream",
     "text": [
      "Less than 2 Minimum Wage: 14.37\n",
      "From 2 to Less than 5 Minimum Wage: 27.76\n",
      "From 5 to Less than 10 Minimum Wage: 29.85\n",
      "From 10 to Less than 15 Minimum Wage: 12.36\n",
      "From 15 to Less than 25 Minimum Wage: 9.97\n",
      "From 25 Minimum Wage and more: 5.69\n"
     ]
    }
   ],
   "source": [
    "numeric_columns = [col for col in df_cluster4.columns[4:-2] if df_cluster4[col].dtype == 'float']\n",
    "for col in numeric_columns:\n",
    "    print(f'{col}: {df_cluster4[col].mean():.2f}')"
   ]
  },
  {
   "cell_type": "markdown",
   "metadata": {},
   "source": [
    "In cluster 4 we have the neighborhoods with the highest concentration of families earning between 2 and 10 minimum wages. Also in this cluster, we can see the second highest concentration of families earning up to 2 minimum wages."
   ]
  },
  {
   "cell_type": "code",
   "execution_count": 66,
   "metadata": {
    "ExecuteTime": {
     "end_time": "2021-04-01T15:22:38.774849Z",
     "start_time": "2021-04-01T15:22:38.734857Z"
    },
    "scrolled": true
   },
   "outputs": [
    {
     "data": {
      "text/html": [
       "<div>\n",
       "<style scoped>\n",
       "    .dataframe tbody tr th:only-of-type {\n",
       "        vertical-align: middle;\n",
       "    }\n",
       "\n",
       "    .dataframe tbody tr th {\n",
       "        vertical-align: top;\n",
       "    }\n",
       "\n",
       "    .dataframe thead th {\n",
       "        text-align: right;\n",
       "    }\n",
       "</style>\n",
       "<table border=\"1\" class=\"dataframe\">\n",
       "  <thead>\n",
       "    <tr style=\"text-align: right;\">\n",
       "      <th></th>\n",
       "      <th>Subprefecture</th>\n",
       "      <th>Neighborhood</th>\n",
       "      <th>Latitude</th>\n",
       "      <th>Longitude</th>\n",
       "      <th>Less than 2 Minimum Wage</th>\n",
       "      <th>From 2 to Less than 5 Minimum Wage</th>\n",
       "      <th>From 5 to Less than 10 Minimum Wage</th>\n",
       "      <th>From 10 to Less than 15 Minimum Wage</th>\n",
       "      <th>From 15 to Less than 25 Minimum Wage</th>\n",
       "      <th>From 25 Minimum Wage and more</th>\n",
       "      <th>Zone</th>\n",
       "      <th>Cluster Labels</th>\n",
       "    </tr>\n",
       "  </thead>\n",
       "  <tbody>\n",
       "    <tr>\n",
       "      <th>4</th>\n",
       "      <td>Butantã</td>\n",
       "      <td>Morumbi</td>\n",
       "      <td>-23.596499</td>\n",
       "      <td>-46.717845</td>\n",
       "      <td>4.00</td>\n",
       "      <td>9.05</td>\n",
       "      <td>10.76</td>\n",
       "      <td>5.67</td>\n",
       "      <td>9.95</td>\n",
       "      <td>60.58</td>\n",
       "      <td>West</td>\n",
       "      <td>3</td>\n",
       "    </tr>\n",
       "    <tr>\n",
       "      <th>42</th>\n",
       "      <td>Lapa</td>\n",
       "      <td>Perdizes</td>\n",
       "      <td>-23.537930</td>\n",
       "      <td>-46.680671</td>\n",
       "      <td>2.70</td>\n",
       "      <td>5.45</td>\n",
       "      <td>12.84</td>\n",
       "      <td>10.72</td>\n",
       "      <td>17.47</td>\n",
       "      <td>50.83</td>\n",
       "      <td>West</td>\n",
       "      <td>3</td>\n",
       "    </tr>\n",
       "    <tr>\n",
       "      <th>60</th>\n",
       "      <td>Pinheiros</td>\n",
       "      <td>Alto de Pinheiros</td>\n",
       "      <td>-23.549461</td>\n",
       "      <td>-46.712293</td>\n",
       "      <td>3.47</td>\n",
       "      <td>5.44</td>\n",
       "      <td>12.22</td>\n",
       "      <td>9.30</td>\n",
       "      <td>15.85</td>\n",
       "      <td>53.72</td>\n",
       "      <td>West</td>\n",
       "      <td>3</td>\n",
       "    </tr>\n",
       "    <tr>\n",
       "      <th>61</th>\n",
       "      <td>Pinheiros</td>\n",
       "      <td>Itaim Bibi</td>\n",
       "      <td>-23.584381</td>\n",
       "      <td>-46.678444</td>\n",
       "      <td>3.87</td>\n",
       "      <td>6.61</td>\n",
       "      <td>12.98</td>\n",
       "      <td>8.83</td>\n",
       "      <td>14.78</td>\n",
       "      <td>52.92</td>\n",
       "      <td>West</td>\n",
       "      <td>3</td>\n",
       "    </tr>\n",
       "    <tr>\n",
       "      <th>62</th>\n",
       "      <td>Pinheiros</td>\n",
       "      <td>Jardim Paulista</td>\n",
       "      <td>-23.567436</td>\n",
       "      <td>-46.663692</td>\n",
       "      <td>2.43</td>\n",
       "      <td>4.04</td>\n",
       "      <td>11.97</td>\n",
       "      <td>9.17</td>\n",
       "      <td>16.61</td>\n",
       "      <td>55.78</td>\n",
       "      <td>West</td>\n",
       "      <td>3</td>\n",
       "    </tr>\n",
       "    <tr>\n",
       "      <th>63</th>\n",
       "      <td>Pinheiros</td>\n",
       "      <td>Pinheiros</td>\n",
       "      <td>-23.566426</td>\n",
       "      <td>-46.703055</td>\n",
       "      <td>3.77</td>\n",
       "      <td>5.98</td>\n",
       "      <td>14.34</td>\n",
       "      <td>9.60</td>\n",
       "      <td>16.53</td>\n",
       "      <td>49.79</td>\n",
       "      <td>West</td>\n",
       "      <td>3</td>\n",
       "    </tr>\n",
       "    <tr>\n",
       "      <th>70</th>\n",
       "      <td>Santo Amaro</td>\n",
       "      <td>Campo Belo</td>\n",
       "      <td>-23.626731</td>\n",
       "      <td>-46.669429</td>\n",
       "      <td>4.92</td>\n",
       "      <td>9.48</td>\n",
       "      <td>13.81</td>\n",
       "      <td>9.90</td>\n",
       "      <td>13.45</td>\n",
       "      <td>48.44</td>\n",
       "      <td>South</td>\n",
       "      <td>3</td>\n",
       "    </tr>\n",
       "    <tr>\n",
       "      <th>72</th>\n",
       "      <td>Santo Amaro</td>\n",
       "      <td>Santo Amaro</td>\n",
       "      <td>-23.656230</td>\n",
       "      <td>-46.719116</td>\n",
       "      <td>4.17</td>\n",
       "      <td>6.84</td>\n",
       "      <td>16.87</td>\n",
       "      <td>10.41</td>\n",
       "      <td>18.59</td>\n",
       "      <td>43.13</td>\n",
       "      <td>South</td>\n",
       "      <td>3</td>\n",
       "    </tr>\n",
       "    <tr>\n",
       "      <th>83</th>\n",
       "      <td>Sé</td>\n",
       "      <td>Consolação</td>\n",
       "      <td>-23.557818</td>\n",
       "      <td>-46.660537</td>\n",
       "      <td>3.77</td>\n",
       "      <td>8.33</td>\n",
       "      <td>17.19</td>\n",
       "      <td>10.49</td>\n",
       "      <td>15.74</td>\n",
       "      <td>44.47</td>\n",
       "      <td>Center</td>\n",
       "      <td>3</td>\n",
       "    </tr>\n",
       "    <tr>\n",
       "      <th>91</th>\n",
       "      <td>Vila Mariana</td>\n",
       "      <td>Moema</td>\n",
       "      <td>-23.597085</td>\n",
       "      <td>-46.662888</td>\n",
       "      <td>2.91</td>\n",
       "      <td>3.43</td>\n",
       "      <td>9.95</td>\n",
       "      <td>8.55</td>\n",
       "      <td>13.78</td>\n",
       "      <td>61.38</td>\n",
       "      <td>South</td>\n",
       "      <td>3</td>\n",
       "    </tr>\n",
       "    <tr>\n",
       "      <th>93</th>\n",
       "      <td>Vila Mariana</td>\n",
       "      <td>Vila Mariana</td>\n",
       "      <td>-23.583700</td>\n",
       "      <td>-46.632741</td>\n",
       "      <td>2.87</td>\n",
       "      <td>7.03</td>\n",
       "      <td>13.69</td>\n",
       "      <td>9.90</td>\n",
       "      <td>17.47</td>\n",
       "      <td>49.05</td>\n",
       "      <td>South</td>\n",
       "      <td>3</td>\n",
       "    </tr>\n",
       "  </tbody>\n",
       "</table>\n",
       "</div>"
      ],
      "text/plain": [
       "   Subprefecture       Neighborhood   Latitude  Longitude  \\\n",
       "4        Butantã            Morumbi -23.596499 -46.717845   \n",
       "42          Lapa           Perdizes -23.537930 -46.680671   \n",
       "60     Pinheiros  Alto de Pinheiros -23.549461 -46.712293   \n",
       "61     Pinheiros         Itaim Bibi -23.584381 -46.678444   \n",
       "62     Pinheiros    Jardim Paulista -23.567436 -46.663692   \n",
       "63     Pinheiros          Pinheiros -23.566426 -46.703055   \n",
       "70   Santo Amaro         Campo Belo -23.626731 -46.669429   \n",
       "72   Santo Amaro        Santo Amaro -23.656230 -46.719116   \n",
       "83            Sé         Consolação -23.557818 -46.660537   \n",
       "91  Vila Mariana              Moema -23.597085 -46.662888   \n",
       "93  Vila Mariana       Vila Mariana -23.583700 -46.632741   \n",
       "\n",
       "    Less than 2 Minimum Wage  From 2 to Less than 5 Minimum Wage  \\\n",
       "4                       4.00                                9.05   \n",
       "42                      2.70                                5.45   \n",
       "60                      3.47                                5.44   \n",
       "61                      3.87                                6.61   \n",
       "62                      2.43                                4.04   \n",
       "63                      3.77                                5.98   \n",
       "70                      4.92                                9.48   \n",
       "72                      4.17                                6.84   \n",
       "83                      3.77                                8.33   \n",
       "91                      2.91                                3.43   \n",
       "93                      2.87                                7.03   \n",
       "\n",
       "    From 5 to Less than 10 Minimum Wage  From 10 to Less than 15 Minimum Wage  \\\n",
       "4                                 10.76                                  5.67   \n",
       "42                                12.84                                 10.72   \n",
       "60                                12.22                                  9.30   \n",
       "61                                12.98                                  8.83   \n",
       "62                                11.97                                  9.17   \n",
       "63                                14.34                                  9.60   \n",
       "70                                13.81                                  9.90   \n",
       "72                                16.87                                 10.41   \n",
       "83                                17.19                                 10.49   \n",
       "91                                 9.95                                  8.55   \n",
       "93                                13.69                                  9.90   \n",
       "\n",
       "    From 15 to Less than 25 Minimum Wage  From 25 Minimum Wage and more  \\\n",
       "4                                   9.95                          60.58   \n",
       "42                                 17.47                          50.83   \n",
       "60                                 15.85                          53.72   \n",
       "61                                 14.78                          52.92   \n",
       "62                                 16.61                          55.78   \n",
       "63                                 16.53                          49.79   \n",
       "70                                 13.45                          48.44   \n",
       "72                                 18.59                          43.13   \n",
       "83                                 15.74                          44.47   \n",
       "91                                 13.78                          61.38   \n",
       "93                                 17.47                          49.05   \n",
       "\n",
       "      Zone  Cluster Labels  \n",
       "4     West               3  \n",
       "42    West               3  \n",
       "60    West               3  \n",
       "61    West               3  \n",
       "62    West               3  \n",
       "63    West               3  \n",
       "70   South               3  \n",
       "72   South               3  \n",
       "83  Center               3  \n",
       "91   South               3  \n",
       "93   South               3  "
      ]
     },
     "execution_count": 66,
     "metadata": {},
     "output_type": "execute_result"
    }
   ],
   "source": [
    "df_cluster3"
   ]
  },
  {
   "cell_type": "markdown",
   "metadata": {},
   "source": [
    "**Discussion:** After analyzing the clusters, we can consider cluster 3 as the installation of the pet service, as it concentrates the wealthiest neighborhoods in the city (highest percentage of families earning above 25 minimum wages). In this cluster we have neighborhoods like _Morumbi_, _Perdizes_ and _Alto de Pinheiros_, which are known to be great neighborhoods to live in, with excellent infrastructure, and low violence."
   ]
  },
  {
   "cell_type": "markdown",
   "metadata": {},
   "source": [
    "**Save the clusters data frames**"
   ]
  },
  {
   "cell_type": "code",
   "execution_count": 67,
   "metadata": {
    "ExecuteTime": {
     "end_time": "2021-04-01T15:22:44.107212Z",
     "start_time": "2021-04-01T15:22:44.051228Z"
    }
   },
   "outputs": [],
   "source": [
    "df_cluster0.to_csv('data/cluster0.csv', index=False)\n",
    "df_cluster1.to_csv('data/cluster1.csv', index=False)\n",
    "df_cluster2.to_csv('data/cluster2.csv', index=False)\n",
    "df_cluster3.to_csv('data/cluster3.csv', index=False)\n",
    "df_cluster4.to_csv('data/cluster4.csv', index=False)"
   ]
  },
  {
   "cell_type": "markdown",
   "metadata": {},
   "source": [
    "## Session 5 - Exploring the Neighborhoods of São Paulo\n",
    "\n",
    "In this session, we will use the Foursquare API to further explore the neighborhoods in cluster 3 and analyze which types of venues predominate in these neighborhoods."
   ]
  },
  {
   "cell_type": "code",
   "execution_count": 68,
   "metadata": {
    "ExecuteTime": {
     "end_time": "2021-04-01T15:22:46.270656Z",
     "start_time": "2021-04-01T15:22:46.230658Z"
    }
   },
   "outputs": [
    {
     "data": {
      "text/html": [
       "<div>\n",
       "<style scoped>\n",
       "    .dataframe tbody tr th:only-of-type {\n",
       "        vertical-align: middle;\n",
       "    }\n",
       "\n",
       "    .dataframe tbody tr th {\n",
       "        vertical-align: top;\n",
       "    }\n",
       "\n",
       "    .dataframe thead th {\n",
       "        text-align: right;\n",
       "    }\n",
       "</style>\n",
       "<table border=\"1\" class=\"dataframe\">\n",
       "  <thead>\n",
       "    <tr style=\"text-align: right;\">\n",
       "      <th></th>\n",
       "      <th>Subprefecture</th>\n",
       "      <th>Neighborhood</th>\n",
       "      <th>Latitude</th>\n",
       "      <th>Longitude</th>\n",
       "      <th>Less than 2 Minimum Wage</th>\n",
       "      <th>From 2 to Less than 5 Minimum Wage</th>\n",
       "      <th>From 5 to Less than 10 Minimum Wage</th>\n",
       "      <th>From 10 to Less than 15 Minimum Wage</th>\n",
       "      <th>From 15 to Less than 25 Minimum Wage</th>\n",
       "      <th>From 25 Minimum Wage and more</th>\n",
       "      <th>Zone</th>\n",
       "      <th>Cluster Labels</th>\n",
       "    </tr>\n",
       "  </thead>\n",
       "  <tbody>\n",
       "    <tr>\n",
       "      <th>0</th>\n",
       "      <td>Butantã</td>\n",
       "      <td>Morumbi</td>\n",
       "      <td>-23.596499</td>\n",
       "      <td>-46.717845</td>\n",
       "      <td>4.00</td>\n",
       "      <td>9.05</td>\n",
       "      <td>10.76</td>\n",
       "      <td>5.67</td>\n",
       "      <td>9.95</td>\n",
       "      <td>60.58</td>\n",
       "      <td>West</td>\n",
       "      <td>3</td>\n",
       "    </tr>\n",
       "    <tr>\n",
       "      <th>1</th>\n",
       "      <td>Lapa</td>\n",
       "      <td>Perdizes</td>\n",
       "      <td>-23.537930</td>\n",
       "      <td>-46.680671</td>\n",
       "      <td>2.70</td>\n",
       "      <td>5.45</td>\n",
       "      <td>12.84</td>\n",
       "      <td>10.72</td>\n",
       "      <td>17.47</td>\n",
       "      <td>50.83</td>\n",
       "      <td>West</td>\n",
       "      <td>3</td>\n",
       "    </tr>\n",
       "    <tr>\n",
       "      <th>2</th>\n",
       "      <td>Pinheiros</td>\n",
       "      <td>Alto de Pinheiros</td>\n",
       "      <td>-23.549461</td>\n",
       "      <td>-46.712293</td>\n",
       "      <td>3.47</td>\n",
       "      <td>5.44</td>\n",
       "      <td>12.22</td>\n",
       "      <td>9.30</td>\n",
       "      <td>15.85</td>\n",
       "      <td>53.72</td>\n",
       "      <td>West</td>\n",
       "      <td>3</td>\n",
       "    </tr>\n",
       "    <tr>\n",
       "      <th>3</th>\n",
       "      <td>Pinheiros</td>\n",
       "      <td>Itaim Bibi</td>\n",
       "      <td>-23.584381</td>\n",
       "      <td>-46.678444</td>\n",
       "      <td>3.87</td>\n",
       "      <td>6.61</td>\n",
       "      <td>12.98</td>\n",
       "      <td>8.83</td>\n",
       "      <td>14.78</td>\n",
       "      <td>52.92</td>\n",
       "      <td>West</td>\n",
       "      <td>3</td>\n",
       "    </tr>\n",
       "    <tr>\n",
       "      <th>4</th>\n",
       "      <td>Pinheiros</td>\n",
       "      <td>Jardim Paulista</td>\n",
       "      <td>-23.567435</td>\n",
       "      <td>-46.663692</td>\n",
       "      <td>2.43</td>\n",
       "      <td>4.04</td>\n",
       "      <td>11.97</td>\n",
       "      <td>9.17</td>\n",
       "      <td>16.61</td>\n",
       "      <td>55.78</td>\n",
       "      <td>West</td>\n",
       "      <td>3</td>\n",
       "    </tr>\n",
       "  </tbody>\n",
       "</table>\n",
       "</div>"
      ],
      "text/plain": [
       "  Subprefecture       Neighborhood   Latitude  Longitude  \\\n",
       "0       Butantã            Morumbi -23.596499 -46.717845   \n",
       "1          Lapa           Perdizes -23.537930 -46.680671   \n",
       "2     Pinheiros  Alto de Pinheiros -23.549461 -46.712293   \n",
       "3     Pinheiros         Itaim Bibi -23.584381 -46.678444   \n",
       "4     Pinheiros    Jardim Paulista -23.567435 -46.663692   \n",
       "\n",
       "   Less than 2 Minimum Wage  From 2 to Less than 5 Minimum Wage  \\\n",
       "0                      4.00                                9.05   \n",
       "1                      2.70                                5.45   \n",
       "2                      3.47                                5.44   \n",
       "3                      3.87                                6.61   \n",
       "4                      2.43                                4.04   \n",
       "\n",
       "   From 5 to Less than 10 Minimum Wage  From 10 to Less than 15 Minimum Wage  \\\n",
       "0                                10.76                                  5.67   \n",
       "1                                12.84                                 10.72   \n",
       "2                                12.22                                  9.30   \n",
       "3                                12.98                                  8.83   \n",
       "4                                11.97                                  9.17   \n",
       "\n",
       "   From 15 to Less than 25 Minimum Wage  From 25 Minimum Wage and more  Zone  \\\n",
       "0                                  9.95                          60.58  West   \n",
       "1                                 17.47                          50.83  West   \n",
       "2                                 15.85                          53.72  West   \n",
       "3                                 14.78                          52.92  West   \n",
       "4                                 16.61                          55.78  West   \n",
       "\n",
       "   Cluster Labels  \n",
       "0               3  \n",
       "1               3  \n",
       "2               3  \n",
       "3               3  \n",
       "4               3  "
      ]
     },
     "execution_count": 68,
     "metadata": {},
     "output_type": "execute_result"
    }
   ],
   "source": [
    "df_cluster3 = pd.read_csv('data/cluster3.csv')\n",
    "df_cluster3.head()"
   ]
  },
  {
   "cell_type": "markdown",
   "metadata": {},
   "source": [
    "**Defining Foursquare Credentials and Version**"
   ]
  },
  {
   "cell_type": "code",
   "execution_count": 69,
   "metadata": {
    "ExecuteTime": {
     "end_time": "2021-04-01T15:23:05.591495Z",
     "start_time": "2021-04-01T15:23:05.575498Z"
    }
   },
   "outputs": [],
   "source": [
    "CLIENT_ID = 'XXX' # your Foursquare ID\n",
    "CLIENT_SECRET = 'XXX' # your Foursquare Secret\n",
    "VERSION = '20180605' # Foursquare API version\n",
    "LIMIT = 100 # A default Foursquare API limit value"
   ]
  },
  {
   "cell_type": "markdown",
   "metadata": {},
   "source": [
    "**Let's explore the neighborhoods in the cluster 3**"
   ]
  },
  {
   "cell_type": "code",
   "execution_count": 70,
   "metadata": {
    "ExecuteTime": {
     "end_time": "2021-04-01T15:23:08.485999Z",
     "start_time": "2021-04-01T15:23:08.462004Z"
    }
   },
   "outputs": [],
   "source": [
    "def get_nearby_venues(names, latitudes, longitudes, radius=5000):\n",
    "    venues_list = []\n",
    "    \n",
    "    for name, lat, lng, in zip(names, latitudes, longitudes):\n",
    "        print(name)\n",
    "        \n",
    "        # create the API request URL\n",
    "        url = 'https://api.foursquare.com/v2/venues/explore?&client_id={}&client_secret={}&v={}&ll={},{}&radius={}&limit={}'.format(\n",
    "            CLIENT_ID,\n",
    "            CLIENT_SECRET,\n",
    "            VERSION,\n",
    "            lat,\n",
    "            lng,\n",
    "            radius,\n",
    "            LIMIT)\n",
    "        \n",
    "        # make the GET request\n",
    "        results = requests.get(url).json()['response']['groups'][0]['items']\n",
    "        \n",
    "        # return only relevant information for each nearby venue\n",
    "        venues_list.append([(\n",
    "        name,\n",
    "        lat,\n",
    "        lng,\n",
    "        v['venue']['name'],\n",
    "        v['venue']['location']['lat'],\n",
    "        v['venue']['location']['lng'],\n",
    "        v['venue']['categories'][0]['name']) for v in results])\n",
    "        \n",
    "    nearby_venues = pd.DataFrame([item for venue_list in venues_list for item in venue_list])\n",
    "    nearby_venues.columns = ['Neighborhood',\n",
    "                            'Neighborhood Latitude',\n",
    "                            'Neighborhood Longitude',\n",
    "                            'Venue',\n",
    "                            'Venue Latitude',\n",
    "                            'Venue Longitude',\n",
    "                            'Venue Category']\n",
    "    return(nearby_venues)"
   ]
  },
  {
   "cell_type": "code",
   "execution_count": 71,
   "metadata": {
    "ExecuteTime": {
     "end_time": "2021-04-01T15:23:22.051410Z",
     "start_time": "2021-04-01T15:23:10.640902Z"
    },
    "scrolled": true
   },
   "outputs": [
    {
     "name": "stdout",
     "output_type": "stream",
     "text": [
      "Morumbi\n",
      "Perdizes\n",
      "Alto de Pinheiros\n",
      "Itaim Bibi\n",
      "Jardim Paulista\n",
      "Pinheiros\n",
      "Campo Belo\n",
      "Santo Amaro\n",
      "Consolação\n",
      "Moema\n",
      "Vila Mariana\n"
     ]
    }
   ],
   "source": [
    "sp_venues = get_nearby_venues(names=df_cluster3['Neighborhood'],\n",
    "                             latitudes=df_cluster3['Latitude'],\n",
    "                             longitudes=df_cluster3['Longitude'])"
   ]
  },
  {
   "cell_type": "markdown",
   "metadata": {},
   "source": [
    "**Let's check the size of the new data frame**"
   ]
  },
  {
   "cell_type": "code",
   "execution_count": 72,
   "metadata": {
    "ExecuteTime": {
     "end_time": "2021-04-01T15:23:24.167886Z",
     "start_time": "2021-04-01T15:23:24.143871Z"
    }
   },
   "outputs": [
    {
     "data": {
      "text/plain": [
       "(1100, 7)"
      ]
     },
     "execution_count": 72,
     "metadata": {},
     "output_type": "execute_result"
    }
   ],
   "source": [
    "sp_venues.shape"
   ]
  },
  {
   "cell_type": "code",
   "execution_count": 73,
   "metadata": {
    "ExecuteTime": {
     "end_time": "2021-04-01T15:23:25.245427Z",
     "start_time": "2021-04-01T15:23:25.221423Z"
    }
   },
   "outputs": [
    {
     "data": {
      "text/html": [
       "<div>\n",
       "<style scoped>\n",
       "    .dataframe tbody tr th:only-of-type {\n",
       "        vertical-align: middle;\n",
       "    }\n",
       "\n",
       "    .dataframe tbody tr th {\n",
       "        vertical-align: top;\n",
       "    }\n",
       "\n",
       "    .dataframe thead th {\n",
       "        text-align: right;\n",
       "    }\n",
       "</style>\n",
       "<table border=\"1\" class=\"dataframe\">\n",
       "  <thead>\n",
       "    <tr style=\"text-align: right;\">\n",
       "      <th></th>\n",
       "      <th>Neighborhood</th>\n",
       "      <th>Neighborhood Latitude</th>\n",
       "      <th>Neighborhood Longitude</th>\n",
       "      <th>Venue</th>\n",
       "      <th>Venue Latitude</th>\n",
       "      <th>Venue Longitude</th>\n",
       "      <th>Venue Category</th>\n",
       "    </tr>\n",
       "  </thead>\n",
       "  <tbody>\n",
       "    <tr>\n",
       "      <th>0</th>\n",
       "      <td>Morumbi</td>\n",
       "      <td>-23.596499</td>\n",
       "      <td>-46.717845</td>\n",
       "      <td>Colégio Miguel de Cervantes</td>\n",
       "      <td>-23.593842</td>\n",
       "      <td>-46.719378</td>\n",
       "      <td>High School</td>\n",
       "    </tr>\n",
       "    <tr>\n",
       "      <th>1</th>\n",
       "      <td>Morumbi</td>\n",
       "      <td>-23.596499</td>\n",
       "      <td>-46.717845</td>\n",
       "      <td>Kopenhagen</td>\n",
       "      <td>-23.599882</td>\n",
       "      <td>-46.714562</td>\n",
       "      <td>Chocolate Shop</td>\n",
       "    </tr>\n",
       "    <tr>\n",
       "      <th>2</th>\n",
       "      <td>Morumbi</td>\n",
       "      <td>-23.596499</td>\n",
       "      <td>-46.717845</td>\n",
       "      <td>Praça Vinícius de Moraes</td>\n",
       "      <td>-23.597438</td>\n",
       "      <td>-46.711746</td>\n",
       "      <td>Plaza</td>\n",
       "    </tr>\n",
       "    <tr>\n",
       "      <th>3</th>\n",
       "      <td>Morumbi</td>\n",
       "      <td>-23.596499</td>\n",
       "      <td>-46.717845</td>\n",
       "      <td>Santa Bárbara Central de Carnes</td>\n",
       "      <td>-23.589059</td>\n",
       "      <td>-46.716031</td>\n",
       "      <td>BBQ Joint</td>\n",
       "    </tr>\n",
       "    <tr>\n",
       "      <th>4</th>\n",
       "      <td>Morumbi</td>\n",
       "      <td>-23.596499</td>\n",
       "      <td>-46.717845</td>\n",
       "      <td>São Paulo Futebol Clube (SPFC)</td>\n",
       "      <td>-23.602260</td>\n",
       "      <td>-46.720317</td>\n",
       "      <td>Social Club</td>\n",
       "    </tr>\n",
       "  </tbody>\n",
       "</table>\n",
       "</div>"
      ],
      "text/plain": [
       "  Neighborhood  Neighborhood Latitude  Neighborhood Longitude  \\\n",
       "0      Morumbi             -23.596499              -46.717845   \n",
       "1      Morumbi             -23.596499              -46.717845   \n",
       "2      Morumbi             -23.596499              -46.717845   \n",
       "3      Morumbi             -23.596499              -46.717845   \n",
       "4      Morumbi             -23.596499              -46.717845   \n",
       "\n",
       "                             Venue  Venue Latitude  Venue Longitude  \\\n",
       "0      Colégio Miguel de Cervantes      -23.593842       -46.719378   \n",
       "1                       Kopenhagen      -23.599882       -46.714562   \n",
       "2         Praça Vinícius de Moraes      -23.597438       -46.711746   \n",
       "3  Santa Bárbara Central de Carnes      -23.589059       -46.716031   \n",
       "4   São Paulo Futebol Clube (SPFC)      -23.602260       -46.720317   \n",
       "\n",
       "   Venue Category  \n",
       "0     High School  \n",
       "1  Chocolate Shop  \n",
       "2           Plaza  \n",
       "3       BBQ Joint  \n",
       "4     Social Club  "
      ]
     },
     "execution_count": 73,
     "metadata": {},
     "output_type": "execute_result"
    }
   ],
   "source": [
    "sp_venues.head()"
   ]
  },
  {
   "cell_type": "markdown",
   "metadata": {},
   "source": [
    "**Now let's check how many venues were returned for each neighborhood**"
   ]
  },
  {
   "cell_type": "code",
   "execution_count": 74,
   "metadata": {
    "ExecuteTime": {
     "end_time": "2021-04-01T15:23:29.822862Z",
     "start_time": "2021-04-01T15:23:29.790861Z"
    }
   },
   "outputs": [
    {
     "data": {
      "text/html": [
       "<div>\n",
       "<style scoped>\n",
       "    .dataframe tbody tr th:only-of-type {\n",
       "        vertical-align: middle;\n",
       "    }\n",
       "\n",
       "    .dataframe tbody tr th {\n",
       "        vertical-align: top;\n",
       "    }\n",
       "\n",
       "    .dataframe thead th {\n",
       "        text-align: right;\n",
       "    }\n",
       "</style>\n",
       "<table border=\"1\" class=\"dataframe\">\n",
       "  <thead>\n",
       "    <tr style=\"text-align: right;\">\n",
       "      <th></th>\n",
       "      <th>Neighborhood Latitude</th>\n",
       "      <th>Neighborhood Longitude</th>\n",
       "      <th>Venue</th>\n",
       "      <th>Venue Latitude</th>\n",
       "      <th>Venue Longitude</th>\n",
       "      <th>Venue Category</th>\n",
       "    </tr>\n",
       "    <tr>\n",
       "      <th>Neighborhood</th>\n",
       "      <th></th>\n",
       "      <th></th>\n",
       "      <th></th>\n",
       "      <th></th>\n",
       "      <th></th>\n",
       "      <th></th>\n",
       "    </tr>\n",
       "  </thead>\n",
       "  <tbody>\n",
       "    <tr>\n",
       "      <th>Alto de Pinheiros</th>\n",
       "      <td>100</td>\n",
       "      <td>100</td>\n",
       "      <td>100</td>\n",
       "      <td>100</td>\n",
       "      <td>100</td>\n",
       "      <td>100</td>\n",
       "    </tr>\n",
       "    <tr>\n",
       "      <th>Campo Belo</th>\n",
       "      <td>100</td>\n",
       "      <td>100</td>\n",
       "      <td>100</td>\n",
       "      <td>100</td>\n",
       "      <td>100</td>\n",
       "      <td>100</td>\n",
       "    </tr>\n",
       "    <tr>\n",
       "      <th>Consolação</th>\n",
       "      <td>100</td>\n",
       "      <td>100</td>\n",
       "      <td>100</td>\n",
       "      <td>100</td>\n",
       "      <td>100</td>\n",
       "      <td>100</td>\n",
       "    </tr>\n",
       "    <tr>\n",
       "      <th>Itaim Bibi</th>\n",
       "      <td>100</td>\n",
       "      <td>100</td>\n",
       "      <td>100</td>\n",
       "      <td>100</td>\n",
       "      <td>100</td>\n",
       "      <td>100</td>\n",
       "    </tr>\n",
       "    <tr>\n",
       "      <th>Jardim Paulista</th>\n",
       "      <td>100</td>\n",
       "      <td>100</td>\n",
       "      <td>100</td>\n",
       "      <td>100</td>\n",
       "      <td>100</td>\n",
       "      <td>100</td>\n",
       "    </tr>\n",
       "    <tr>\n",
       "      <th>Moema</th>\n",
       "      <td>100</td>\n",
       "      <td>100</td>\n",
       "      <td>100</td>\n",
       "      <td>100</td>\n",
       "      <td>100</td>\n",
       "      <td>100</td>\n",
       "    </tr>\n",
       "    <tr>\n",
       "      <th>Morumbi</th>\n",
       "      <td>100</td>\n",
       "      <td>100</td>\n",
       "      <td>100</td>\n",
       "      <td>100</td>\n",
       "      <td>100</td>\n",
       "      <td>100</td>\n",
       "    </tr>\n",
       "    <tr>\n",
       "      <th>Perdizes</th>\n",
       "      <td>100</td>\n",
       "      <td>100</td>\n",
       "      <td>100</td>\n",
       "      <td>100</td>\n",
       "      <td>100</td>\n",
       "      <td>100</td>\n",
       "    </tr>\n",
       "    <tr>\n",
       "      <th>Pinheiros</th>\n",
       "      <td>100</td>\n",
       "      <td>100</td>\n",
       "      <td>100</td>\n",
       "      <td>100</td>\n",
       "      <td>100</td>\n",
       "      <td>100</td>\n",
       "    </tr>\n",
       "    <tr>\n",
       "      <th>Santo Amaro</th>\n",
       "      <td>100</td>\n",
       "      <td>100</td>\n",
       "      <td>100</td>\n",
       "      <td>100</td>\n",
       "      <td>100</td>\n",
       "      <td>100</td>\n",
       "    </tr>\n",
       "    <tr>\n",
       "      <th>Vila Mariana</th>\n",
       "      <td>100</td>\n",
       "      <td>100</td>\n",
       "      <td>100</td>\n",
       "      <td>100</td>\n",
       "      <td>100</td>\n",
       "      <td>100</td>\n",
       "    </tr>\n",
       "  </tbody>\n",
       "</table>\n",
       "</div>"
      ],
      "text/plain": [
       "                   Neighborhood Latitude  Neighborhood Longitude  Venue  \\\n",
       "Neighborhood                                                              \n",
       "Alto de Pinheiros                    100                     100    100   \n",
       "Campo Belo                           100                     100    100   \n",
       "Consolação                           100                     100    100   \n",
       "Itaim Bibi                           100                     100    100   \n",
       "Jardim Paulista                      100                     100    100   \n",
       "Moema                                100                     100    100   \n",
       "Morumbi                              100                     100    100   \n",
       "Perdizes                             100                     100    100   \n",
       "Pinheiros                            100                     100    100   \n",
       "Santo Amaro                          100                     100    100   \n",
       "Vila Mariana                         100                     100    100   \n",
       "\n",
       "                   Venue Latitude  Venue Longitude  Venue Category  \n",
       "Neighborhood                                                        \n",
       "Alto de Pinheiros             100              100             100  \n",
       "Campo Belo                    100              100             100  \n",
       "Consolação                    100              100             100  \n",
       "Itaim Bibi                    100              100             100  \n",
       "Jardim Paulista               100              100             100  \n",
       "Moema                         100              100             100  \n",
       "Morumbi                       100              100             100  \n",
       "Perdizes                      100              100             100  \n",
       "Pinheiros                     100              100             100  \n",
       "Santo Amaro                   100              100             100  \n",
       "Vila Mariana                  100              100             100  "
      ]
     },
     "execution_count": 74,
     "metadata": {},
     "output_type": "execute_result"
    }
   ],
   "source": [
    "sp_venues.groupby('Neighborhood').count()"
   ]
  },
  {
   "cell_type": "markdown",
   "metadata": {},
   "source": [
    "**Let's check how many unique categories can be curated from all returned venues**"
   ]
  },
  {
   "cell_type": "code",
   "execution_count": 75,
   "metadata": {
    "ExecuteTime": {
     "end_time": "2021-04-01T15:23:34.335752Z",
     "start_time": "2021-04-01T15:23:34.311750Z"
    }
   },
   "outputs": [
    {
     "name": "stdout",
     "output_type": "stream",
     "text": [
      "There are 156 uniques categories\n"
     ]
    }
   ],
   "source": [
    "print(f\"There are {len(sp_venues['Venue Category'].unique())} uniques categories\")"
   ]
  },
  {
   "cell_type": "markdown",
   "metadata": {},
   "source": [
    "### Analizing each neighborhood"
   ]
  },
  {
   "cell_type": "code",
   "execution_count": 76,
   "metadata": {
    "ExecuteTime": {
     "end_time": "2021-04-01T15:23:36.917937Z",
     "start_time": "2021-04-01T15:23:36.853930Z"
    }
   },
   "outputs": [
    {
     "data": {
      "text/html": [
       "<div>\n",
       "<style scoped>\n",
       "    .dataframe tbody tr th:only-of-type {\n",
       "        vertical-align: middle;\n",
       "    }\n",
       "\n",
       "    .dataframe tbody tr th {\n",
       "        vertical-align: top;\n",
       "    }\n",
       "\n",
       "    .dataframe thead th {\n",
       "        text-align: right;\n",
       "    }\n",
       "</style>\n",
       "<table border=\"1\" class=\"dataframe\">\n",
       "  <thead>\n",
       "    <tr style=\"text-align: right;\">\n",
       "      <th></th>\n",
       "      <th>Neighborhood</th>\n",
       "      <th>Accessories Store</th>\n",
       "      <th>Art Gallery</th>\n",
       "      <th>Art Museum</th>\n",
       "      <th>Arts &amp; Crafts Store</th>\n",
       "      <th>Asian Restaurant</th>\n",
       "      <th>Athletics &amp; Sports</th>\n",
       "      <th>BBQ Joint</th>\n",
       "      <th>Bakery</th>\n",
       "      <th>Bar</th>\n",
       "      <th>...</th>\n",
       "      <th>Tea Room</th>\n",
       "      <th>Tennis Court</th>\n",
       "      <th>Theater</th>\n",
       "      <th>Trail</th>\n",
       "      <th>Turkish Restaurant</th>\n",
       "      <th>Vegetarian / Vegan Restaurant</th>\n",
       "      <th>Wine Bar</th>\n",
       "      <th>Wings Joint</th>\n",
       "      <th>Women's Store</th>\n",
       "      <th>Yoga Studio</th>\n",
       "    </tr>\n",
       "  </thead>\n",
       "  <tbody>\n",
       "    <tr>\n",
       "      <th>0</th>\n",
       "      <td>Morumbi</td>\n",
       "      <td>0</td>\n",
       "      <td>0</td>\n",
       "      <td>0</td>\n",
       "      <td>0</td>\n",
       "      <td>0</td>\n",
       "      <td>0</td>\n",
       "      <td>0</td>\n",
       "      <td>0</td>\n",
       "      <td>0</td>\n",
       "      <td>...</td>\n",
       "      <td>0</td>\n",
       "      <td>0</td>\n",
       "      <td>0</td>\n",
       "      <td>0</td>\n",
       "      <td>0</td>\n",
       "      <td>0</td>\n",
       "      <td>0</td>\n",
       "      <td>0</td>\n",
       "      <td>0</td>\n",
       "      <td>0</td>\n",
       "    </tr>\n",
       "    <tr>\n",
       "      <th>1</th>\n",
       "      <td>Morumbi</td>\n",
       "      <td>0</td>\n",
       "      <td>0</td>\n",
       "      <td>0</td>\n",
       "      <td>0</td>\n",
       "      <td>0</td>\n",
       "      <td>0</td>\n",
       "      <td>0</td>\n",
       "      <td>0</td>\n",
       "      <td>0</td>\n",
       "      <td>...</td>\n",
       "      <td>0</td>\n",
       "      <td>0</td>\n",
       "      <td>0</td>\n",
       "      <td>0</td>\n",
       "      <td>0</td>\n",
       "      <td>0</td>\n",
       "      <td>0</td>\n",
       "      <td>0</td>\n",
       "      <td>0</td>\n",
       "      <td>0</td>\n",
       "    </tr>\n",
       "    <tr>\n",
       "      <th>2</th>\n",
       "      <td>Morumbi</td>\n",
       "      <td>0</td>\n",
       "      <td>0</td>\n",
       "      <td>0</td>\n",
       "      <td>0</td>\n",
       "      <td>0</td>\n",
       "      <td>0</td>\n",
       "      <td>0</td>\n",
       "      <td>0</td>\n",
       "      <td>0</td>\n",
       "      <td>...</td>\n",
       "      <td>0</td>\n",
       "      <td>0</td>\n",
       "      <td>0</td>\n",
       "      <td>0</td>\n",
       "      <td>0</td>\n",
       "      <td>0</td>\n",
       "      <td>0</td>\n",
       "      <td>0</td>\n",
       "      <td>0</td>\n",
       "      <td>0</td>\n",
       "    </tr>\n",
       "    <tr>\n",
       "      <th>3</th>\n",
       "      <td>Morumbi</td>\n",
       "      <td>0</td>\n",
       "      <td>0</td>\n",
       "      <td>0</td>\n",
       "      <td>0</td>\n",
       "      <td>0</td>\n",
       "      <td>0</td>\n",
       "      <td>1</td>\n",
       "      <td>0</td>\n",
       "      <td>0</td>\n",
       "      <td>...</td>\n",
       "      <td>0</td>\n",
       "      <td>0</td>\n",
       "      <td>0</td>\n",
       "      <td>0</td>\n",
       "      <td>0</td>\n",
       "      <td>0</td>\n",
       "      <td>0</td>\n",
       "      <td>0</td>\n",
       "      <td>0</td>\n",
       "      <td>0</td>\n",
       "    </tr>\n",
       "    <tr>\n",
       "      <th>4</th>\n",
       "      <td>Morumbi</td>\n",
       "      <td>0</td>\n",
       "      <td>0</td>\n",
       "      <td>0</td>\n",
       "      <td>0</td>\n",
       "      <td>0</td>\n",
       "      <td>0</td>\n",
       "      <td>0</td>\n",
       "      <td>0</td>\n",
       "      <td>0</td>\n",
       "      <td>...</td>\n",
       "      <td>0</td>\n",
       "      <td>0</td>\n",
       "      <td>0</td>\n",
       "      <td>0</td>\n",
       "      <td>0</td>\n",
       "      <td>0</td>\n",
       "      <td>0</td>\n",
       "      <td>0</td>\n",
       "      <td>0</td>\n",
       "      <td>0</td>\n",
       "    </tr>\n",
       "  </tbody>\n",
       "</table>\n",
       "<p>5 rows × 157 columns</p>\n",
       "</div>"
      ],
      "text/plain": [
       "  Neighborhood  Accessories Store  Art Gallery  Art Museum  \\\n",
       "0      Morumbi                  0            0           0   \n",
       "1      Morumbi                  0            0           0   \n",
       "2      Morumbi                  0            0           0   \n",
       "3      Morumbi                  0            0           0   \n",
       "4      Morumbi                  0            0           0   \n",
       "\n",
       "   Arts & Crafts Store  Asian Restaurant  Athletics & Sports  BBQ Joint  \\\n",
       "0                    0                 0                   0          0   \n",
       "1                    0                 0                   0          0   \n",
       "2                    0                 0                   0          0   \n",
       "3                    0                 0                   0          1   \n",
       "4                    0                 0                   0          0   \n",
       "\n",
       "   Bakery  Bar  ...  Tea Room  Tennis Court  Theater  Trail  \\\n",
       "0       0    0  ...         0             0        0      0   \n",
       "1       0    0  ...         0             0        0      0   \n",
       "2       0    0  ...         0             0        0      0   \n",
       "3       0    0  ...         0             0        0      0   \n",
       "4       0    0  ...         0             0        0      0   \n",
       "\n",
       "   Turkish Restaurant  Vegetarian / Vegan Restaurant  Wine Bar  Wings Joint  \\\n",
       "0                   0                              0         0            0   \n",
       "1                   0                              0         0            0   \n",
       "2                   0                              0         0            0   \n",
       "3                   0                              0         0            0   \n",
       "4                   0                              0         0            0   \n",
       "\n",
       "   Women's Store  Yoga Studio  \n",
       "0              0            0  \n",
       "1              0            0  \n",
       "2              0            0  \n",
       "3              0            0  \n",
       "4              0            0  \n",
       "\n",
       "[5 rows x 157 columns]"
      ]
     },
     "execution_count": 76,
     "metadata": {},
     "output_type": "execute_result"
    }
   ],
   "source": [
    "# one hot encoding\n",
    "sp_onehot = pd.get_dummies(sp_venues[['Venue Category']], prefix=\"\", prefix_sep=\"\")\n",
    "\n",
    "# add neighborhood column back to data frame\n",
    "sp_onehot['Neighborhood'] = sp_venues['Neighborhood']\n",
    "\n",
    "# move neighborhood column to the first column\n",
    "fixed_columns = [sp_onehot.columns[-1]] + list(sp_onehot.columns[:-1])\n",
    "sp_onehot = sp_onehot[fixed_columns]\n",
    "\n",
    "sp_onehot.head()"
   ]
  },
  {
   "cell_type": "markdown",
   "metadata": {},
   "source": [
    "**Let's examine the new data frame size**"
   ]
  },
  {
   "cell_type": "code",
   "execution_count": 77,
   "metadata": {
    "ExecuteTime": {
     "end_time": "2021-04-01T15:23:40.158022Z",
     "start_time": "2021-04-01T15:23:40.134018Z"
    }
   },
   "outputs": [
    {
     "data": {
      "text/plain": [
       "(1100, 157)"
      ]
     },
     "execution_count": 77,
     "metadata": {},
     "output_type": "execute_result"
    }
   ],
   "source": [
    "sp_onehot.shape"
   ]
  },
  {
   "cell_type": "markdown",
   "metadata": {},
   "source": [
    "**Now, let's group rows by neighborhood and by taking the mean of the frequency of occurence of each category**"
   ]
  },
  {
   "cell_type": "code",
   "execution_count": 78,
   "metadata": {
    "ExecuteTime": {
     "end_time": "2021-04-01T15:23:43.242723Z",
     "start_time": "2021-04-01T15:23:43.170731Z"
    }
   },
   "outputs": [
    {
     "data": {
      "text/html": [
       "<div>\n",
       "<style scoped>\n",
       "    .dataframe tbody tr th:only-of-type {\n",
       "        vertical-align: middle;\n",
       "    }\n",
       "\n",
       "    .dataframe tbody tr th {\n",
       "        vertical-align: top;\n",
       "    }\n",
       "\n",
       "    .dataframe thead th {\n",
       "        text-align: right;\n",
       "    }\n",
       "</style>\n",
       "<table border=\"1\" class=\"dataframe\">\n",
       "  <thead>\n",
       "    <tr style=\"text-align: right;\">\n",
       "      <th></th>\n",
       "      <th>Neighborhood</th>\n",
       "      <th>Accessories Store</th>\n",
       "      <th>Art Gallery</th>\n",
       "      <th>Art Museum</th>\n",
       "      <th>Arts &amp; Crafts Store</th>\n",
       "      <th>Asian Restaurant</th>\n",
       "      <th>Athletics &amp; Sports</th>\n",
       "      <th>BBQ Joint</th>\n",
       "      <th>Bakery</th>\n",
       "      <th>Bar</th>\n",
       "      <th>...</th>\n",
       "      <th>Tea Room</th>\n",
       "      <th>Tennis Court</th>\n",
       "      <th>Theater</th>\n",
       "      <th>Trail</th>\n",
       "      <th>Turkish Restaurant</th>\n",
       "      <th>Vegetarian / Vegan Restaurant</th>\n",
       "      <th>Wine Bar</th>\n",
       "      <th>Wings Joint</th>\n",
       "      <th>Women's Store</th>\n",
       "      <th>Yoga Studio</th>\n",
       "    </tr>\n",
       "  </thead>\n",
       "  <tbody>\n",
       "    <tr>\n",
       "      <th>0</th>\n",
       "      <td>Alto de Pinheiros</td>\n",
       "      <td>0.00</td>\n",
       "      <td>0.01</td>\n",
       "      <td>0.00</td>\n",
       "      <td>0.00</td>\n",
       "      <td>0.00</td>\n",
       "      <td>0.00</td>\n",
       "      <td>0.00</td>\n",
       "      <td>0.01</td>\n",
       "      <td>0.03</td>\n",
       "      <td>...</td>\n",
       "      <td>0.01</td>\n",
       "      <td>0.00</td>\n",
       "      <td>0.02</td>\n",
       "      <td>0.01</td>\n",
       "      <td>0.00</td>\n",
       "      <td>0.01</td>\n",
       "      <td>0.01</td>\n",
       "      <td>0.00</td>\n",
       "      <td>0.00</td>\n",
       "      <td>0.01</td>\n",
       "    </tr>\n",
       "    <tr>\n",
       "      <th>1</th>\n",
       "      <td>Campo Belo</td>\n",
       "      <td>0.01</td>\n",
       "      <td>0.00</td>\n",
       "      <td>0.00</td>\n",
       "      <td>0.01</td>\n",
       "      <td>0.00</td>\n",
       "      <td>0.00</td>\n",
       "      <td>0.00</td>\n",
       "      <td>0.02</td>\n",
       "      <td>0.05</td>\n",
       "      <td>...</td>\n",
       "      <td>0.01</td>\n",
       "      <td>0.00</td>\n",
       "      <td>0.00</td>\n",
       "      <td>0.00</td>\n",
       "      <td>0.00</td>\n",
       "      <td>0.02</td>\n",
       "      <td>0.00</td>\n",
       "      <td>0.01</td>\n",
       "      <td>0.00</td>\n",
       "      <td>0.00</td>\n",
       "    </tr>\n",
       "    <tr>\n",
       "      <th>2</th>\n",
       "      <td>Consolação</td>\n",
       "      <td>0.00</td>\n",
       "      <td>0.01</td>\n",
       "      <td>0.03</td>\n",
       "      <td>0.00</td>\n",
       "      <td>0.00</td>\n",
       "      <td>0.01</td>\n",
       "      <td>0.00</td>\n",
       "      <td>0.01</td>\n",
       "      <td>0.00</td>\n",
       "      <td>...</td>\n",
       "      <td>0.00</td>\n",
       "      <td>0.00</td>\n",
       "      <td>0.03</td>\n",
       "      <td>0.00</td>\n",
       "      <td>0.00</td>\n",
       "      <td>0.00</td>\n",
       "      <td>0.00</td>\n",
       "      <td>0.00</td>\n",
       "      <td>0.00</td>\n",
       "      <td>0.01</td>\n",
       "    </tr>\n",
       "    <tr>\n",
       "      <th>3</th>\n",
       "      <td>Itaim Bibi</td>\n",
       "      <td>0.00</td>\n",
       "      <td>0.01</td>\n",
       "      <td>0.02</td>\n",
       "      <td>0.00</td>\n",
       "      <td>0.00</td>\n",
       "      <td>0.02</td>\n",
       "      <td>0.00</td>\n",
       "      <td>0.01</td>\n",
       "      <td>0.00</td>\n",
       "      <td>...</td>\n",
       "      <td>0.00</td>\n",
       "      <td>0.00</td>\n",
       "      <td>0.02</td>\n",
       "      <td>0.00</td>\n",
       "      <td>0.00</td>\n",
       "      <td>0.01</td>\n",
       "      <td>0.01</td>\n",
       "      <td>0.00</td>\n",
       "      <td>0.00</td>\n",
       "      <td>0.01</td>\n",
       "    </tr>\n",
       "    <tr>\n",
       "      <th>4</th>\n",
       "      <td>Jardim Paulista</td>\n",
       "      <td>0.00</td>\n",
       "      <td>0.01</td>\n",
       "      <td>0.03</td>\n",
       "      <td>0.00</td>\n",
       "      <td>0.00</td>\n",
       "      <td>0.01</td>\n",
       "      <td>0.00</td>\n",
       "      <td>0.02</td>\n",
       "      <td>0.00</td>\n",
       "      <td>...</td>\n",
       "      <td>0.00</td>\n",
       "      <td>0.00</td>\n",
       "      <td>0.01</td>\n",
       "      <td>0.00</td>\n",
       "      <td>0.00</td>\n",
       "      <td>0.01</td>\n",
       "      <td>0.01</td>\n",
       "      <td>0.00</td>\n",
       "      <td>0.00</td>\n",
       "      <td>0.02</td>\n",
       "    </tr>\n",
       "    <tr>\n",
       "      <th>5</th>\n",
       "      <td>Moema</td>\n",
       "      <td>0.01</td>\n",
       "      <td>0.00</td>\n",
       "      <td>0.03</td>\n",
       "      <td>0.00</td>\n",
       "      <td>0.00</td>\n",
       "      <td>0.02</td>\n",
       "      <td>0.00</td>\n",
       "      <td>0.01</td>\n",
       "      <td>0.05</td>\n",
       "      <td>...</td>\n",
       "      <td>0.00</td>\n",
       "      <td>0.00</td>\n",
       "      <td>0.01</td>\n",
       "      <td>0.00</td>\n",
       "      <td>0.00</td>\n",
       "      <td>0.02</td>\n",
       "      <td>0.00</td>\n",
       "      <td>0.00</td>\n",
       "      <td>0.00</td>\n",
       "      <td>0.01</td>\n",
       "    </tr>\n",
       "    <tr>\n",
       "      <th>6</th>\n",
       "      <td>Morumbi</td>\n",
       "      <td>0.00</td>\n",
       "      <td>0.00</td>\n",
       "      <td>0.00</td>\n",
       "      <td>0.00</td>\n",
       "      <td>0.01</td>\n",
       "      <td>0.02</td>\n",
       "      <td>0.02</td>\n",
       "      <td>0.00</td>\n",
       "      <td>0.02</td>\n",
       "      <td>...</td>\n",
       "      <td>0.00</td>\n",
       "      <td>0.00</td>\n",
       "      <td>0.02</td>\n",
       "      <td>0.00</td>\n",
       "      <td>0.00</td>\n",
       "      <td>0.01</td>\n",
       "      <td>0.00</td>\n",
       "      <td>0.00</td>\n",
       "      <td>0.00</td>\n",
       "      <td>0.00</td>\n",
       "    </tr>\n",
       "    <tr>\n",
       "      <th>7</th>\n",
       "      <td>Perdizes</td>\n",
       "      <td>0.00</td>\n",
       "      <td>0.02</td>\n",
       "      <td>0.00</td>\n",
       "      <td>0.00</td>\n",
       "      <td>0.00</td>\n",
       "      <td>0.01</td>\n",
       "      <td>0.00</td>\n",
       "      <td>0.00</td>\n",
       "      <td>0.01</td>\n",
       "      <td>...</td>\n",
       "      <td>0.01</td>\n",
       "      <td>0.00</td>\n",
       "      <td>0.01</td>\n",
       "      <td>0.00</td>\n",
       "      <td>0.00</td>\n",
       "      <td>0.01</td>\n",
       "      <td>0.00</td>\n",
       "      <td>0.00</td>\n",
       "      <td>0.01</td>\n",
       "      <td>0.00</td>\n",
       "    </tr>\n",
       "    <tr>\n",
       "      <th>8</th>\n",
       "      <td>Pinheiros</td>\n",
       "      <td>0.00</td>\n",
       "      <td>0.01</td>\n",
       "      <td>0.02</td>\n",
       "      <td>0.00</td>\n",
       "      <td>0.00</td>\n",
       "      <td>0.03</td>\n",
       "      <td>0.02</td>\n",
       "      <td>0.01</td>\n",
       "      <td>0.01</td>\n",
       "      <td>...</td>\n",
       "      <td>0.00</td>\n",
       "      <td>0.00</td>\n",
       "      <td>0.01</td>\n",
       "      <td>0.01</td>\n",
       "      <td>0.00</td>\n",
       "      <td>0.01</td>\n",
       "      <td>0.01</td>\n",
       "      <td>0.00</td>\n",
       "      <td>0.00</td>\n",
       "      <td>0.00</td>\n",
       "    </tr>\n",
       "    <tr>\n",
       "      <th>9</th>\n",
       "      <td>Santo Amaro</td>\n",
       "      <td>0.00</td>\n",
       "      <td>0.00</td>\n",
       "      <td>0.00</td>\n",
       "      <td>0.00</td>\n",
       "      <td>0.00</td>\n",
       "      <td>0.01</td>\n",
       "      <td>0.00</td>\n",
       "      <td>0.03</td>\n",
       "      <td>0.03</td>\n",
       "      <td>...</td>\n",
       "      <td>0.01</td>\n",
       "      <td>0.02</td>\n",
       "      <td>0.00</td>\n",
       "      <td>0.00</td>\n",
       "      <td>0.01</td>\n",
       "      <td>0.01</td>\n",
       "      <td>0.00</td>\n",
       "      <td>0.00</td>\n",
       "      <td>0.00</td>\n",
       "      <td>0.00</td>\n",
       "    </tr>\n",
       "    <tr>\n",
       "      <th>10</th>\n",
       "      <td>Vila Mariana</td>\n",
       "      <td>0.00</td>\n",
       "      <td>0.00</td>\n",
       "      <td>0.02</td>\n",
       "      <td>0.00</td>\n",
       "      <td>0.00</td>\n",
       "      <td>0.01</td>\n",
       "      <td>0.00</td>\n",
       "      <td>0.03</td>\n",
       "      <td>0.04</td>\n",
       "      <td>...</td>\n",
       "      <td>0.00</td>\n",
       "      <td>0.00</td>\n",
       "      <td>0.02</td>\n",
       "      <td>0.00</td>\n",
       "      <td>0.00</td>\n",
       "      <td>0.00</td>\n",
       "      <td>0.00</td>\n",
       "      <td>0.00</td>\n",
       "      <td>0.00</td>\n",
       "      <td>0.02</td>\n",
       "    </tr>\n",
       "  </tbody>\n",
       "</table>\n",
       "<p>11 rows × 157 columns</p>\n",
       "</div>"
      ],
      "text/plain": [
       "         Neighborhood  Accessories Store  Art Gallery  Art Museum  \\\n",
       "0   Alto de Pinheiros               0.00         0.01        0.00   \n",
       "1          Campo Belo               0.01         0.00        0.00   \n",
       "2          Consolação               0.00         0.01        0.03   \n",
       "3          Itaim Bibi               0.00         0.01        0.02   \n",
       "4     Jardim Paulista               0.00         0.01        0.03   \n",
       "5               Moema               0.01         0.00        0.03   \n",
       "6             Morumbi               0.00         0.00        0.00   \n",
       "7            Perdizes               0.00         0.02        0.00   \n",
       "8           Pinheiros               0.00         0.01        0.02   \n",
       "9         Santo Amaro               0.00         0.00        0.00   \n",
       "10       Vila Mariana               0.00         0.00        0.02   \n",
       "\n",
       "    Arts & Crafts Store  Asian Restaurant  Athletics & Sports  BBQ Joint  \\\n",
       "0                  0.00              0.00                0.00       0.00   \n",
       "1                  0.01              0.00                0.00       0.00   \n",
       "2                  0.00              0.00                0.01       0.00   \n",
       "3                  0.00              0.00                0.02       0.00   \n",
       "4                  0.00              0.00                0.01       0.00   \n",
       "5                  0.00              0.00                0.02       0.00   \n",
       "6                  0.00              0.01                0.02       0.02   \n",
       "7                  0.00              0.00                0.01       0.00   \n",
       "8                  0.00              0.00                0.03       0.02   \n",
       "9                  0.00              0.00                0.01       0.00   \n",
       "10                 0.00              0.00                0.01       0.00   \n",
       "\n",
       "    Bakery   Bar  ...  Tea Room  Tennis Court  Theater  Trail  \\\n",
       "0     0.01  0.03  ...      0.01          0.00     0.02   0.01   \n",
       "1     0.02  0.05  ...      0.01          0.00     0.00   0.00   \n",
       "2     0.01  0.00  ...      0.00          0.00     0.03   0.00   \n",
       "3     0.01  0.00  ...      0.00          0.00     0.02   0.00   \n",
       "4     0.02  0.00  ...      0.00          0.00     0.01   0.00   \n",
       "5     0.01  0.05  ...      0.00          0.00     0.01   0.00   \n",
       "6     0.00  0.02  ...      0.00          0.00     0.02   0.00   \n",
       "7     0.00  0.01  ...      0.01          0.00     0.01   0.00   \n",
       "8     0.01  0.01  ...      0.00          0.00     0.01   0.01   \n",
       "9     0.03  0.03  ...      0.01          0.02     0.00   0.00   \n",
       "10    0.03  0.04  ...      0.00          0.00     0.02   0.00   \n",
       "\n",
       "    Turkish Restaurant  Vegetarian / Vegan Restaurant  Wine Bar  Wings Joint  \\\n",
       "0                 0.00                           0.01      0.01         0.00   \n",
       "1                 0.00                           0.02      0.00         0.01   \n",
       "2                 0.00                           0.00      0.00         0.00   \n",
       "3                 0.00                           0.01      0.01         0.00   \n",
       "4                 0.00                           0.01      0.01         0.00   \n",
       "5                 0.00                           0.02      0.00         0.00   \n",
       "6                 0.00                           0.01      0.00         0.00   \n",
       "7                 0.00                           0.01      0.00         0.00   \n",
       "8                 0.00                           0.01      0.01         0.00   \n",
       "9                 0.01                           0.01      0.00         0.00   \n",
       "10                0.00                           0.00      0.00         0.00   \n",
       "\n",
       "    Women's Store  Yoga Studio  \n",
       "0            0.00         0.01  \n",
       "1            0.00         0.00  \n",
       "2            0.00         0.01  \n",
       "3            0.00         0.01  \n",
       "4            0.00         0.02  \n",
       "5            0.00         0.01  \n",
       "6            0.00         0.00  \n",
       "7            0.01         0.00  \n",
       "8            0.00         0.00  \n",
       "9            0.00         0.00  \n",
       "10           0.00         0.02  \n",
       "\n",
       "[11 rows x 157 columns]"
      ]
     },
     "execution_count": 78,
     "metadata": {},
     "output_type": "execute_result"
    }
   ],
   "source": [
    "sp_grouped = sp_onehot.groupby('Neighborhood').mean().reset_index()\n",
    "sp_grouped"
   ]
  },
  {
   "cell_type": "markdown",
   "metadata": {},
   "source": [
    "**Let's confirm the new size**"
   ]
  },
  {
   "cell_type": "code",
   "execution_count": 79,
   "metadata": {
    "ExecuteTime": {
     "end_time": "2021-04-01T15:23:51.385891Z",
     "start_time": "2021-04-01T15:23:51.369902Z"
    }
   },
   "outputs": [
    {
     "data": {
      "text/plain": [
       "(11, 157)"
      ]
     },
     "execution_count": 79,
     "metadata": {},
     "output_type": "execute_result"
    }
   ],
   "source": [
    "sp_grouped.shape"
   ]
  },
  {
   "cell_type": "markdown",
   "metadata": {},
   "source": [
    "**Let's print each neighborhood along with the top 10 most common venues**"
   ]
  },
  {
   "cell_type": "code",
   "execution_count": 80,
   "metadata": {
    "ExecuteTime": {
     "end_time": "2021-04-01T15:23:52.688808Z",
     "start_time": "2021-04-01T15:23:52.520819Z"
    }
   },
   "outputs": [
    {
     "name": "stdout",
     "output_type": "stream",
     "text": [
      "-----Alto de Pinheiros-----\n",
      "                  venue  freq\n",
      "0        Ice Cream Shop  0.05\n",
      "1  Brazilian Restaurant  0.04\n",
      "2             Pet Store  0.04\n",
      "3                 Plaza  0.04\n",
      "4           Flower Shop  0.04\n",
      "5           Pizza Place  0.03\n",
      "6                   Bar  0.03\n",
      "7          Dessert Shop  0.03\n",
      "8                Hostel  0.03\n",
      "9    Italian Restaurant  0.03\n",
      "\n",
      "\n",
      "-----Campo Belo-----\n",
      "                  venue  freq\n",
      "0        Ice Cream Shop  0.07\n",
      "1                   Bar  0.05\n",
      "2  Brazilian Restaurant  0.05\n",
      "3             Pet Store  0.04\n",
      "4           Pizza Place  0.04\n",
      "5          Burger Joint  0.04\n",
      "6           Coffee Shop  0.04\n",
      "7                   Gym  0.03\n",
      "8          Dessert Shop  0.03\n",
      "9    Italian Restaurant  0.03\n",
      "\n",
      "\n",
      "-----Consolação-----\n",
      "                  venue  freq\n",
      "0        Ice Cream Shop  0.10\n",
      "1  Brazilian Restaurant  0.06\n",
      "2                  Café  0.05\n",
      "3                 Hotel  0.04\n",
      "4           Pizza Place  0.04\n",
      "5               Theater  0.03\n",
      "6                   Gym  0.03\n",
      "7            Restaurant  0.03\n",
      "8             Bookstore  0.03\n",
      "9            Art Museum  0.03\n",
      "\n",
      "\n",
      "-----Itaim Bibi-----\n",
      "                     venue  freq\n",
      "0           Ice Cream Shop  0.10\n",
      "1       Italian Restaurant  0.05\n",
      "2               Restaurant  0.05\n",
      "3     Gym / Fitness Center  0.03\n",
      "4                Pet Store  0.03\n",
      "5             Cycle Studio  0.03\n",
      "6     Brazilian Restaurant  0.03\n",
      "7  Fruit & Vegetable Store  0.02\n",
      "8               Art Museum  0.02\n",
      "9           Cosmetics Shop  0.02\n",
      "\n",
      "\n",
      "-----Jardim Paulista-----\n",
      "                  venue  freq\n",
      "0        Ice Cream Shop  0.09\n",
      "1             Bookstore  0.05\n",
      "2  Brazilian Restaurant  0.04\n",
      "3             Pet Store  0.04\n",
      "4                 Hotel  0.04\n",
      "5                   Gym  0.03\n",
      "6            Art Museum  0.03\n",
      "7            Restaurant  0.03\n",
      "8          Cycle Studio  0.03\n",
      "9           Pizza Place  0.03\n",
      "\n",
      "\n",
      "-----Moema-----\n",
      "                  venue  freq\n",
      "0        Ice Cream Shop  0.10\n",
      "1            Restaurant  0.05\n",
      "2                   Bar  0.05\n",
      "3    Italian Restaurant  0.04\n",
      "4            Art Museum  0.03\n",
      "5                   Gym  0.03\n",
      "6          Cycle Studio  0.03\n",
      "7  Gym / Fitness Center  0.02\n",
      "8          Dessert Shop  0.02\n",
      "9        Cosmetics Shop  0.02\n",
      "\n",
      "\n",
      "-----Morumbi-----\n",
      "                  venue  freq\n",
      "0  Gym / Fitness Center  0.06\n",
      "1                   Gym  0.05\n",
      "2        Ice Cream Shop  0.04\n",
      "3           Coffee Shop  0.04\n",
      "4         Shopping Mall  0.04\n",
      "5              Pharmacy  0.03\n",
      "6                 Hotel  0.03\n",
      "7    Athletics & Sports  0.02\n",
      "8    Italian Restaurant  0.02\n",
      "9          Gourmet Shop  0.02\n",
      "\n",
      "\n",
      "-----Perdizes-----\n",
      "                  venue  freq\n",
      "0        Ice Cream Shop  0.06\n",
      "1           Pizza Place  0.05\n",
      "2             Pet Store  0.05\n",
      "3                  Park  0.04\n",
      "4  Brazilian Restaurant  0.04\n",
      "5                 Plaza  0.04\n",
      "6                Hostel  0.03\n",
      "7    Italian Restaurant  0.03\n",
      "8             Bookstore  0.03\n",
      "9                  Café  0.03\n",
      "\n",
      "\n",
      "-----Pinheiros-----\n",
      "                     venue  freq\n",
      "0       Italian Restaurant  0.07\n",
      "1           Ice Cream Shop  0.05\n",
      "2                    Plaza  0.05\n",
      "3     Brazilian Restaurant  0.04\n",
      "4  Fruit & Vegetable Store  0.03\n",
      "5      Japanese Restaurant  0.03\n",
      "6       Athletics & Sports  0.03\n",
      "7              Coffee Shop  0.03\n",
      "8                     Café  0.03\n",
      "9                   Hostel  0.03\n",
      "\n",
      "\n",
      "-----Santo Amaro-----\n",
      "                  venue  freq\n",
      "0             Pet Store  0.06\n",
      "1  Gym / Fitness Center  0.06\n",
      "2           Supermarket  0.05\n",
      "3           Coffee Shop  0.03\n",
      "4    Italian Restaurant  0.03\n",
      "5                 Hotel  0.03\n",
      "6                Bakery  0.03\n",
      "7                   Bar  0.03\n",
      "8            Steakhouse  0.03\n",
      "9                   Gym  0.03\n",
      "\n",
      "\n",
      "-----Vila Mariana-----\n",
      "                  venue  freq\n",
      "0        Ice Cream Shop  0.09\n",
      "1            Restaurant  0.05\n",
      "2          Dessert Shop  0.04\n",
      "3                   Bar  0.04\n",
      "4          Burger Joint  0.04\n",
      "5           Pizza Place  0.03\n",
      "6                Bakery  0.03\n",
      "7                  Park  0.03\n",
      "8                Hostel  0.03\n",
      "9  Gym / Fitness Center  0.03\n",
      "\n",
      "\n"
     ]
    }
   ],
   "source": [
    "num_top_venues = 10\n",
    "\n",
    "for hood in sp_grouped['Neighborhood']:\n",
    "    print(\"-----\"+hood+\"-----\")\n",
    "    temp = sp_grouped[sp_grouped['Neighborhood'] == hood].T.reset_index()\n",
    "    temp.columns = ['venue', 'freq']\n",
    "    temp = temp.iloc[1:]\n",
    "    temp['freq'] = temp['freq'].astype(float)\n",
    "    temp = temp.round({'freq': 2})\n",
    "    print(temp.sort_values('freq', ascending=False).reset_index(drop=True).head(num_top_venues))\n",
    "    print('\\n')"
   ]
  },
  {
   "cell_type": "markdown",
   "metadata": {},
   "source": [
    "**Let's put that into a data frame. First, let's write a function to sort the venues in descending order**"
   ]
  },
  {
   "cell_type": "code",
   "execution_count": 81,
   "metadata": {
    "ExecuteTime": {
     "end_time": "2021-04-01T15:23:58.477756Z",
     "start_time": "2021-04-01T15:23:58.461759Z"
    }
   },
   "outputs": [],
   "source": [
    "def return_most_common_venues(row, num_top_venues):\n",
    "    row_categories = row.iloc[1:]\n",
    "    row_categories_sorted = row_categories.sort_values(ascending=False)\n",
    "    \n",
    "    return row_categories_sorted.index.values[0:num_top_venues]"
   ]
  },
  {
   "cell_type": "markdown",
   "metadata": {},
   "source": [
    "**Now, let's create a new data frame and display the top 10 venues for each neighborhood**"
   ]
  },
  {
   "cell_type": "code",
   "execution_count": 82,
   "metadata": {
    "ExecuteTime": {
     "end_time": "2021-04-01T15:24:02.463858Z",
     "start_time": "2021-04-01T15:24:02.391881Z"
    }
   },
   "outputs": [
    {
     "data": {
      "text/html": [
       "<div>\n",
       "<style scoped>\n",
       "    .dataframe tbody tr th:only-of-type {\n",
       "        vertical-align: middle;\n",
       "    }\n",
       "\n",
       "    .dataframe tbody tr th {\n",
       "        vertical-align: top;\n",
       "    }\n",
       "\n",
       "    .dataframe thead th {\n",
       "        text-align: right;\n",
       "    }\n",
       "</style>\n",
       "<table border=\"1\" class=\"dataframe\">\n",
       "  <thead>\n",
       "    <tr style=\"text-align: right;\">\n",
       "      <th></th>\n",
       "      <th>Neighborhood</th>\n",
       "      <th>1st Most Common Venue</th>\n",
       "      <th>2nd Most Common Venue</th>\n",
       "      <th>3rd Most Common Venue</th>\n",
       "      <th>4th Most Common Venue</th>\n",
       "      <th>5th Most Common Venue</th>\n",
       "      <th>6th Most Common Venue</th>\n",
       "      <th>7th Most Common Venue</th>\n",
       "      <th>8th Most Common Venue</th>\n",
       "      <th>9th Most Common Venue</th>\n",
       "      <th>10th Most Common Venue</th>\n",
       "    </tr>\n",
       "  </thead>\n",
       "  <tbody>\n",
       "    <tr>\n",
       "      <th>0</th>\n",
       "      <td>Alto de Pinheiros</td>\n",
       "      <td>Ice Cream Shop</td>\n",
       "      <td>Pet Store</td>\n",
       "      <td>Brazilian Restaurant</td>\n",
       "      <td>Flower Shop</td>\n",
       "      <td>Plaza</td>\n",
       "      <td>Pizza Place</td>\n",
       "      <td>Dessert Shop</td>\n",
       "      <td>Coffee Shop</td>\n",
       "      <td>Hostel</td>\n",
       "      <td>Bar</td>\n",
       "    </tr>\n",
       "    <tr>\n",
       "      <th>1</th>\n",
       "      <td>Campo Belo</td>\n",
       "      <td>Ice Cream Shop</td>\n",
       "      <td>Brazilian Restaurant</td>\n",
       "      <td>Bar</td>\n",
       "      <td>Pizza Place</td>\n",
       "      <td>Coffee Shop</td>\n",
       "      <td>Burger Joint</td>\n",
       "      <td>Pet Store</td>\n",
       "      <td>Mineiro Restaurant</td>\n",
       "      <td>Gym</td>\n",
       "      <td>Dessert Shop</td>\n",
       "    </tr>\n",
       "    <tr>\n",
       "      <th>2</th>\n",
       "      <td>Consolação</td>\n",
       "      <td>Ice Cream Shop</td>\n",
       "      <td>Brazilian Restaurant</td>\n",
       "      <td>Café</td>\n",
       "      <td>Pizza Place</td>\n",
       "      <td>Hotel</td>\n",
       "      <td>Art Museum</td>\n",
       "      <td>Gym</td>\n",
       "      <td>Restaurant</td>\n",
       "      <td>Theater</td>\n",
       "      <td>Bookstore</td>\n",
       "    </tr>\n",
       "    <tr>\n",
       "      <th>3</th>\n",
       "      <td>Itaim Bibi</td>\n",
       "      <td>Ice Cream Shop</td>\n",
       "      <td>Restaurant</td>\n",
       "      <td>Italian Restaurant</td>\n",
       "      <td>Gym / Fitness Center</td>\n",
       "      <td>Cycle Studio</td>\n",
       "      <td>Pet Store</td>\n",
       "      <td>Brazilian Restaurant</td>\n",
       "      <td>French Restaurant</td>\n",
       "      <td>Cosmetics Shop</td>\n",
       "      <td>Hotel</td>\n",
       "    </tr>\n",
       "    <tr>\n",
       "      <th>4</th>\n",
       "      <td>Jardim Paulista</td>\n",
       "      <td>Ice Cream Shop</td>\n",
       "      <td>Bookstore</td>\n",
       "      <td>Brazilian Restaurant</td>\n",
       "      <td>Pet Store</td>\n",
       "      <td>Hotel</td>\n",
       "      <td>Pizza Place</td>\n",
       "      <td>Art Museum</td>\n",
       "      <td>Gym</td>\n",
       "      <td>Italian Restaurant</td>\n",
       "      <td>Café</td>\n",
       "    </tr>\n",
       "    <tr>\n",
       "      <th>5</th>\n",
       "      <td>Moema</td>\n",
       "      <td>Ice Cream Shop</td>\n",
       "      <td>Bar</td>\n",
       "      <td>Restaurant</td>\n",
       "      <td>Italian Restaurant</td>\n",
       "      <td>Art Museum</td>\n",
       "      <td>Gym</td>\n",
       "      <td>Cycle Studio</td>\n",
       "      <td>Park</td>\n",
       "      <td>Chocolate Shop</td>\n",
       "      <td>Salad Place</td>\n",
       "    </tr>\n",
       "    <tr>\n",
       "      <th>6</th>\n",
       "      <td>Morumbi</td>\n",
       "      <td>Gym / Fitness Center</td>\n",
       "      <td>Gym</td>\n",
       "      <td>Shopping Mall</td>\n",
       "      <td>Coffee Shop</td>\n",
       "      <td>Ice Cream Shop</td>\n",
       "      <td>Hotel</td>\n",
       "      <td>Pharmacy</td>\n",
       "      <td>Cosmetics Shop</td>\n",
       "      <td>Park</td>\n",
       "      <td>Butcher</td>\n",
       "    </tr>\n",
       "    <tr>\n",
       "      <th>7</th>\n",
       "      <td>Perdizes</td>\n",
       "      <td>Ice Cream Shop</td>\n",
       "      <td>Pizza Place</td>\n",
       "      <td>Pet Store</td>\n",
       "      <td>Plaza</td>\n",
       "      <td>Brazilian Restaurant</td>\n",
       "      <td>Park</td>\n",
       "      <td>Italian Restaurant</td>\n",
       "      <td>Hostel</td>\n",
       "      <td>Café</td>\n",
       "      <td>Bookstore</td>\n",
       "    </tr>\n",
       "    <tr>\n",
       "      <th>8</th>\n",
       "      <td>Pinheiros</td>\n",
       "      <td>Italian Restaurant</td>\n",
       "      <td>Plaza</td>\n",
       "      <td>Ice Cream Shop</td>\n",
       "      <td>Brazilian Restaurant</td>\n",
       "      <td>French Restaurant</td>\n",
       "      <td>Athletics &amp; Sports</td>\n",
       "      <td>Fruit &amp; Vegetable Store</td>\n",
       "      <td>Hostel</td>\n",
       "      <td>Coffee Shop</td>\n",
       "      <td>Restaurant</td>\n",
       "    </tr>\n",
       "    <tr>\n",
       "      <th>9</th>\n",
       "      <td>Santo Amaro</td>\n",
       "      <td>Gym / Fitness Center</td>\n",
       "      <td>Pet Store</td>\n",
       "      <td>Supermarket</td>\n",
       "      <td>Hotel</td>\n",
       "      <td>Italian Restaurant</td>\n",
       "      <td>Bar</td>\n",
       "      <td>Bakery</td>\n",
       "      <td>Steakhouse</td>\n",
       "      <td>Gym</td>\n",
       "      <td>Coffee Shop</td>\n",
       "    </tr>\n",
       "    <tr>\n",
       "      <th>10</th>\n",
       "      <td>Vila Mariana</td>\n",
       "      <td>Ice Cream Shop</td>\n",
       "      <td>Restaurant</td>\n",
       "      <td>Dessert Shop</td>\n",
       "      <td>Bar</td>\n",
       "      <td>Burger Joint</td>\n",
       "      <td>Brazilian Restaurant</td>\n",
       "      <td>Pizza Place</td>\n",
       "      <td>Gym</td>\n",
       "      <td>Gym / Fitness Center</td>\n",
       "      <td>Bakery</td>\n",
       "    </tr>\n",
       "  </tbody>\n",
       "</table>\n",
       "</div>"
      ],
      "text/plain": [
       "         Neighborhood 1st Most Common Venue 2nd Most Common Venue  \\\n",
       "0   Alto de Pinheiros        Ice Cream Shop             Pet Store   \n",
       "1          Campo Belo        Ice Cream Shop  Brazilian Restaurant   \n",
       "2          Consolação        Ice Cream Shop  Brazilian Restaurant   \n",
       "3          Itaim Bibi        Ice Cream Shop            Restaurant   \n",
       "4     Jardim Paulista        Ice Cream Shop             Bookstore   \n",
       "5               Moema        Ice Cream Shop                   Bar   \n",
       "6             Morumbi  Gym / Fitness Center                   Gym   \n",
       "7            Perdizes        Ice Cream Shop           Pizza Place   \n",
       "8           Pinheiros    Italian Restaurant                 Plaza   \n",
       "9         Santo Amaro  Gym / Fitness Center             Pet Store   \n",
       "10       Vila Mariana        Ice Cream Shop            Restaurant   \n",
       "\n",
       "   3rd Most Common Venue 4th Most Common Venue 5th Most Common Venue  \\\n",
       "0   Brazilian Restaurant           Flower Shop                 Plaza   \n",
       "1                    Bar           Pizza Place           Coffee Shop   \n",
       "2                   Café           Pizza Place                 Hotel   \n",
       "3     Italian Restaurant  Gym / Fitness Center          Cycle Studio   \n",
       "4   Brazilian Restaurant             Pet Store                 Hotel   \n",
       "5             Restaurant    Italian Restaurant            Art Museum   \n",
       "6          Shopping Mall           Coffee Shop        Ice Cream Shop   \n",
       "7              Pet Store                 Plaza  Brazilian Restaurant   \n",
       "8         Ice Cream Shop  Brazilian Restaurant     French Restaurant   \n",
       "9            Supermarket                 Hotel    Italian Restaurant   \n",
       "10          Dessert Shop                   Bar          Burger Joint   \n",
       "\n",
       "   6th Most Common Venue    7th Most Common Venue 8th Most Common Venue  \\\n",
       "0            Pizza Place             Dessert Shop           Coffee Shop   \n",
       "1           Burger Joint                Pet Store    Mineiro Restaurant   \n",
       "2             Art Museum                      Gym            Restaurant   \n",
       "3              Pet Store     Brazilian Restaurant     French Restaurant   \n",
       "4            Pizza Place               Art Museum                   Gym   \n",
       "5                    Gym             Cycle Studio                  Park   \n",
       "6                  Hotel                 Pharmacy        Cosmetics Shop   \n",
       "7                   Park       Italian Restaurant                Hostel   \n",
       "8     Athletics & Sports  Fruit & Vegetable Store                Hostel   \n",
       "9                    Bar                   Bakery            Steakhouse   \n",
       "10  Brazilian Restaurant              Pizza Place                   Gym   \n",
       "\n",
       "   9th Most Common Venue 10th Most Common Venue  \n",
       "0                 Hostel                    Bar  \n",
       "1                    Gym           Dessert Shop  \n",
       "2                Theater              Bookstore  \n",
       "3         Cosmetics Shop                  Hotel  \n",
       "4     Italian Restaurant                   Café  \n",
       "5         Chocolate Shop            Salad Place  \n",
       "6                   Park                Butcher  \n",
       "7                   Café              Bookstore  \n",
       "8            Coffee Shop             Restaurant  \n",
       "9                    Gym            Coffee Shop  \n",
       "10  Gym / Fitness Center                 Bakery  "
      ]
     },
     "execution_count": 82,
     "metadata": {},
     "output_type": "execute_result"
    }
   ],
   "source": [
    "num_top_venues = 10\n",
    "\n",
    "indicators = ['st', 'nd', 'rd']\n",
    "\n",
    "# create columns according to number of top venues\n",
    "columns = ['Neighborhood']\n",
    "for ind in np.arange(num_top_venues):\n",
    "    try:\n",
    "        columns.append('{}{} Most Common Venue'.format(ind+1, indicators[ind]))\n",
    "    except:\n",
    "        columns.append('{}th Most Common Venue'.format(ind+1))\n",
    "\n",
    "# create a data frame\n",
    "neighborhoods_venues_sorted = pd.DataFrame(columns=columns)\n",
    "neighborhoods_venues_sorted['Neighborhood'] = sp_grouped['Neighborhood']\n",
    "\n",
    "for ind in np.arange(sp_grouped.shape[0]):\n",
    "    neighborhoods_venues_sorted.iloc[ind, 1:] = return_most_common_venues(sp_grouped.iloc[ind, :], num_top_venues)\n",
    "\n",
    "neighborhoods_venues_sorted"
   ]
  },
  {
   "cell_type": "markdown",
   "metadata": {},
   "source": [
    "**Considerations:** When analyzing the data frame above, we can see that **_Pet Store_** is a very common category in the neighborhoods of **cluster 3**. This category is **_one of the 10 most common in 6 of the 11 neighborhoods analyzed_**, being the most common in _Santo Amaro_ and the second most common in _Perdizes_.\n",
    "\n",
    "In this first moment, we can consider the neighborhoods _Consolação_, _Moema_, _Morumbi_, _Pinheiros_ and _Vila Mariana_ as potential neighborhoods for the installation of the pet shop service."
   ]
  },
  {
   "cell_type": "markdown",
   "metadata": {},
   "source": [
    "**Let's create a data frame with only these potential neighborhoods**"
   ]
  },
  {
   "cell_type": "code",
   "execution_count": 83,
   "metadata": {
    "ExecuteTime": {
     "end_time": "2021-04-01T15:24:09.979855Z",
     "start_time": "2021-04-01T15:24:09.931866Z"
    },
    "scrolled": true
   },
   "outputs": [
    {
     "data": {
      "text/html": [
       "<div>\n",
       "<style scoped>\n",
       "    .dataframe tbody tr th:only-of-type {\n",
       "        vertical-align: middle;\n",
       "    }\n",
       "\n",
       "    .dataframe tbody tr th {\n",
       "        vertical-align: top;\n",
       "    }\n",
       "\n",
       "    .dataframe thead th {\n",
       "        text-align: right;\n",
       "    }\n",
       "</style>\n",
       "<table border=\"1\" class=\"dataframe\">\n",
       "  <thead>\n",
       "    <tr style=\"text-align: right;\">\n",
       "      <th></th>\n",
       "      <th>Subprefecture</th>\n",
       "      <th>Neighborhood</th>\n",
       "      <th>Latitude</th>\n",
       "      <th>Longitude</th>\n",
       "      <th>Less than 2 Minimum Wage</th>\n",
       "      <th>From 2 to Less than 5 Minimum Wage</th>\n",
       "      <th>From 5 to Less than 10 Minimum Wage</th>\n",
       "      <th>From 10 to Less than 15 Minimum Wage</th>\n",
       "      <th>From 15 to Less than 25 Minimum Wage</th>\n",
       "      <th>From 25 Minimum Wage and more</th>\n",
       "      <th>Zone</th>\n",
       "      <th>Cluster Labels</th>\n",
       "    </tr>\n",
       "  </thead>\n",
       "  <tbody>\n",
       "    <tr>\n",
       "      <th>0</th>\n",
       "      <td>Butantã</td>\n",
       "      <td>Morumbi</td>\n",
       "      <td>-23.596499</td>\n",
       "      <td>-46.717845</td>\n",
       "      <td>4.00</td>\n",
       "      <td>9.05</td>\n",
       "      <td>10.76</td>\n",
       "      <td>5.67</td>\n",
       "      <td>9.95</td>\n",
       "      <td>60.58</td>\n",
       "      <td>West</td>\n",
       "      <td>3</td>\n",
       "    </tr>\n",
       "    <tr>\n",
       "      <th>1</th>\n",
       "      <td>Pinheiros</td>\n",
       "      <td>Pinheiros</td>\n",
       "      <td>-23.566426</td>\n",
       "      <td>-46.703055</td>\n",
       "      <td>3.77</td>\n",
       "      <td>5.98</td>\n",
       "      <td>14.34</td>\n",
       "      <td>9.60</td>\n",
       "      <td>16.53</td>\n",
       "      <td>49.79</td>\n",
       "      <td>West</td>\n",
       "      <td>3</td>\n",
       "    </tr>\n",
       "    <tr>\n",
       "      <th>2</th>\n",
       "      <td>Sé</td>\n",
       "      <td>Consolação</td>\n",
       "      <td>-23.557818</td>\n",
       "      <td>-46.660537</td>\n",
       "      <td>3.77</td>\n",
       "      <td>8.33</td>\n",
       "      <td>17.19</td>\n",
       "      <td>10.49</td>\n",
       "      <td>15.74</td>\n",
       "      <td>44.47</td>\n",
       "      <td>Center</td>\n",
       "      <td>3</td>\n",
       "    </tr>\n",
       "    <tr>\n",
       "      <th>3</th>\n",
       "      <td>Vila Mariana</td>\n",
       "      <td>Moema</td>\n",
       "      <td>-23.597085</td>\n",
       "      <td>-46.662888</td>\n",
       "      <td>2.91</td>\n",
       "      <td>3.43</td>\n",
       "      <td>9.95</td>\n",
       "      <td>8.55</td>\n",
       "      <td>13.78</td>\n",
       "      <td>61.38</td>\n",
       "      <td>South</td>\n",
       "      <td>3</td>\n",
       "    </tr>\n",
       "    <tr>\n",
       "      <th>4</th>\n",
       "      <td>Vila Mariana</td>\n",
       "      <td>Vila Mariana</td>\n",
       "      <td>-23.583700</td>\n",
       "      <td>-46.632741</td>\n",
       "      <td>2.87</td>\n",
       "      <td>7.03</td>\n",
       "      <td>13.69</td>\n",
       "      <td>9.90</td>\n",
       "      <td>17.47</td>\n",
       "      <td>49.05</td>\n",
       "      <td>South</td>\n",
       "      <td>3</td>\n",
       "    </tr>\n",
       "  </tbody>\n",
       "</table>\n",
       "</div>"
      ],
      "text/plain": [
       "  Subprefecture  Neighborhood   Latitude  Longitude  Less than 2 Minimum Wage  \\\n",
       "0       Butantã       Morumbi -23.596499 -46.717845                      4.00   \n",
       "1     Pinheiros     Pinheiros -23.566426 -46.703055                      3.77   \n",
       "2            Sé    Consolação -23.557818 -46.660537                      3.77   \n",
       "3  Vila Mariana         Moema -23.597085 -46.662888                      2.91   \n",
       "4  Vila Mariana  Vila Mariana -23.583700 -46.632741                      2.87   \n",
       "\n",
       "   From 2 to Less than 5 Minimum Wage  From 5 to Less than 10 Minimum Wage  \\\n",
       "0                                9.05                                10.76   \n",
       "1                                5.98                                14.34   \n",
       "2                                8.33                                17.19   \n",
       "3                                3.43                                 9.95   \n",
       "4                                7.03                                13.69   \n",
       "\n",
       "   From 10 to Less than 15 Minimum Wage  From 15 to Less than 25 Minimum Wage  \\\n",
       "0                                  5.67                                  9.95   \n",
       "1                                  9.60                                 16.53   \n",
       "2                                 10.49                                 15.74   \n",
       "3                                  8.55                                 13.78   \n",
       "4                                  9.90                                 17.47   \n",
       "\n",
       "   From 25 Minimum Wage and more    Zone  Cluster Labels  \n",
       "0                          60.58    West               3  \n",
       "1                          49.79    West               3  \n",
       "2                          44.47  Center               3  \n",
       "3                          61.38   South               3  \n",
       "4                          49.05   South               3  "
      ]
     },
     "execution_count": 83,
     "metadata": {},
     "output_type": "execute_result"
    }
   ],
   "source": [
    "df_cluster3_filtered = df_cluster3[(df_cluster3['Neighborhood'] == 'Consolação') |\n",
    "                                   (df_cluster3['Neighborhood'] == 'Moema') |\n",
    "                                   (df_cluster3['Neighborhood'] == 'Morumbi') |\n",
    "                                   (df_cluster3['Neighborhood'] == 'Pinheiros') |\n",
    "                                   (df_cluster3['Neighborhood'] == 'Vila Mariana')]\n",
    "df_cluster3_filtered.reset_index(drop=True)"
   ]
  },
  {
   "cell_type": "markdown",
   "metadata": {},
   "source": [
    "**Now we create a function to list the pet store venues in each potencial neighborhood**"
   ]
  },
  {
   "cell_type": "code",
   "execution_count": 84,
   "metadata": {
    "ExecuteTime": {
     "end_time": "2021-04-01T15:24:13.300996Z",
     "start_time": "2021-04-01T15:24:13.277014Z"
    }
   },
   "outputs": [],
   "source": [
    "def get_pet_venues(names, latitudes, longitudes):\n",
    "    pet_venues_list = []\n",
    "    \n",
    "    for name, lat, lng in zip(names, latitudes, longitudes):\n",
    "        print(name)\n",
    "\n",
    "        # create API request URL\n",
    "        url = 'https://api.foursquare.com/v2/venues/explore'\n",
    "\n",
    "        params = dict(\n",
    "        client_id=CLIENT_ID,\n",
    "        client_secret=CLIENT_SECRET,\n",
    "        v='20180605',\n",
    "        ll=f'{lat},{lng}',\n",
    "        query='Pet Store',\n",
    "        radius=1000,\n",
    "        limit=100\n",
    "        )\n",
    "        resp = requests.get(url=url, params=params)\n",
    "        data = json.loads(resp.text)\n",
    "\n",
    "        results = data['response']['groups'][0]['items']\n",
    "\n",
    "        # return only relevant information\n",
    "        pet_venues_list.append([(\n",
    "            name,\n",
    "            lat,\n",
    "            lng,\n",
    "            v['venue']['name'],\n",
    "            v['venue']['id'],\n",
    "            v['venue']['location']['lat'],\n",
    "            v['venue']['location']['lng'],\n",
    "            v['venue']['categories'][0]['name']) for v in results])\n",
    "  \n",
    "    pet_venues = pd.DataFrame([item for venue_list in pet_venues_list for item in venue_list])\n",
    "    pet_venues.columns = ['Neighborhood',\n",
    "                               'Neighborhood Latitude',\n",
    "                               'Neighborhood Longitude',\n",
    "                               'Venue',\n",
    "                               'ID',\n",
    "                               'Venue Latitude',\n",
    "                               'Venue Longitude',\n",
    "                               'Venue Category']\n",
    "    return (pet_venues)"
   ]
  },
  {
   "cell_type": "markdown",
   "metadata": {},
   "source": [
    "**Create a data frame for the pet shop venues**"
   ]
  },
  {
   "cell_type": "code",
   "execution_count": 85,
   "metadata": {
    "ExecuteTime": {
     "end_time": "2021-04-01T15:24:19.669472Z",
     "start_time": "2021-04-01T15:24:16.594816Z"
    },
    "scrolled": true
   },
   "outputs": [
    {
     "name": "stdout",
     "output_type": "stream",
     "text": [
      "Morumbi\n",
      "Pinheiros\n",
      "Consolação\n",
      "Moema\n",
      "Vila Mariana\n"
     ]
    }
   ],
   "source": [
    "pet_venues = get_pet_venues(names=df_cluster3_filtered['Neighborhood'],\n",
    "                             latitudes=df_cluster3_filtered['Latitude'],\n",
    "                             longitudes=df_cluster3_filtered['Longitude'])"
   ]
  },
  {
   "cell_type": "code",
   "execution_count": 87,
   "metadata": {
    "ExecuteTime": {
     "end_time": "2021-04-01T15:24:29.991634Z",
     "start_time": "2021-04-01T15:24:29.951635Z"
    },
    "scrolled": true
   },
   "outputs": [
    {
     "data": {
      "text/html": [
       "<div>\n",
       "<style scoped>\n",
       "    .dataframe tbody tr th:only-of-type {\n",
       "        vertical-align: middle;\n",
       "    }\n",
       "\n",
       "    .dataframe tbody tr th {\n",
       "        vertical-align: top;\n",
       "    }\n",
       "\n",
       "    .dataframe thead th {\n",
       "        text-align: right;\n",
       "    }\n",
       "</style>\n",
       "<table border=\"1\" class=\"dataframe\">\n",
       "  <thead>\n",
       "    <tr style=\"text-align: right;\">\n",
       "      <th></th>\n",
       "      <th>Neighborhood</th>\n",
       "      <th>Neighborhood Latitude</th>\n",
       "      <th>Neighborhood Longitude</th>\n",
       "      <th>Venue</th>\n",
       "      <th>ID</th>\n",
       "      <th>Venue Latitude</th>\n",
       "      <th>Venue Longitude</th>\n",
       "      <th>Venue Category</th>\n",
       "    </tr>\n",
       "  </thead>\n",
       "  <tbody>\n",
       "    <tr>\n",
       "      <th>0</th>\n",
       "      <td>Morumbi</td>\n",
       "      <td>-23.596499</td>\n",
       "      <td>-46.717845</td>\n",
       "      <td>BB Dogs &amp; Cats</td>\n",
       "      <td>4d0f581bd467236a9d93bd4a</td>\n",
       "      <td>-23.591229</td>\n",
       "      <td>-46.720096</td>\n",
       "      <td>Pet Store</td>\n",
       "    </tr>\n",
       "    <tr>\n",
       "      <th>1</th>\n",
       "      <td>Morumbi</td>\n",
       "      <td>-23.596499</td>\n",
       "      <td>-46.717845</td>\n",
       "      <td>Mundo Zoo</td>\n",
       "      <td>4bb78f58cf2fc9b6b1669e02</td>\n",
       "      <td>-23.590506</td>\n",
       "      <td>-46.716664</td>\n",
       "      <td>Pet Store</td>\n",
       "    </tr>\n",
       "    <tr>\n",
       "      <th>2</th>\n",
       "      <td>Morumbi</td>\n",
       "      <td>-23.596499</td>\n",
       "      <td>-46.717845</td>\n",
       "      <td>Eco Pet Store do Brasil</td>\n",
       "      <td>4f92dcc7e4b0c98ce0335efa</td>\n",
       "      <td>-23.590095</td>\n",
       "      <td>-46.717255</td>\n",
       "      <td>Pet Store</td>\n",
       "    </tr>\n",
       "    <tr>\n",
       "      <th>3</th>\n",
       "      <td>Morumbi</td>\n",
       "      <td>-23.596499</td>\n",
       "      <td>-46.717845</td>\n",
       "      <td>Metazooa Pet Store</td>\n",
       "      <td>4e5bf9d2d4c0c4d56970643b</td>\n",
       "      <td>-23.591000</td>\n",
       "      <td>-46.719302</td>\n",
       "      <td>Pet Store</td>\n",
       "    </tr>\n",
       "    <tr>\n",
       "      <th>4</th>\n",
       "      <td>Morumbi</td>\n",
       "      <td>-23.596499</td>\n",
       "      <td>-46.717845</td>\n",
       "      <td>Club Pet Shop</td>\n",
       "      <td>578ccc69498e2228cf4fe9e0</td>\n",
       "      <td>-23.590047</td>\n",
       "      <td>-46.717298</td>\n",
       "      <td>Pet Store</td>\n",
       "    </tr>\n",
       "    <tr>\n",
       "      <th>5</th>\n",
       "      <td>Morumbi</td>\n",
       "      <td>-23.596499</td>\n",
       "      <td>-46.717845</td>\n",
       "      <td>Mimos</td>\n",
       "      <td>4c001fc737850f4742c6973f</td>\n",
       "      <td>-23.589087</td>\n",
       "      <td>-46.719921</td>\n",
       "      <td>Pet Store</td>\n",
       "    </tr>\n",
       "    <tr>\n",
       "      <th>6</th>\n",
       "      <td>Pinheiros</td>\n",
       "      <td>-23.566426</td>\n",
       "      <td>-46.703055</td>\n",
       "      <td>Vida Animal</td>\n",
       "      <td>56c5a366cd101c2cce4989c8</td>\n",
       "      <td>-23.561675</td>\n",
       "      <td>-46.700191</td>\n",
       "      <td>Pet Store</td>\n",
       "    </tr>\n",
       "    <tr>\n",
       "      <th>7</th>\n",
       "      <td>Pinheiros</td>\n",
       "      <td>-23.566426</td>\n",
       "      <td>-46.703055</td>\n",
       "      <td>Mundo Animal</td>\n",
       "      <td>4da9a5374b22f071eaa3935b</td>\n",
       "      <td>-23.573143</td>\n",
       "      <td>-46.703809</td>\n",
       "      <td>Pet Store</td>\n",
       "    </tr>\n",
       "    <tr>\n",
       "      <th>8</th>\n",
       "      <td>Pinheiros</td>\n",
       "      <td>-23.566426</td>\n",
       "      <td>-46.703055</td>\n",
       "      <td>Pet home Grupo Filhotes Net</td>\n",
       "      <td>4fc7bcdbe4b0b85ee23d076a</td>\n",
       "      <td>-23.571783</td>\n",
       "      <td>-46.710041</td>\n",
       "      <td>Pet Store</td>\n",
       "    </tr>\n",
       "    <tr>\n",
       "      <th>9</th>\n",
       "      <td>Pinheiros</td>\n",
       "      <td>-23.566426</td>\n",
       "      <td>-46.703055</td>\n",
       "      <td>meuamigopet</td>\n",
       "      <td>51325ee0e4b090129808129e</td>\n",
       "      <td>-23.572834</td>\n",
       "      <td>-46.696793</td>\n",
       "      <td>Pet Store</td>\n",
       "    </tr>\n",
       "  </tbody>\n",
       "</table>\n",
       "</div>"
      ],
      "text/plain": [
       "  Neighborhood  Neighborhood Latitude  Neighborhood Longitude  \\\n",
       "0      Morumbi             -23.596499              -46.717845   \n",
       "1      Morumbi             -23.596499              -46.717845   \n",
       "2      Morumbi             -23.596499              -46.717845   \n",
       "3      Morumbi             -23.596499              -46.717845   \n",
       "4      Morumbi             -23.596499              -46.717845   \n",
       "5      Morumbi             -23.596499              -46.717845   \n",
       "6    Pinheiros             -23.566426              -46.703055   \n",
       "7    Pinheiros             -23.566426              -46.703055   \n",
       "8    Pinheiros             -23.566426              -46.703055   \n",
       "9    Pinheiros             -23.566426              -46.703055   \n",
       "\n",
       "                         Venue                        ID  Venue Latitude  \\\n",
       "0               BB Dogs & Cats  4d0f581bd467236a9d93bd4a      -23.591229   \n",
       "1                    Mundo Zoo  4bb78f58cf2fc9b6b1669e02      -23.590506   \n",
       "2      Eco Pet Store do Brasil  4f92dcc7e4b0c98ce0335efa      -23.590095   \n",
       "3           Metazooa Pet Store  4e5bf9d2d4c0c4d56970643b      -23.591000   \n",
       "4                Club Pet Shop  578ccc69498e2228cf4fe9e0      -23.590047   \n",
       "5                        Mimos  4c001fc737850f4742c6973f      -23.589087   \n",
       "6                  Vida Animal  56c5a366cd101c2cce4989c8      -23.561675   \n",
       "7                 Mundo Animal  4da9a5374b22f071eaa3935b      -23.573143   \n",
       "8  Pet home Grupo Filhotes Net  4fc7bcdbe4b0b85ee23d076a      -23.571783   \n",
       "9                  meuamigopet  51325ee0e4b090129808129e      -23.572834   \n",
       "\n",
       "   Venue Longitude Venue Category  \n",
       "0       -46.720096      Pet Store  \n",
       "1       -46.716664      Pet Store  \n",
       "2       -46.717255      Pet Store  \n",
       "3       -46.719302      Pet Store  \n",
       "4       -46.717298      Pet Store  \n",
       "5       -46.719921      Pet Store  \n",
       "6       -46.700191      Pet Store  \n",
       "7       -46.703809      Pet Store  \n",
       "8       -46.710041      Pet Store  \n",
       "9       -46.696793      Pet Store  "
      ]
     },
     "execution_count": 87,
     "metadata": {},
     "output_type": "execute_result"
    }
   ],
   "source": [
    "pet_venues.head(10)"
   ]
  },
  {
   "cell_type": "markdown",
   "metadata": {},
   "source": [
    "**Let's look for the neighborhoods that presents the minimum competition for a new pet shop service.**"
   ]
  },
  {
   "cell_type": "code",
   "execution_count": 88,
   "metadata": {
    "ExecuteTime": {
     "end_time": "2021-04-01T15:24:35.439259Z",
     "start_time": "2021-04-01T15:24:35.415276Z"
    }
   },
   "outputs": [
    {
     "data": {
      "text/plain": [
       "Pinheiros        4\n",
       "Morumbi          6\n",
       "Moema           15\n",
       "Vila Mariana    18\n",
       "Consolação      21\n",
       "Name: Neighborhood, dtype: int64"
      ]
     },
     "execution_count": 88,
     "metadata": {},
     "output_type": "execute_result"
    }
   ],
   "source": [
    "pet_venues['Neighborhood'].value_counts(ascending=True)"
   ]
  },
  {
   "cell_type": "markdown",
   "metadata": {},
   "source": [
    "## Conclusion"
   ]
  },
  {
   "cell_type": "markdown",
   "metadata": {},
   "source": [
    "After analyzing the neighborhoods in the city of São Paulo, it can be concluded that there are 3 potential neighborhoods to start a pet shop service, they are: _Pinheiros_, _Morumbi_, and _Moema_.\n",
    "\n",
    "- **1st: Pinheiros**: is known as a neighborhood that receives people from the most diverse backgrounds: students, businessmen, musicians and artists. Likewise, commerce is wide and varied: trendy restaurants, bars, offices of large companies, luxury shopping malls and popular stores. Parks, renowned hospitals, schools and universities of excellence are also nearby. It is a mix of residential and commercial spaces. We can expect low competitiveness for the new pet shop service, since we found only 4 registered pet shops in the neighborhood.\n",
    "\n",
    "\n",
    "- **2nd: Morumbi**: Neighborhood located in the West Zone of the city of Sâo Paulo, has excellent infrastructure and has hotels, shopping malls, hospitals, restaurants and commercial buildings. Morumbi also has the second highest percentage of residents earning 25 minimum wages or more, and among the neighborhoods above it is the one with the second lowest number of pet shops, only 6. Low competitiveness and high income residents are good factors to start a pet shop service in the neighborhood.\n",
    "\n",
    "\n",
    "- **3rd: Moema**:  Neighborhood located in the South Zone of São Paulo. Like the other neighborhoods already mentioned, it has excellent infrastructure and services. Among the neighborhoods where residents earn 25 minimum wages or more, it occupies the eighth position. Potential competitiveness is expected for a pet shop service, since 18 services of this category were registered in the neighborhood."
   ]
  },
  {
   "cell_type": "code",
   "execution_count": null,
   "metadata": {},
   "outputs": [],
   "source": []
  }
 ],
 "metadata": {
  "kernelspec": {
   "display_name": "Python 3",
   "language": "python",
   "name": "python3"
  },
  "language_info": {
   "codemirror_mode": {
    "name": "ipython",
    "version": 3
   },
   "file_extension": ".py",
   "mimetype": "text/x-python",
   "name": "python",
   "nbconvert_exporter": "python",
   "pygments_lexer": "ipython3",
   "version": "3.8.3"
  },
  "nbTranslate": {
   "displayLangs": [],
   "hotkey": "alt-t",
   "langInMainMenu": true,
   "sourceLang": "pt",
   "targetLang": "en",
   "useGoogleTranslate": true
  },
  "toc": {
   "base_numbering": 1,
   "nav_menu": {
    "height": "12px",
    "width": "257px"
   },
   "number_sections": true,
   "sideBar": true,
   "skip_h1_title": false,
   "title_cell": "Table of Contents",
   "title_sidebar": "Contents",
   "toc_cell": false,
   "toc_position": {
    "height": "calc(100% - 180px)",
    "left": "10px",
    "top": "150px",
    "width": "255px"
   },
   "toc_section_display": true,
   "toc_window_display": true
  },
  "varInspector": {
   "cols": {
    "lenName": 16,
    "lenType": 16,
    "lenVar": 40
   },
   "kernels_config": {
    "python": {
     "delete_cmd_postfix": "",
     "delete_cmd_prefix": "del ",
     "library": "var_list.py",
     "varRefreshCmd": "print(var_dic_list())"
    },
    "r": {
     "delete_cmd_postfix": ") ",
     "delete_cmd_prefix": "rm(",
     "library": "var_list.r",
     "varRefreshCmd": "cat(var_dic_list()) "
    }
   },
   "types_to_exclude": [
    "module",
    "function",
    "builtin_function_or_method",
    "instance",
    "_Feature"
   ],
   "window_display": false
  }
 },
 "nbformat": 4,
 "nbformat_minor": 4
}
