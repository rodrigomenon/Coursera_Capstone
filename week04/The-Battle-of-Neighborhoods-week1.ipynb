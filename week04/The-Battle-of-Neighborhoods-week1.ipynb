{
 "cells": [
  {
   "cell_type": "markdown",
   "metadata": {},
   "source": [
    "# The Battle of Neighborhoods - Week 1"
   ]
  },
  {
   "cell_type": "markdown",
   "metadata": {},
   "source": [
    "## Introduction and Business Problem"
   ]
  },
  {
   "cell_type": "markdown",
   "metadata": {},
   "source": [
    "According to the [article](http://abinpet.org.br/mercado/) by the **Brazilian Association of the Pet Products Industry (ABInpet)**, on the pet market in Brazil in 2019, the population of animals in the country was 141.6 million, being:\n",
    "\n",
    "- Dogs: 55.1 million;\n",
    "- Ornamental and songbirds: 40 million;\n",
    "- Cats: 24.7 million;\n",
    "- Ornamental fish: 19.4 million;\n",
    "- Other animals: 2.4 million\n",
    "\n",
    "Accumulated growth (2018/2019):\n",
    "\n",
    "- Dogs: 1.7%;\n",
    "- Cats: 3.0%;\n",
    "- Fish: 1.5%;\n",
    "- Birds: 0.5%;\n",
    "- Reptiles and Small Mammals: 4.0%;\n",
    "- Overall Average: 1.7%\n",
    "\n",
    "<img src='files/populacao-pet-brasil-2019.png' width=\"700\" height=\"350\">\n",
    "\n",
    "According to the [article](faturamento-mercadopet2019) by **Instituto Pet Brasil**, these numbers confirm the trend identified by the Institute: more and more people and families are looking for a pet for company, giving and receiving affection and attention. However, with the largest number of people living alone, and in smaller spaces, there is a clear growth for animals whose daily care is simpler, or that at least require less space. That is why this growth of felines occurs, especially in larger cities.\n",
    "\n",
    "The survey also mapped where the pets are by state and regions of Brazil. In 2018, the highest concentration of pets was in the Southeast, with 47.4%.\n",
    "\n",
    "Next is the Northeast with 21.4%; South 17.6%; Midwest with 7.2% and North with 6.3%. The reason is the lower population density in these states when compared to states in other regions of the country.\n",
    "\n",
    "Also according to the Institute, the largest concentration of cats in the country is in the states of São Paulo (21.6%), Rio de Janeiro (9.1%), Minas Gerais (7.2%) and Rio Grande do Sul (7.2%). In relation to dogs, there is a greater representation in the states of São Paulo (24.5%) and Minas Gerais (10.0%). The same occurs in the concentration of birds, it is also higher in these states. The highest concentration of fish occurs in São Paulo (47.1%), Santa Catarina (9.8%) and Minas Gerais (9%)."
   ]
  },
  {
   "cell_type": "markdown",
   "metadata": {},
   "source": [
    "**Pet Industry Billing in 2019**\n",
    "\n",
    "<img src=\"files/faturamento-mercadopet2019.png\" width=\"800\" heigh=\"400\">\n",
    "\n",
    "- The turnover of the pet market in 2019 was R $ 22.3 billion, of which:\n",
    "\n",
    "    - 73.3% in pet food;\n",
    "    - 18.4% by pet vet;\n",
    "    - 8.3% in pet care;\n",
    "    \n",
    "\n",
    "- The sector's growth in 2018/2019, by segment, was:\n",
    "\n",
    "    - 15% by pet vet;\n",
    "    - 8.5% in pet care;\n",
    "    - 8.4% in pet food;"
   ]
  },
  {
   "cell_type": "markdown",
   "metadata": {},
   "source": [
    "### Considerations\n",
    "\n",
    "The affection that many owners have for their animals, often considering them a member of the family, justifies the proliferation of pet shops. Today, pet products and services stores specialize in offering products essential to the sophisticated daily life of these adorable domestic creatures.\n",
    "\n",
    "According to the [article](http://abinpet.org.br/mercado/), we can conclude that the petcare market is very promising, in addition to being in full expansion.\n",
    "\n",
    "The highest concentration of pet is in the Southeast, with the highest concentration of animals in the State of São Paulo.\n",
    "\n",
    "In addition to providing a good service and a good price, the location of the enterprise is fundamental to the success of the business.\n",
    "\n",
    "### Business Problem:\n",
    "\n",
    "So this project will try to answer two main questions:\n",
    "\n",
    "- Where should a business owner open a petcare company in São Paulo?\n",
    "- In which neighborhoods are the best petcare services in São Paulo?"
   ]
  },
  {
   "cell_type": "markdown",
   "metadata": {},
   "source": [
    "## Data\n",
    "\n",
    "To answer the questions above, we will need information about the neighborhoods of São Paulo, such as latitude, longitude, category of places, number of places for pet care.\n"
   ]
  },
  {
   "cell_type": "markdown",
   "metadata": {},
   "source": [
    "## Metodology and Target Audience\n",
    "\n",
    "### Metodology:\n",
    "\n",
    "We will use data from geographic coordinates of the city of São Paulo to map its neighborhoods.\n",
    "\n",
    "Next, we will use the Foursquare API to collect neighborhood data and information about venues, such as category and quantities, to help us identify and suggest potential places to start a pet business.\n",
    "\n",
    "### Target Audience:\n",
    "\n",
    "This project should be interesting for potential entrepreneurs in the petcare industry, as well as consumers who want to better understand the market and the availability of this type of service in the city of São Paulo."
   ]
  }
 ],
 "metadata": {
  "kernelspec": {
   "display_name": "Python 3",
   "language": "python",
   "name": "python3"
  },
  "language_info": {
   "codemirror_mode": {
    "name": "ipython",
    "version": 3
   },
   "file_extension": ".py",
   "mimetype": "text/x-python",
   "name": "python",
   "nbconvert_exporter": "python",
   "pygments_lexer": "ipython3",
   "version": "3.8.3"
  },
  "nbTranslate": {
   "displayLangs": [
    "*"
   ],
   "hotkey": "alt-t",
   "langInMainMenu": true,
   "sourceLang": "en",
   "targetLang": "fr",
   "useGoogleTranslate": true
  },
  "toc": {
   "base_numbering": 1,
   "nav_menu": {},
   "number_sections": true,
   "sideBar": true,
   "skip_h1_title": false,
   "title_cell": "Table of Contents",
   "title_sidebar": "Contents",
   "toc_cell": false,
   "toc_position": {
    "height": "calc(100% - 180px)",
    "left": "10px",
    "top": "150px",
    "width": "193.2px"
   },
   "toc_section_display": true,
   "toc_window_display": false
  }
 },
 "nbformat": 4,
 "nbformat_minor": 4
}
